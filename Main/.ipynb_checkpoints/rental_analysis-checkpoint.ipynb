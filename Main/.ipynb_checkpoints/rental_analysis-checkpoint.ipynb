{
 "cells": [
  {
   "cell_type": "markdown",
   "metadata": {},
   "source": [
    "# Toronto Dwellings Analysis\n",
    "\n",
    "In this assignment, you will perform fundamental analysis for the Toronto dwellings market to allow potential real estate investors to choose rental investment properties."
   ]
  },
  {
   "cell_type": "code",
   "execution_count": 9,
   "metadata": {},
   "outputs": [],
   "source": [
    "# imports\n",
    "import panel as pn\n",
    "pn.extension('plotly')\n",
    "import plotly.express as px\n",
    "import pandas as pd\n",
    "import hvplot.pandas\n",
    "import matplotlib.pyplot as plt\n",
    "import os\n",
    "from pathlib import Path\n",
    "from dotenv import load_dotenv"
   ]
  },
  {
   "cell_type": "code",
   "execution_count": 11,
   "metadata": {},
   "outputs": [],
   "source": [
    "# Read the Mapbox API key\n",
    "load_dotenv()\n",
    "map_box_api = os.getenv(\"mapbox\")\n"
   ]
  },
  {
   "cell_type": "code",
   "execution_count": 12,
   "metadata": {},
   "outputs": [
    {
     "data": {
      "text/plain": [
       "str"
      ]
     },
     "execution_count": 12,
     "metadata": {},
     "output_type": "execute_result"
    }
   ],
   "source": [
    "type(map_box_api)"
   ]
  },
  {
   "cell_type": "markdown",
   "metadata": {},
   "source": [
    "## Load Data"
   ]
  },
  {
   "cell_type": "code",
   "execution_count": 13,
   "metadata": {},
   "outputs": [
    {
     "data": {
      "text/html": [
       "<div>\n",
       "<style scoped>\n",
       "    .dataframe tbody tr th:only-of-type {\n",
       "        vertical-align: middle;\n",
       "    }\n",
       "\n",
       "    .dataframe tbody tr th {\n",
       "        vertical-align: top;\n",
       "    }\n",
       "\n",
       "    .dataframe thead th {\n",
       "        text-align: right;\n",
       "    }\n",
       "</style>\n",
       "<table border=\"1\" class=\"dataframe\">\n",
       "  <thead>\n",
       "    <tr style=\"text-align: right;\">\n",
       "      <th></th>\n",
       "      <th>neighbourhood</th>\n",
       "      <th>single_detached_house</th>\n",
       "      <th>apartment_five_storeys_plus</th>\n",
       "      <th>movable_dwelling</th>\n",
       "      <th>semi_detached_house</th>\n",
       "      <th>row_house</th>\n",
       "      <th>duplex</th>\n",
       "      <th>apartment_five_storeys_less</th>\n",
       "      <th>other_house</th>\n",
       "      <th>average_house_value</th>\n",
       "      <th>shelter_costs_owned</th>\n",
       "      <th>shelter_costs_rented</th>\n",
       "    </tr>\n",
       "    <tr>\n",
       "      <th>year</th>\n",
       "      <th></th>\n",
       "      <th></th>\n",
       "      <th></th>\n",
       "      <th></th>\n",
       "      <th></th>\n",
       "      <th></th>\n",
       "      <th></th>\n",
       "      <th></th>\n",
       "      <th></th>\n",
       "      <th></th>\n",
       "      <th></th>\n",
       "      <th></th>\n",
       "    </tr>\n",
       "  </thead>\n",
       "  <tbody>\n",
       "    <tr>\n",
       "      <th>2001</th>\n",
       "      <td>Agincourt North</td>\n",
       "      <td>3715</td>\n",
       "      <td>1480</td>\n",
       "      <td>0</td>\n",
       "      <td>1055</td>\n",
       "      <td>1295</td>\n",
       "      <td>195</td>\n",
       "      <td>185</td>\n",
       "      <td>5</td>\n",
       "      <td>200388</td>\n",
       "      <td>810</td>\n",
       "      <td>870</td>\n",
       "    </tr>\n",
       "    <tr>\n",
       "      <th>2001</th>\n",
       "      <td>Agincourt South-Malvern West</td>\n",
       "      <td>3250</td>\n",
       "      <td>1835</td>\n",
       "      <td>0</td>\n",
       "      <td>545</td>\n",
       "      <td>455</td>\n",
       "      <td>105</td>\n",
       "      <td>425</td>\n",
       "      <td>0</td>\n",
       "      <td>203047</td>\n",
       "      <td>806</td>\n",
       "      <td>892</td>\n",
       "    </tr>\n",
       "    <tr>\n",
       "      <th>2001</th>\n",
       "      <td>Alderwood</td>\n",
       "      <td>3175</td>\n",
       "      <td>315</td>\n",
       "      <td>0</td>\n",
       "      <td>470</td>\n",
       "      <td>50</td>\n",
       "      <td>185</td>\n",
       "      <td>370</td>\n",
       "      <td>0</td>\n",
       "      <td>259998</td>\n",
       "      <td>817</td>\n",
       "      <td>924</td>\n",
       "    </tr>\n",
       "    <tr>\n",
       "      <th>2001</th>\n",
       "      <td>Annex</td>\n",
       "      <td>1060</td>\n",
       "      <td>6090</td>\n",
       "      <td>5</td>\n",
       "      <td>1980</td>\n",
       "      <td>605</td>\n",
       "      <td>275</td>\n",
       "      <td>3710</td>\n",
       "      <td>165</td>\n",
       "      <td>453850</td>\n",
       "      <td>1027</td>\n",
       "      <td>1378</td>\n",
       "    </tr>\n",
       "    <tr>\n",
       "      <th>2001</th>\n",
       "      <td>Banbury-Don Mills</td>\n",
       "      <td>3615</td>\n",
       "      <td>4465</td>\n",
       "      <td>0</td>\n",
       "      <td>240</td>\n",
       "      <td>380</td>\n",
       "      <td>15</td>\n",
       "      <td>1360</td>\n",
       "      <td>0</td>\n",
       "      <td>371864</td>\n",
       "      <td>1007</td>\n",
       "      <td>1163</td>\n",
       "    </tr>\n",
       "  </tbody>\n",
       "</table>\n",
       "</div>"
      ],
      "text/plain": [
       "                     neighbourhood  single_detached_house  \\\n",
       "year                                                        \n",
       "2001               Agincourt North                   3715   \n",
       "2001  Agincourt South-Malvern West                   3250   \n",
       "2001                     Alderwood                   3175   \n",
       "2001                         Annex                   1060   \n",
       "2001             Banbury-Don Mills                   3615   \n",
       "\n",
       "      apartment_five_storeys_plus  movable_dwelling  semi_detached_house  \\\n",
       "year                                                                       \n",
       "2001                         1480                 0                 1055   \n",
       "2001                         1835                 0                  545   \n",
       "2001                          315                 0                  470   \n",
       "2001                         6090                 5                 1980   \n",
       "2001                         4465                 0                  240   \n",
       "\n",
       "      row_house  duplex  apartment_five_storeys_less  other_house  \\\n",
       "year                                                                \n",
       "2001       1295     195                          185            5   \n",
       "2001        455     105                          425            0   \n",
       "2001         50     185                          370            0   \n",
       "2001        605     275                         3710          165   \n",
       "2001        380      15                         1360            0   \n",
       "\n",
       "      average_house_value  shelter_costs_owned  shelter_costs_rented  \n",
       "year                                                                  \n",
       "2001               200388                  810                   870  \n",
       "2001               203047                  806                   892  \n",
       "2001               259998                  817                   924  \n",
       "2001               453850                 1027                  1378  \n",
       "2001               371864                 1007                  1163  "
      ]
     },
     "execution_count": 13,
     "metadata": {},
     "output_type": "execute_result"
    }
   ],
   "source": [
    "# Read the census data into a Pandas DataFrame\n",
    "file_path = Path(\"Data/toronto_neighbourhoods_census_data.csv\")\n",
    "to_data = pd.read_csv(file_path, index_col=\"year\")\n",
    "to_data.head()"
   ]
  },
  {
   "cell_type": "markdown",
   "metadata": {},
   "source": [
    "- - - "
   ]
  },
  {
   "cell_type": "markdown",
   "metadata": {},
   "source": [
    "## Dwelling Types Per Year\n",
    "\n",
    "In this section, you will calculate the number of dwelling types per year. Visualize the results using bar charts and the Pandas plot function. \n",
    "\n",
    "**Hint:** Use the Pandas `groupby` function.\n",
    "\n",
    "**Optional challenge:** Plot each bar chart in a different color."
   ]
  },
  {
   "cell_type": "code",
   "execution_count": 14,
   "metadata": {},
   "outputs": [
    {
     "data": {
      "text/html": [
       "<div>\n",
       "<style scoped>\n",
       "    .dataframe tbody tr th:only-of-type {\n",
       "        vertical-align: middle;\n",
       "    }\n",
       "\n",
       "    .dataframe tbody tr th {\n",
       "        vertical-align: top;\n",
       "    }\n",
       "\n",
       "    .dataframe thead th {\n",
       "        text-align: right;\n",
       "    }\n",
       "</style>\n",
       "<table border=\"1\" class=\"dataframe\">\n",
       "  <thead>\n",
       "    <tr style=\"text-align: right;\">\n",
       "      <th></th>\n",
       "      <th>single_detached_house</th>\n",
       "      <th>apartment_five_storeys_plus</th>\n",
       "      <th>movable_dwelling</th>\n",
       "      <th>semi_detached_house</th>\n",
       "      <th>row_house</th>\n",
       "      <th>duplex</th>\n",
       "      <th>apartment_five_storeys_less</th>\n",
       "      <th>other_house</th>\n",
       "    </tr>\n",
       "    <tr>\n",
       "      <th>year</th>\n",
       "      <th></th>\n",
       "      <th></th>\n",
       "      <th></th>\n",
       "      <th></th>\n",
       "      <th></th>\n",
       "      <th></th>\n",
       "      <th></th>\n",
       "      <th></th>\n",
       "    </tr>\n",
       "  </thead>\n",
       "  <tbody>\n",
       "    <tr>\n",
       "      <th>2001</th>\n",
       "      <td>300930</td>\n",
       "      <td>355015</td>\n",
       "      <td>75</td>\n",
       "      <td>90995</td>\n",
       "      <td>52355</td>\n",
       "      <td>23785</td>\n",
       "      <td>116900</td>\n",
       "      <td>3040</td>\n",
       "    </tr>\n",
       "    <tr>\n",
       "      <th>2006</th>\n",
       "      <td>266860</td>\n",
       "      <td>379400</td>\n",
       "      <td>165</td>\n",
       "      <td>69430</td>\n",
       "      <td>54690</td>\n",
       "      <td>44095</td>\n",
       "      <td>162850</td>\n",
       "      <td>1335</td>\n",
       "    </tr>\n",
       "    <tr>\n",
       "      <th>2011</th>\n",
       "      <td>274940</td>\n",
       "      <td>429220</td>\n",
       "      <td>100</td>\n",
       "      <td>72480</td>\n",
       "      <td>60355</td>\n",
       "      <td>44750</td>\n",
       "      <td>163895</td>\n",
       "      <td>2165</td>\n",
       "    </tr>\n",
       "    <tr>\n",
       "      <th>2016</th>\n",
       "      <td>269680</td>\n",
       "      <td>493270</td>\n",
       "      <td>95</td>\n",
       "      <td>71200</td>\n",
       "      <td>61565</td>\n",
       "      <td>48585</td>\n",
       "      <td>165575</td>\n",
       "      <td>2845</td>\n",
       "    </tr>\n",
       "  </tbody>\n",
       "</table>\n",
       "</div>"
      ],
      "text/plain": [
       "      single_detached_house  apartment_five_storeys_plus  movable_dwelling  \\\n",
       "year                                                                         \n",
       "2001                 300930                       355015                75   \n",
       "2006                 266860                       379400               165   \n",
       "2011                 274940                       429220               100   \n",
       "2016                 269680                       493270                95   \n",
       "\n",
       "      semi_detached_house  row_house  duplex  apartment_five_storeys_less  \\\n",
       "year                                                                        \n",
       "2001                90995      52355   23785                       116900   \n",
       "2006                69430      54690   44095                       162850   \n",
       "2011                72480      60355   44750                       163895   \n",
       "2016                71200      61565   48585                       165575   \n",
       "\n",
       "      other_house  \n",
       "year               \n",
       "2001         3040  \n",
       "2006         1335  \n",
       "2011         2165  \n",
       "2016         2845  "
      ]
     },
     "execution_count": 14,
     "metadata": {},
     "output_type": "execute_result"
    }
   ],
   "source": [
    "# Calculate the sum number of dwelling types units per year (hint: use groupby)\n",
    "num_dwellings_per_year = to_data[['single_detached_house', 'apartment_five_storeys_plus', 'movable_dwelling', 'semi_detached_house', 'row_house', 'duplex', 'apartment_five_storeys_less', 'other_house']].groupby('year').sum()\n",
    "num_dwellings_per_year\n",
    "\n",
    "\n"
   ]
  },
  {
   "cell_type": "code",
   "execution_count": 15,
   "metadata": {},
   "outputs": [],
   "source": [
    "# Save the dataframe as a csv file\n",
    "num_dwellings_per_year.to_csv('dwelling_per_year.csv')"
   ]
  },
  {
   "cell_type": "code",
   "execution_count": 16,
   "metadata": {},
   "outputs": [],
   "source": [
    "# Helper create_bar_chart function\n",
    "def create_bar_chart(data, title, xlabel, ylabel, color):\n",
    "    plt.figure(figsize = (10,5))\n",
    "    data.plot.bar(color=color)\n",
    "    plt.title(title)\n",
    "    plt.xlabel(xlabel)\n",
    "    plt.ylabel(ylabel)\n",
    "    plt.show()\n",
    "    \n",
    "#    data_plot = data.hvplot.bar(title=title, xlabel=xlabel, ylabel=ylabel, color=color, rot=90).opts(yformatter=\"%.0f\")\n",
    "#    return data_plot"
   ]
  },
  {
   "cell_type": "code",
   "execution_count": 17,
   "metadata": {},
   "outputs": [
    {
     "ename": "TypeError",
     "evalue": "Cannot interpret '<attribute 'dtype' of 'numpy.generic' objects>' as a data type",
     "output_type": "error",
     "traceback": [
      "\u001b[0;31m---------------------------------------------------------------------------\u001b[0m",
      "\u001b[0;31mTypeError\u001b[0m                                 Traceback (most recent call last)",
      "\u001b[0;32m<ipython-input-17-2892d189b880>\u001b[0m in \u001b[0;36m<module>\u001b[0;34m\u001b[0m\n\u001b[1;32m      6\u001b[0m \u001b[0;31m#                 color=\"red\")\u001b[0m\u001b[0;34m\u001b[0m\u001b[0;34m\u001b[0m\u001b[0;34m\u001b[0m\u001b[0m\n\u001b[1;32m      7\u001b[0m \u001b[0;34m\u001b[0m\u001b[0m\n\u001b[0;32m----> 8\u001b[0;31m \u001b[0mcreate_bar_chart\u001b[0m\u001b[0;34m(\u001b[0m\u001b[0mnum_dwellings_per_year\u001b[0m\u001b[0;34m.\u001b[0m\u001b[0mloc\u001b[0m\u001b[0;34m[\u001b[0m\u001b[0;36m2001\u001b[0m\u001b[0;34m]\u001b[0m\u001b[0;34m,\u001b[0m \u001b[0;34m'dwelling types 2001'\u001b[0m\u001b[0;34m,\u001b[0m \u001b[0;34m'type of dwelling'\u001b[0m\u001b[0;34m,\u001b[0m \u001b[0;34m'number of units'\u001b[0m\u001b[0;34m,\u001b[0m \u001b[0;34m'red'\u001b[0m\u001b[0;34m)\u001b[0m\u001b[0;34m\u001b[0m\u001b[0;34m\u001b[0m\u001b[0m\n\u001b[0m\u001b[1;32m      9\u001b[0m \u001b[0;34m\u001b[0m\u001b[0m\n\u001b[1;32m     10\u001b[0m \u001b[0;34m\u001b[0m\u001b[0m\n",
      "\u001b[0;32m<ipython-input-16-0b5cedb9f258>\u001b[0m in \u001b[0;36mcreate_bar_chart\u001b[0;34m(data, title, xlabel, ylabel, color)\u001b[0m\n\u001b[1;32m      2\u001b[0m \u001b[0;32mdef\u001b[0m \u001b[0mcreate_bar_chart\u001b[0m\u001b[0;34m(\u001b[0m\u001b[0mdata\u001b[0m\u001b[0;34m,\u001b[0m \u001b[0mtitle\u001b[0m\u001b[0;34m,\u001b[0m \u001b[0mxlabel\u001b[0m\u001b[0;34m,\u001b[0m \u001b[0mylabel\u001b[0m\u001b[0;34m,\u001b[0m \u001b[0mcolor\u001b[0m\u001b[0;34m)\u001b[0m\u001b[0;34m:\u001b[0m\u001b[0;34m\u001b[0m\u001b[0;34m\u001b[0m\u001b[0m\n\u001b[1;32m      3\u001b[0m     \u001b[0mplt\u001b[0m\u001b[0;34m.\u001b[0m\u001b[0mfigure\u001b[0m\u001b[0;34m(\u001b[0m\u001b[0mfigsize\u001b[0m \u001b[0;34m=\u001b[0m \u001b[0;34m(\u001b[0m\u001b[0;36m10\u001b[0m\u001b[0;34m,\u001b[0m\u001b[0;36m5\u001b[0m\u001b[0;34m)\u001b[0m\u001b[0;34m)\u001b[0m\u001b[0;34m\u001b[0m\u001b[0;34m\u001b[0m\u001b[0m\n\u001b[0;32m----> 4\u001b[0;31m     \u001b[0mdata\u001b[0m\u001b[0;34m.\u001b[0m\u001b[0mplot\u001b[0m\u001b[0;34m.\u001b[0m\u001b[0mbar\u001b[0m\u001b[0;34m(\u001b[0m\u001b[0mcolor\u001b[0m\u001b[0;34m=\u001b[0m\u001b[0mcolor\u001b[0m\u001b[0;34m)\u001b[0m\u001b[0;34m\u001b[0m\u001b[0;34m\u001b[0m\u001b[0m\n\u001b[0m\u001b[1;32m      5\u001b[0m     \u001b[0mplt\u001b[0m\u001b[0;34m.\u001b[0m\u001b[0mtitle\u001b[0m\u001b[0;34m(\u001b[0m\u001b[0mtitle\u001b[0m\u001b[0;34m)\u001b[0m\u001b[0;34m\u001b[0m\u001b[0;34m\u001b[0m\u001b[0m\n\u001b[1;32m      6\u001b[0m     \u001b[0mplt\u001b[0m\u001b[0;34m.\u001b[0m\u001b[0mxlabel\u001b[0m\u001b[0;34m(\u001b[0m\u001b[0mxlabel\u001b[0m\u001b[0;34m)\u001b[0m\u001b[0;34m\u001b[0m\u001b[0;34m\u001b[0m\u001b[0m\n",
      "\u001b[0;32m~/opt/anaconda3/envs/pyviz/lib/python3.7/site-packages/pandas/plotting/_core.py\u001b[0m in \u001b[0;36mbar\u001b[0;34m(self, **kwds)\u001b[0m\n\u001b[1;32m   2782\u001b[0m         \u001b[0maxes\u001b[0m \u001b[0;34m:\u001b[0m \u001b[0;34m:\u001b[0m\u001b[0;32mclass\u001b[0m\u001b[0;34m:\u001b[0m\u001b[0;31m`\u001b[0m\u001b[0mmatplotlib\u001b[0m\u001b[0;34m.\u001b[0m\u001b[0maxes\u001b[0m\u001b[0;34m.\u001b[0m\u001b[0mAxes\u001b[0m\u001b[0;31m`\u001b[0m \u001b[0;32mor\u001b[0m \u001b[0mnumpy\u001b[0m\u001b[0;34m.\u001b[0m\u001b[0mndarray\u001b[0m \u001b[0mof\u001b[0m \u001b[0mthem\u001b[0m\u001b[0;34m\u001b[0m\u001b[0;34m\u001b[0m\u001b[0m\n\u001b[1;32m   2783\u001b[0m         \"\"\"\n\u001b[0;32m-> 2784\u001b[0;31m         \u001b[0;32mreturn\u001b[0m \u001b[0mself\u001b[0m\u001b[0;34m(\u001b[0m\u001b[0mkind\u001b[0m\u001b[0;34m=\u001b[0m\u001b[0;34m'bar'\u001b[0m\u001b[0;34m,\u001b[0m \u001b[0;34m**\u001b[0m\u001b[0mkwds\u001b[0m\u001b[0;34m)\u001b[0m\u001b[0;34m\u001b[0m\u001b[0;34m\u001b[0m\u001b[0m\n\u001b[0m\u001b[1;32m   2785\u001b[0m \u001b[0;34m\u001b[0m\u001b[0m\n\u001b[1;32m   2786\u001b[0m     \u001b[0;32mdef\u001b[0m \u001b[0mbarh\u001b[0m\u001b[0;34m(\u001b[0m\u001b[0mself\u001b[0m\u001b[0;34m,\u001b[0m \u001b[0;34m**\u001b[0m\u001b[0mkwds\u001b[0m\u001b[0;34m)\u001b[0m\u001b[0;34m:\u001b[0m\u001b[0;34m\u001b[0m\u001b[0;34m\u001b[0m\u001b[0m\n",
      "\u001b[0;32m~/opt/anaconda3/envs/pyviz/lib/python3.7/site-packages/pandas/plotting/_core.py\u001b[0m in \u001b[0;36m__call__\u001b[0;34m(self, kind, ax, figsize, use_index, title, grid, legend, style, logx, logy, loglog, xticks, yticks, xlim, ylim, rot, fontsize, colormap, table, yerr, xerr, label, secondary_y, **kwds)\u001b[0m\n\u001b[1;32m   2740\u001b[0m                            \u001b[0mcolormap\u001b[0m\u001b[0;34m=\u001b[0m\u001b[0mcolormap\u001b[0m\u001b[0;34m,\u001b[0m \u001b[0mtable\u001b[0m\u001b[0;34m=\u001b[0m\u001b[0mtable\u001b[0m\u001b[0;34m,\u001b[0m \u001b[0myerr\u001b[0m\u001b[0;34m=\u001b[0m\u001b[0myerr\u001b[0m\u001b[0;34m,\u001b[0m\u001b[0;34m\u001b[0m\u001b[0;34m\u001b[0m\u001b[0m\n\u001b[1;32m   2741\u001b[0m                            \u001b[0mxerr\u001b[0m\u001b[0;34m=\u001b[0m\u001b[0mxerr\u001b[0m\u001b[0;34m,\u001b[0m \u001b[0mlabel\u001b[0m\u001b[0;34m=\u001b[0m\u001b[0mlabel\u001b[0m\u001b[0;34m,\u001b[0m \u001b[0msecondary_y\u001b[0m\u001b[0;34m=\u001b[0m\u001b[0msecondary_y\u001b[0m\u001b[0;34m,\u001b[0m\u001b[0;34m\u001b[0m\u001b[0;34m\u001b[0m\u001b[0m\n\u001b[0;32m-> 2742\u001b[0;31m                            **kwds)\n\u001b[0m\u001b[1;32m   2743\u001b[0m     \u001b[0m__call__\u001b[0m\u001b[0;34m.\u001b[0m\u001b[0m__doc__\u001b[0m \u001b[0;34m=\u001b[0m \u001b[0mplot_series\u001b[0m\u001b[0;34m.\u001b[0m\u001b[0m__doc__\u001b[0m\u001b[0;34m\u001b[0m\u001b[0;34m\u001b[0m\u001b[0m\n\u001b[1;32m   2744\u001b[0m \u001b[0;34m\u001b[0m\u001b[0m\n",
      "\u001b[0;32m~/opt/anaconda3/envs/pyviz/lib/python3.7/site-packages/pandas/plotting/_core.py\u001b[0m in \u001b[0;36mplot_series\u001b[0;34m(data, kind, ax, figsize, use_index, title, grid, legend, style, logx, logy, loglog, xticks, yticks, xlim, ylim, rot, fontsize, colormap, table, yerr, xerr, label, secondary_y, **kwds)\u001b[0m\n\u001b[1;32m   1996\u001b[0m                  \u001b[0myerr\u001b[0m\u001b[0;34m=\u001b[0m\u001b[0myerr\u001b[0m\u001b[0;34m,\u001b[0m \u001b[0mxerr\u001b[0m\u001b[0;34m=\u001b[0m\u001b[0mxerr\u001b[0m\u001b[0;34m,\u001b[0m\u001b[0;34m\u001b[0m\u001b[0;34m\u001b[0m\u001b[0m\n\u001b[1;32m   1997\u001b[0m                  \u001b[0mlabel\u001b[0m\u001b[0;34m=\u001b[0m\u001b[0mlabel\u001b[0m\u001b[0;34m,\u001b[0m \u001b[0msecondary_y\u001b[0m\u001b[0;34m=\u001b[0m\u001b[0msecondary_y\u001b[0m\u001b[0;34m,\u001b[0m\u001b[0;34m\u001b[0m\u001b[0;34m\u001b[0m\u001b[0m\n\u001b[0;32m-> 1998\u001b[0;31m                  **kwds)\n\u001b[0m\u001b[1;32m   1999\u001b[0m \u001b[0;34m\u001b[0m\u001b[0m\n\u001b[1;32m   2000\u001b[0m \u001b[0;34m\u001b[0m\u001b[0m\n",
      "\u001b[0;32m~/opt/anaconda3/envs/pyviz/lib/python3.7/site-packages/pandas/plotting/_core.py\u001b[0m in \u001b[0;36m_plot\u001b[0;34m(data, x, y, subplots, ax, kind, **kwds)\u001b[0m\n\u001b[1;32m   1799\u001b[0m         \u001b[0mplot_obj\u001b[0m \u001b[0;34m=\u001b[0m \u001b[0mklass\u001b[0m\u001b[0;34m(\u001b[0m\u001b[0mdata\u001b[0m\u001b[0;34m,\u001b[0m \u001b[0msubplots\u001b[0m\u001b[0;34m=\u001b[0m\u001b[0msubplots\u001b[0m\u001b[0;34m,\u001b[0m \u001b[0max\u001b[0m\u001b[0;34m=\u001b[0m\u001b[0max\u001b[0m\u001b[0;34m,\u001b[0m \u001b[0mkind\u001b[0m\u001b[0;34m=\u001b[0m\u001b[0mkind\u001b[0m\u001b[0;34m,\u001b[0m \u001b[0;34m**\u001b[0m\u001b[0mkwds\u001b[0m\u001b[0;34m)\u001b[0m\u001b[0;34m\u001b[0m\u001b[0;34m\u001b[0m\u001b[0m\n\u001b[1;32m   1800\u001b[0m \u001b[0;34m\u001b[0m\u001b[0m\n\u001b[0;32m-> 1801\u001b[0;31m     \u001b[0mplot_obj\u001b[0m\u001b[0;34m.\u001b[0m\u001b[0mgenerate\u001b[0m\u001b[0;34m(\u001b[0m\u001b[0;34m)\u001b[0m\u001b[0;34m\u001b[0m\u001b[0;34m\u001b[0m\u001b[0m\n\u001b[0m\u001b[1;32m   1802\u001b[0m     \u001b[0mplot_obj\u001b[0m\u001b[0;34m.\u001b[0m\u001b[0mdraw\u001b[0m\u001b[0;34m(\u001b[0m\u001b[0;34m)\u001b[0m\u001b[0;34m\u001b[0m\u001b[0;34m\u001b[0m\u001b[0m\n\u001b[1;32m   1803\u001b[0m     \u001b[0;32mreturn\u001b[0m \u001b[0mplot_obj\u001b[0m\u001b[0;34m.\u001b[0m\u001b[0mresult\u001b[0m\u001b[0;34m\u001b[0m\u001b[0;34m\u001b[0m\u001b[0m\n",
      "\u001b[0;32m~/opt/anaconda3/envs/pyviz/lib/python3.7/site-packages/pandas/plotting/_core.py\u001b[0m in \u001b[0;36mgenerate\u001b[0;34m(self)\u001b[0m\n\u001b[1;32m    247\u001b[0m     \u001b[0;32mdef\u001b[0m \u001b[0mgenerate\u001b[0m\u001b[0;34m(\u001b[0m\u001b[0mself\u001b[0m\u001b[0;34m)\u001b[0m\u001b[0;34m:\u001b[0m\u001b[0;34m\u001b[0m\u001b[0;34m\u001b[0m\u001b[0m\n\u001b[1;32m    248\u001b[0m         \u001b[0mself\u001b[0m\u001b[0;34m.\u001b[0m\u001b[0m_args_adjust\u001b[0m\u001b[0;34m(\u001b[0m\u001b[0;34m)\u001b[0m\u001b[0;34m\u001b[0m\u001b[0;34m\u001b[0m\u001b[0m\n\u001b[0;32m--> 249\u001b[0;31m         \u001b[0mself\u001b[0m\u001b[0;34m.\u001b[0m\u001b[0m_compute_plot_data\u001b[0m\u001b[0;34m(\u001b[0m\u001b[0;34m)\u001b[0m\u001b[0;34m\u001b[0m\u001b[0;34m\u001b[0m\u001b[0m\n\u001b[0m\u001b[1;32m    250\u001b[0m         \u001b[0mself\u001b[0m\u001b[0;34m.\u001b[0m\u001b[0m_setup_subplots\u001b[0m\u001b[0;34m(\u001b[0m\u001b[0;34m)\u001b[0m\u001b[0;34m\u001b[0m\u001b[0;34m\u001b[0m\u001b[0m\n\u001b[1;32m    251\u001b[0m         \u001b[0mself\u001b[0m\u001b[0;34m.\u001b[0m\u001b[0m_make_plot\u001b[0m\u001b[0;34m(\u001b[0m\u001b[0;34m)\u001b[0m\u001b[0;34m\u001b[0m\u001b[0;34m\u001b[0m\u001b[0m\n",
      "\u001b[0;32m~/opt/anaconda3/envs/pyviz/lib/python3.7/site-packages/pandas/plotting/_core.py\u001b[0m in \u001b[0;36m_compute_plot_data\u001b[0;34m(self)\u001b[0m\n\u001b[1;32m    355\u001b[0m                                                    \u001b[0;34m\"datetime\"\u001b[0m\u001b[0;34m,\u001b[0m\u001b[0;34m\u001b[0m\u001b[0;34m\u001b[0m\u001b[0m\n\u001b[1;32m    356\u001b[0m                                                    \u001b[0;34m\"datetimetz\"\u001b[0m\u001b[0;34m,\u001b[0m\u001b[0;34m\u001b[0m\u001b[0;34m\u001b[0m\u001b[0m\n\u001b[0;32m--> 357\u001b[0;31m                                                    \"timedelta\"])\n\u001b[0m\u001b[1;32m    358\u001b[0m \u001b[0;34m\u001b[0m\u001b[0m\n\u001b[1;32m    359\u001b[0m         \u001b[0;32mtry\u001b[0m\u001b[0;34m:\u001b[0m\u001b[0;34m\u001b[0m\u001b[0;34m\u001b[0m\u001b[0m\n",
      "\u001b[0;32m~/opt/anaconda3/envs/pyviz/lib/python3.7/site-packages/pandas/core/frame.py\u001b[0m in \u001b[0;36mselect_dtypes\u001b[0;34m(self, include, exclude)\u001b[0m\n\u001b[1;32m   3324\u001b[0m         \u001b[0;31m# the \"union\" of the logic of case 1 and case 2:\u001b[0m\u001b[0;34m\u001b[0m\u001b[0;34m\u001b[0m\u001b[0;34m\u001b[0m\u001b[0m\n\u001b[1;32m   3325\u001b[0m         \u001b[0;31m# we get the included and excluded, and return their logical and\u001b[0m\u001b[0;34m\u001b[0m\u001b[0;34m\u001b[0m\u001b[0;34m\u001b[0m\u001b[0m\n\u001b[0;32m-> 3326\u001b[0;31m         \u001b[0minclude_these\u001b[0m \u001b[0;34m=\u001b[0m \u001b[0mSeries\u001b[0m\u001b[0;34m(\u001b[0m\u001b[0;32mnot\u001b[0m \u001b[0mbool\u001b[0m\u001b[0;34m(\u001b[0m\u001b[0minclude\u001b[0m\u001b[0;34m)\u001b[0m\u001b[0;34m,\u001b[0m \u001b[0mindex\u001b[0m\u001b[0;34m=\u001b[0m\u001b[0mself\u001b[0m\u001b[0;34m.\u001b[0m\u001b[0mcolumns\u001b[0m\u001b[0;34m)\u001b[0m\u001b[0;34m\u001b[0m\u001b[0;34m\u001b[0m\u001b[0m\n\u001b[0m\u001b[1;32m   3327\u001b[0m         \u001b[0mexclude_these\u001b[0m \u001b[0;34m=\u001b[0m \u001b[0mSeries\u001b[0m\u001b[0;34m(\u001b[0m\u001b[0;32mnot\u001b[0m \u001b[0mbool\u001b[0m\u001b[0;34m(\u001b[0m\u001b[0mexclude\u001b[0m\u001b[0;34m)\u001b[0m\u001b[0;34m,\u001b[0m \u001b[0mindex\u001b[0m\u001b[0;34m=\u001b[0m\u001b[0mself\u001b[0m\u001b[0;34m.\u001b[0m\u001b[0mcolumns\u001b[0m\u001b[0;34m)\u001b[0m\u001b[0;34m\u001b[0m\u001b[0;34m\u001b[0m\u001b[0m\n\u001b[1;32m   3328\u001b[0m \u001b[0;34m\u001b[0m\u001b[0m\n",
      "\u001b[0;32m~/opt/anaconda3/envs/pyviz/lib/python3.7/site-packages/pandas/core/series.py\u001b[0m in \u001b[0;36m__init__\u001b[0;34m(self, data, index, dtype, name, copy, fastpath)\u001b[0m\n\u001b[1;32m    260\u001b[0m             \u001b[0;32melse\u001b[0m\u001b[0;34m:\u001b[0m\u001b[0;34m\u001b[0m\u001b[0;34m\u001b[0m\u001b[0m\n\u001b[1;32m    261\u001b[0m                 data = sanitize_array(data, index, dtype, copy,\n\u001b[0;32m--> 262\u001b[0;31m                                       raise_cast_failure=True)\n\u001b[0m\u001b[1;32m    263\u001b[0m \u001b[0;34m\u001b[0m\u001b[0m\n\u001b[1;32m    264\u001b[0m                 \u001b[0mdata\u001b[0m \u001b[0;34m=\u001b[0m \u001b[0mSingleBlockManager\u001b[0m\u001b[0;34m(\u001b[0m\u001b[0mdata\u001b[0m\u001b[0;34m,\u001b[0m \u001b[0mindex\u001b[0m\u001b[0;34m,\u001b[0m \u001b[0mfastpath\u001b[0m\u001b[0;34m=\u001b[0m\u001b[0;32mTrue\u001b[0m\u001b[0;34m)\u001b[0m\u001b[0;34m\u001b[0m\u001b[0;34m\u001b[0m\u001b[0m\n",
      "\u001b[0;32m~/opt/anaconda3/envs/pyviz/lib/python3.7/site-packages/pandas/core/internals/construction.py\u001b[0m in \u001b[0;36msanitize_array\u001b[0;34m(data, index, dtype, copy, raise_cast_failure)\u001b[0m\n\u001b[1;32m    640\u001b[0m \u001b[0;34m\u001b[0m\u001b[0m\n\u001b[1;32m    641\u001b[0m             subarr = construct_1d_arraylike_from_scalar(\n\u001b[0;32m--> 642\u001b[0;31m                 value, len(index), dtype)\n\u001b[0m\u001b[1;32m    643\u001b[0m \u001b[0;34m\u001b[0m\u001b[0m\n\u001b[1;32m    644\u001b[0m         \u001b[0;32melse\u001b[0m\u001b[0;34m:\u001b[0m\u001b[0;34m\u001b[0m\u001b[0;34m\u001b[0m\u001b[0m\n",
      "\u001b[0;32m~/opt/anaconda3/envs/pyviz/lib/python3.7/site-packages/pandas/core/dtypes/cast.py\u001b[0m in \u001b[0;36mconstruct_1d_arraylike_from_scalar\u001b[0;34m(value, length, dtype)\u001b[0m\n\u001b[1;32m   1185\u001b[0m                 \u001b[0mvalue\u001b[0m \u001b[0;34m=\u001b[0m \u001b[0mto_str\u001b[0m\u001b[0;34m(\u001b[0m\u001b[0mvalue\u001b[0m\u001b[0;34m)\u001b[0m\u001b[0;34m\u001b[0m\u001b[0;34m\u001b[0m\u001b[0m\n\u001b[1;32m   1186\u001b[0m \u001b[0;34m\u001b[0m\u001b[0m\n\u001b[0;32m-> 1187\u001b[0;31m         \u001b[0msubarr\u001b[0m \u001b[0;34m=\u001b[0m \u001b[0mnp\u001b[0m\u001b[0;34m.\u001b[0m\u001b[0mempty\u001b[0m\u001b[0;34m(\u001b[0m\u001b[0mlength\u001b[0m\u001b[0;34m,\u001b[0m \u001b[0mdtype\u001b[0m\u001b[0;34m=\u001b[0m\u001b[0mdtype\u001b[0m\u001b[0;34m)\u001b[0m\u001b[0;34m\u001b[0m\u001b[0;34m\u001b[0m\u001b[0m\n\u001b[0m\u001b[1;32m   1188\u001b[0m         \u001b[0msubarr\u001b[0m\u001b[0;34m.\u001b[0m\u001b[0mfill\u001b[0m\u001b[0;34m(\u001b[0m\u001b[0mvalue\u001b[0m\u001b[0;34m)\u001b[0m\u001b[0;34m\u001b[0m\u001b[0;34m\u001b[0m\u001b[0m\n\u001b[1;32m   1189\u001b[0m \u001b[0;34m\u001b[0m\u001b[0m\n",
      "\u001b[0;31mTypeError\u001b[0m: Cannot interpret '<attribute 'dtype' of 'numpy.generic' objects>' as a data type"
     ]
    },
    {
     "data": {
      "image/png": "[encoded data removed]",
      "text/plain": [
       "<Figure size 720x360 with 1 Axes>"
      ]
     },
     "metadata": {
      "needs_background": "light"
     },
     "output_type": "display_data"
    }
   ],
   "source": [
    "# Create a bar chart per year to show the number of dwelling types\n",
    "#create_bar_chart(data=dwellingsum_peryear.iloc[[0]], \n",
    "#                 title=\"bar chart for 2001\", \n",
    "#                 xlabel=\"2001\", \n",
    "#                 ylabel=\"Dwelling Types\", \n",
    "#                 color=\"red\")\n",
    "\n",
    "create_bar_chart(num_dwellings_per_year.loc[2001], 'dwelling types 2001', 'type of dwelling', 'number of units', 'red')\n",
    "\n",
    "\n",
    "    # Bar chart for 2006\n",
    "# YOUR CODE HERE!\n",
    "\n",
    "# Bar chart for 2011\n",
    "# YOUR CODE HERE!\n",
    "\n",
    "# Bar chart for 2016\n",
    "# YOUR CODE HERE!"
   ]
  },
  {
   "cell_type": "markdown",
   "metadata": {},
   "source": [
    "## Average Monthly Shelter Costs in Toronto Per Year\n",
    "\n",
    "In this section, you will calculate the average monthly shelter costs for owned and rented dwellings and the average house value for each year. Plot the results as a line chart.\n",
    "\n",
    "**Optional challenge:** Plot each line chart in a different color."
   ]
  },
  {
   "cell_type": "code",
   "execution_count": null,
   "metadata": {},
   "outputs": [],
   "source": [
    "# Calculate the average monthly shelter costs for owned and rented dwellings\n",
    "avg_shelter_costs = to_data[['shelter_costs_owned', 'shelter_costs_rented']].groupby('year').mean()\n",
    "avg_shelter_costs"
   ]
  },
  {
   "cell_type": "code",
   "execution_count": null,
   "metadata": {},
   "outputs": [],
   "source": [
    "# Helper create_line_chart function\n",
    "def create_line_chart(data, title, xlabel, ylabel, color):\n",
    "    \"\"\"\n",
    "    Create a line chart based in the data argument.\n",
    "    \"\"\"\n",
    "   "
   ]
  },
  {
   "cell_type": "code",
   "execution_count": null,
   "metadata": {},
   "outputs": [],
   "source": [
    "# Create two line charts, one to plot the monthly shelter costs for owned dwelleing and other for rented dwellings per year\n",
    "\n",
    "# Line chart for owned dwellings\n",
    "# YOUR CODE HERE!\n",
    "\n",
    "# Line chart for rented dwellings\n",
    "# YOUR CODE HERE!"
   ]
  },
  {
   "cell_type": "markdown",
   "metadata": {},
   "source": [
    "## Average House Value per Year\n",
    "\n",
    "In this section, you want to determine the average house value per year. An investor may want to understand better the sales price of the rental property over time. For example, a customer will want to know if they should expect an increase or decrease in the property value over time so they can determine how long to hold the rental property. You will visualize the `average_house_value` per year as a bar chart."
   ]
  },
  {
   "cell_type": "code",
   "execution_count": null,
   "metadata": {},
   "outputs": [],
   "source": [
    "# Calculate the average house value per year\n",
    "avg_house_value = to_data[['average_house_value']].groupby('year').mean()\n",
    "avg_house_value"
   ]
  },
  {
   "cell_type": "code",
   "execution_count": null,
   "metadata": {},
   "outputs": [],
   "source": [
    "# Plot the average house value per year as a line chart\n",
    "avg_house_value.hvplot.line(title='average house value').opts(yformatter=\"%.0f\")"
   ]
  },
  {
   "cell_type": "markdown",
   "metadata": {},
   "source": [
    "- - - "
   ]
  },
  {
   "cell_type": "markdown",
   "metadata": {},
   "source": [
    "## Average House Value by Neighbourhood\n",
    "\n",
    "In this section, you will use `hvplot` to create an interactive visualization of the average house value with a dropdown selector for the neighbourhood.\n",
    "\n",
    "**Hint:** It will be easier to create a new DataFrame from grouping the data and calculating the mean house values for each year and neighbourhood."
   ]
  },
  {
   "cell_type": "code",
   "execution_count": null,
   "metadata": {},
   "outputs": [],
   "source": [
    "# Create a new DataFrame with the mean house values by neighbourhood per year\n",
    "to_data_new = to_data[['neighbourhood', 'average_house_value']].groupby([to_data.index, \"neighbourhood\"]).mean()\n",
    "to_avg_sales_neighbourhood = to_data_new.reset_index()\n",
    "to_avg_sales_neighbourhood.head(10)"
   ]
  },
  {
   "cell_type": "code",
   "execution_count": null,
   "metadata": {},
   "outputs": [],
   "source": [
    "# Use hvplot to create an interactive line chart of the average house value per neighbourhood\n",
    "# The plot should have a dropdown selector for the neighbourhood\n",
    "sales_plot = to_avg_sales_neighbourhood.hvplot.line(\n",
    "             x=\"year\",\n",
    "             y=\"average_house_value\",\n",
    "             xlabel='year',\n",
    "             ylabel='Avr. House Value',\n",
    "             colormap=\"viridis\",\n",
    "             title=\"Neighbourhood\",\n",
    "        groupby = \"neighbourhood\"\n",
    "    )\n",
    "sales_plot"
   ]
  },
  {
   "cell_type": "markdown",
   "metadata": {},
   "source": [
    "## Number of Dwelling Types per Year\n",
    "\n",
    "In this section, you will use `hvplot` to create an interactive visualization of the average number of dwelling types per year with a dropdown selector for the neighbourhood."
   ]
  },
  {
   "cell_type": "code",
   "execution_count": null,
   "metadata": {},
   "outputs": [],
   "source": [
    "# Fetch the data of all dwelling types per year\n",
    "dwelling_new = to_data[['neighbourhood',\n",
    "                        'single_detached_house', \n",
    "                        'apartment_five_storeys_plus', \n",
    "                        'movable_dwelling', \n",
    "                        'semi_detached_house', \n",
    "                        'row_house', 'duplex', \n",
    "                        'apartment_five_storeys_less', \n",
    "                        'other_house']]\n",
    "#\n",
    "#dwelling_avg = dwelling_new.reset_index()\n",
    "#dwelling_avg.head(10)\n",
    "dwelling_avg = dwelling_new.groupby([to_data.index, 'neighbourhood']).mean()\n",
    "dwelling_avg.reset_index(inplace=True)"
   ]
  },
  {
   "cell_type": "code",
   "execution_count": null,
   "metadata": {},
   "outputs": [],
   "source": []
  },
  {
   "cell_type": "code",
   "execution_count": null,
   "metadata": {},
   "outputs": [],
   "source": [
    "# Use hvplot to create an interactive bar chart of the number of dwelling types per neighbourhood\n",
    "# The plot should have a dropdown selector for the neighbourhood\n",
    "dwelling_avg.hvplot.bar(stacked=False,\n",
    "                       x='year',\n",
    "                       groupby = 'neighbourhood',\n",
    "                       height=500,\n",
    "                       rot=90)"
   ]
  },
  {
   "cell_type": "markdown",
   "metadata": {},
   "source": [
    "- - - "
   ]
  },
  {
   "cell_type": "markdown",
   "metadata": {},
   "source": [
    "## The Top 10 Most Expensive Neighbourhoods\n",
    "\n",
    "In this section, you will need to calculate the house value for each neighbourhood and then sort the values to obtain the top 10 most expensive neighbourhoods on average. Plot the results as a bar chart."
   ]
  },
  {
   "cell_type": "code",
   "execution_count": null,
   "metadata": {},
   "outputs": [],
   "source": [
    "# Getting the data from the top 10 expensive neighbourhoods\n",
    "top_10_most_expensive = to_data.groupby(\"neighbourhood\").mean().sort_values(by='average_house_value', ascending=False).head(10)\n",
    "top_10_most_expensive.reset_index(inplace=True)\n",
    "top_10_most_expensive"
   ]
  },
  {
   "cell_type": "code",
   "execution_count": null,
   "metadata": {},
   "outputs": [],
   "source": [
    "# Plotting the data from the top 10 expensive neighbourhoods\n",
    "expensive_plot = top_10_most_expensive.hvplot.bar(\n",
    "         x=\"neighbourhood\",\n",
    "         y=\"average_house_value\",\n",
    "         colormap=\"viridis\",\n",
    "         title=\"Top 10 Expensive Neighborhoods in TO\",\n",
    "    height=500,\n",
    "    rot=90,\n",
    "    xlabel=\"Neighborhood\",\n",
    "    ylabel=\"Avg. Sale Price per Square Foot\"\n",
    ").opts(yformatter=\"%.0f\")\n",
    "expensive_plot"
   ]
  },
  {
   "cell_type": "markdown",
   "metadata": {},
   "source": [
    "- - - "
   ]
  },
  {
   "cell_type": "markdown",
   "metadata": {},
   "source": [
    "## Neighbourhood Map\n",
    "\n",
    "In this section, you will read in neighbourhoods location data and build an interactive map with the average house value per neighbourhood. Use a `scatter_mapbox` from Plotly express to create the visualization. Remember, you will need your Mapbox API key for this."
   ]
  },
  {
   "cell_type": "markdown",
   "metadata": {},
   "source": [
    "### Load Location Data"
   ]
  },
  {
   "cell_type": "code",
   "execution_count": null,
   "metadata": {},
   "outputs": [],
   "source": [
    "# Load neighbourhoods coordinates data\n",
    "file_path = Path(\"Data/toronto_neighbourhoods_coordinates.csv\")\n",
    "df_neighbourhood_locations = pd.read_csv(file_path)\n",
    "df_neighbourhood_locations.head()"
   ]
  },
  {
   "cell_type": "markdown",
   "metadata": {},
   "source": [
    "### Data Preparation\n",
    "\n",
    "You will need to join the location data with the mean values per neighbourhood.\n",
    "\n",
    "1. Calculate the mean values for each neighbourhood.\n",
    "\n",
    "2. Join the average values with the neighbourhood locations."
   ]
  },
  {
   "cell_type": "code",
   "execution_count": null,
   "metadata": {},
   "outputs": [],
   "source": [
    "# Calculate the mean values for each neighborhood\n",
    "all_neighbourhoods = to_data[['neighbourhood', 'average_house_value']].groupby([to_data.index, \"neighbourhood\"]).mean()\n",
    "all_neighbourhoods.reset_index(inplace=True)\n",
    "all_neighbourhoods.head()"
   ]
  },
  {
   "cell_type": "code",
   "execution_count": null,
   "metadata": {},
   "outputs": [],
   "source": [
    "# Join the average values with the neighbourhood locations\n",
    "combined_df = pd.merge(df_neighbourhood_locations, all_neighbourhoods, on='neighbourhood')\n",
    "combined_df.head()"
   ]
  },
  {
   "cell_type": "markdown",
   "metadata": {},
   "source": [
    "### Mapbox Visualization\n",
    "\n",
    "Plot the average values per neighbourhood using a Plotly express `scatter_mapbox` visualization."
   ]
  },
  {
   "cell_type": "code",
   "execution_count": 135,
   "metadata": {},
   "outputs": [
    {
     "data": {
      "application/vnd.plotly.v1+json": {
       "config": {
        "plotlyServerURL": "https://plot.ly"
       },
       "data": [
        {
         "hovertemplate": "neighbourhood=Agincourt North<br>average_house_value=%{marker.size}<br>lat=%{lat}<br>lon=%{lon}<extra></extra>",
         "lat": [
          43.80544058,
          43.80544058,
          43.80544058,
          43.80544058
         ],
         "legendgroup": "Agincourt North",
         "lon": [
          -79.26671217,
          -79.26671217,
          -79.26671217,
          -79.26671217
         ],
         "marker": {
          "color": "#636efa",
          "size": [
           200388,
           293140,
           366667,
           459051
          ],
          "sizemode": "area",
          "sizeref": 5311.6325
         },
         "mode": "markers",
         "name": "Agincourt North",
         "showlegend": true,
         "subplot": "mapbox",
         "type": "scattermapbox"
        },
        {
         "hovertemplate": "neighbourhood=Agincourt South-Malvern West<br>average_house_value=%{marker.size}<br>lat=%{lat}<br>lon=%{lon}<extra></extra>",
         "lat": [
          43.78865755,
          43.78865755,
          43.78865755,
          43.78865755
         ],
         "legendgroup": "Agincourt South-Malvern West",
         "lon": [
          -79.2656118,
          -79.2656118,
          -79.2656118,
          -79.2656118
         ],
         "marker": {
          "color": "#EF553B",
          "size": [
           203047,
           297031,
           371534,
           465144
          ],
          "sizemode": "area",
          "sizeref": 5311.6325
         },
         "mode": "markers",
         "name": "Agincourt South-Malvern West",
         "showlegend": true,
         "subplot": "mapbox",
         "type": "scattermapbox"
        },
        {
         "hovertemplate": "neighbourhood=Alderwood<br>average_house_value=%{marker.size}<br>lat=%{lat}<br>lon=%{lon}<extra></extra>",
         "lat": [
          43.6049369,
          43.6049369,
          43.6049369,
          43.6049369
         ],
         "legendgroup": "Alderwood",
         "lon": [
          -79.54161093,
          -79.54161093,
          -79.54161093,
          -79.54161093
         ],
         "marker": {
          "color": "#00cc96",
          "size": [
           259998,
           380342,
           475742,
           595608
          ],
          "sizemode": "area",
          "sizeref": 5311.6325
         },
         "mode": "markers",
         "name": "Alderwood",
         "showlegend": true,
         "subplot": "mapbox",
         "type": "scattermapbox"
        },
        {
         "hovertemplate": "neighbourhood=Annex<br>average_house_value=%{marker.size}<br>lat=%{lat}<br>lon=%{lon}<extra></extra>",
         "lat": [
          43.67158544,
          43.67158544,
          43.67158544,
          43.67158544
         ],
         "legendgroup": "Annex",
         "lon": [
          -79.40400062,
          -79.40400062,
          -79.40400062,
          -79.40400062
         ],
         "marker": {
          "color": "#ab63fa",
          "size": [
           453850,
           663921,
           830450,
           1039687
          ],
          "sizemode": "area",
          "sizeref": 5311.6325
         },
         "mode": "markers",
         "name": "Annex",
         "showlegend": true,
         "subplot": "mapbox",
         "type": "scattermapbox"
        },
        {
         "hovertemplate": "neighbourhood=Banbury-Don Mills<br>average_house_value=%{marker.size}<br>lat=%{lat}<br>lon=%{lon}<extra></extra>",
         "lat": [
          43.737657,
          43.737657,
          43.737657,
          43.737657
         ],
         "legendgroup": "Banbury-Don Mills",
         "lon": [
          -79.34971798,
          -79.34971798,
          -79.34971798,
          -79.34971798
         ],
         "marker": {
          "color": "#FFA15A",
          "size": [
           371864,
           543987,
           680433,
           851872
          ],
          "sizemode": "area",
          "sizeref": 5311.6325
         },
         "mode": "markers",
         "name": "Banbury-Don Mills",
         "showlegend": true,
         "subplot": "mapbox",
         "type": "scattermapbox"
        },
        {
         "hovertemplate": "neighbourhood=Bathurst Manor<br>average_house_value=%{marker.size}<br>lat=%{lat}<br>lon=%{lon}<extra></extra>",
         "lat": [
          43.76481331,
          43.76481331,
          43.76481331,
          43.76481331
         ],
         "legendgroup": "Bathurst Manor",
         "lon": [
          -79.45605516,
          -79.45605516,
          -79.45605516,
          -79.45605516
         ],
         "marker": {
          "color": "#19d3f3",
          "size": [
           304749,
           445807,
           557627,
           698124
          ],
          "sizemode": "area",
          "sizeref": 5311.6325
         },
         "mode": "markers",
         "name": "Bathurst Manor",
         "showlegend": true,
         "subplot": "mapbox",
         "type": "scattermapbox"
        },
        {
         "hovertemplate": "neighbourhood=Bay Street Corridor<br>average_house_value=%{marker.size}<br>lat=%{lat}<br>lon=%{lon}<extra></extra>",
         "lat": [
          43.65751135,
          43.65751135,
          43.65751135,
          43.65751135
         ],
         "legendgroup": "Bay Street Corridor",
         "lon": [
          -79.38572125,
          -79.38572125,
          -79.38572125,
          -79.38572125
         ],
         "marker": {
          "color": "#FF6692",
          "size": [
           257404,
           376548,
           470996,
           589666
          ],
          "sizemode": "area",
          "sizeref": 5311.6325
         },
         "mode": "markers",
         "name": "Bay Street Corridor",
         "showlegend": true,
         "subplot": "mapbox",
         "type": "scattermapbox"
        },
        {
         "hovertemplate": "neighbourhood=Bayview Village<br>average_house_value=%{marker.size}<br>lat=%{lat}<br>lon=%{lon}<extra></extra>",
         "lat": [
          43.77636052,
          43.77636052,
          43.77636052,
          43.77636052
         ],
         "legendgroup": "Bayview Village",
         "lon": [
          -79.37711686,
          -79.37711686,
          -79.37711686,
          -79.37711686
         ],
         "marker": {
          "color": "#B6E880",
          "size": [
           327644,
           479299,
           599520,
           750572
          ],
          "sizemode": "area",
          "sizeref": 5311.6325
         },
         "mode": "markers",
         "name": "Bayview Village",
         "showlegend": true,
         "subplot": "mapbox",
         "type": "scattermapbox"
        },
        {
         "hovertemplate": "neighbourhood=Bayview Woods-Steeles<br>average_house_value=%{marker.size}<br>lat=%{lat}<br>lon=%{lon}<extra></extra>",
         "lat": [
          43.79680187,
          43.79680187,
          43.79680187,
          43.79680187
         ],
         "legendgroup": "Bayview Woods-Steeles",
         "lon": [
          -79.38211795,
          -79.38211795,
          -79.38211795,
          -79.38211795
         ],
         "marker": {
          "color": "#FF97FF",
          "size": [
           343535,
           502546,
           628597,
           786976
          ],
          "sizemode": "area",
          "sizeref": 5311.6325
         },
         "mode": "markers",
         "name": "Bayview Woods-Steeles",
         "showlegend": true,
         "subplot": "mapbox",
         "type": "scattermapbox"
        },
        {
         "hovertemplate": "neighbourhood=Bedford Park-Nortown<br>average_house_value=%{marker.size}<br>lat=%{lat}<br>lon=%{lon}<extra></extra>",
         "lat": [
          43.73148623,
          43.73148623,
          43.73148623,
          43.73148623
         ],
         "legendgroup": "Bedford Park-Nortown",
         "lon": [
          -79.42022735,
          -79.42022735,
          -79.42022735,
          -79.42022735
         ],
         "marker": {
          "color": "#FECB52",
          "size": [
           565304,
           826963,
           1034387,
           1295007
          ],
          "sizemode": "area",
          "sizeref": 5311.6325
         },
         "mode": "markers",
         "name": "Bedford Park-Nortown",
         "showlegend": true,
         "subplot": "mapbox",
         "type": "scattermapbox"
        },
        {
         "hovertemplate": "neighbourhood=Beechborough-Greenbrook<br>average_house_value=%{marker.size}<br>lat=%{lat}<br>lon=%{lon}<extra></extra>",
         "lat": [
          43.69321649,
          43.69321649,
          43.69321649,
          43.69321649
         ],
         "legendgroup": "Beechborough-Greenbrook",
         "lon": [
          -79.47947251,
          -79.47947251,
          -79.47947251,
          -79.47947251
         ],
         "marker": {
          "color": "#636efa",
          "size": [
           225369,
           329685,
           412378,
           516279
          ],
          "sizemode": "area",
          "sizeref": 5311.6325
         },
         "mode": "markers",
         "name": "Beechborough-Greenbrook",
         "showlegend": true,
         "subplot": "mapbox",
         "type": "scattermapbox"
        },
        {
         "hovertemplate": "neighbourhood=Bendale<br>average_house_value=%{marker.size}<br>lat=%{lat}<br>lon=%{lon}<extra></extra>",
         "lat": [
          43.76036631,
          43.76036631,
          43.76036631,
          43.76036631
         ],
         "legendgroup": "Bendale",
         "lon": [
          -79.25740037,
          -79.25740037,
          -79.25740037,
          -79.25740037
         ],
         "marker": {
          "color": "#EF553B",
          "size": [
           182957,
           267642,
           334773,
           419121
          ],
          "sizemode": "area",
          "sizeref": 5311.6325
         },
         "mode": "markers",
         "name": "Bendale",
         "showlegend": true,
         "subplot": "mapbox",
         "type": "scattermapbox"
        },
        {
         "hovertemplate": "neighbourhood=Birchcliffe-Cliffside<br>average_house_value=%{marker.size}<br>lat=%{lat}<br>lon=%{lon}<extra></extra>",
         "lat": [
          43.69468198,
          43.69468198,
          43.69468198,
          43.69468198
         ],
         "legendgroup": "Birchcliffe-Cliffside",
         "lon": [
          -79.26509259,
          -79.26509259,
          -79.26509259,
          -79.26509259
         ],
         "marker": {
          "color": "#00cc96",
          "size": [
           265705,
           388690,
           486184,
           608681
          ],
          "sizemode": "area",
          "sizeref": 5311.6325
         },
         "mode": "markers",
         "name": "Birchcliffe-Cliffside",
         "showlegend": true,
         "subplot": "mapbox",
         "type": "scattermapbox"
        },
        {
         "hovertemplate": "neighbourhood=Black Creek<br>average_house_value=%{marker.size}<br>lat=%{lat}<br>lon=%{lon}<extra></extra>",
         "lat": [
          43.76489025,
          43.76489025,
          43.76489025,
          43.76489025
         ],
         "legendgroup": "Black Creek",
         "lon": [
          -79.52197932,
          -79.52197932,
          -79.52197932,
          -79.52197932
         ],
         "marker": {
          "color": "#ab63fa",
          "size": [
           158483,
           231839,
           289990,
           363055
          ],
          "sizemode": "area",
          "sizeref": 5311.6325
         },
         "mode": "markers",
         "name": "Black Creek",
         "showlegend": true,
         "subplot": "mapbox",
         "type": "scattermapbox"
        },
        {
         "hovertemplate": "neighbourhood=Blake-Jones<br>average_house_value=%{marker.size}<br>lat=%{lat}<br>lon=%{lon}<extra></extra>",
         "lat": [
          43.67617288,
          43.67617288,
          43.67617288,
          43.67617288
         ],
         "legendgroup": "Blake-Jones",
         "lon": [
          -79.33739417,
          -79.33739417,
          -79.33739417,
          -79.33739417
         ],
         "marker": {
          "color": "#FFA15A",
          "size": [
           310740,
           454571,
           568589,
           711848
          ],
          "sizemode": "area",
          "sizeref": 5311.6325
         },
         "mode": "markers",
         "name": "Blake-Jones",
         "showlegend": true,
         "subplot": "mapbox",
         "type": "scattermapbox"
        },
        {
         "hovertemplate": "neighbourhood=Briar Hill-Belgravia<br>average_house_value=%{marker.size}<br>lat=%{lat}<br>lon=%{lon}<extra></extra>",
         "lat": [
          43.69902438,
          43.69902438,
          43.69902438,
          43.69902438
         ],
         "legendgroup": "Briar Hill-Belgravia",
         "lon": [
          -79.45285129999999,
          -79.45285129999999,
          -79.45285129999999,
          -79.45285129999999
         ],
         "marker": {
          "color": "#19d3f3",
          "size": [
           222086,
           324882,
           406371,
           508759
          ],
          "sizemode": "area",
          "sizeref": 5311.6325
         },
         "mode": "markers",
         "name": "Briar Hill-Belgravia",
         "showlegend": true,
         "subplot": "mapbox",
         "type": "scattermapbox"
        },
        {
         "hovertemplate": "neighbourhood=Bridle Path-Sunnybrook-York Mills<br>average_house_value=%{marker.size}<br>lat=%{lat}<br>lon=%{lon}<extra></extra>",
         "lat": [
          43.73101314,
          43.73101314,
          43.73101314,
          43.73101314
         ],
         "legendgroup": "Bridle Path-Sunnybrook-York Mills",
         "lon": [
          -79.37890418,
          -79.37890418,
          -79.37890418,
          -79.37890418
         ],
         "marker": {
          "color": "#FF6692",
          "size": [
           927466,
           1356757,
           1697067,
           2124653
          ],
          "sizemode": "area",
          "sizeref": 5311.6325
         },
         "mode": "markers",
         "name": "Bridle Path-Sunnybrook-York Mills",
         "showlegend": true,
         "subplot": "mapbox",
         "type": "scattermapbox"
        },
        {
         "hovertemplate": "neighbourhood=Broadview North<br>average_house_value=%{marker.size}<br>lat=%{lat}<br>lon=%{lon}<extra></extra>",
         "lat": [
          43.68882512,
          43.68882512,
          43.68882512,
          43.68882512
         ],
         "legendgroup": "Broadview North",
         "lon": [
          -79.35562951,
          -79.35562951,
          -79.35562951,
          -79.35562951
         ],
         "marker": {
          "color": "#B6E880",
          "size": [
           269386,
           394075,
           492919,
           617113
          ],
          "sizemode": "area",
          "sizeref": 5311.6325
         },
         "mode": "markers",
         "name": "Broadview North",
         "showlegend": true,
         "subplot": "mapbox",
         "type": "scattermapbox"
        },
        {
         "hovertemplate": "neighbourhood=Brookhaven-Amesbury<br>average_house_value=%{marker.size}<br>lat=%{lat}<br>lon=%{lon}<extra></extra>",
         "lat": [
          43.70132631,
          43.70132631,
          43.70132631,
          43.70132631
         ],
         "legendgroup": "Brookhaven-Amesbury",
         "lon": [
          -79.48558926,
          -79.48558926,
          -79.48558926,
          -79.48558926
         ],
         "marker": {
          "color": "#FF97FF",
          "size": [
           213227,
           311922,
           390160,
           488463
          ],
          "sizemode": "area",
          "sizeref": 5311.6325
         },
         "mode": "markers",
         "name": "Brookhaven-Amesbury",
         "showlegend": true,
         "subplot": "mapbox",
         "type": "scattermapbox"
        },
        {
         "hovertemplate": "neighbourhood=Cabbagetown-South St.James Town<br>average_house_value=%{marker.size}<br>lat=%{lat}<br>lon=%{lon}<extra></extra>",
         "lat": [
          43.66764773,
          43.66764773,
          43.66764773,
          43.66764773
         ],
         "legendgroup": "Cabbagetown-South St.James Town",
         "lon": [
          -79.36610666,
          -79.36610666,
          -79.36610666,
          -79.36610666
         ],
         "marker": {
          "color": "#FECB52",
          "size": [
           300213,
           439171,
           549326,
           687732
          ],
          "sizemode": "area",
          "sizeref": 5311.6325
         },
         "mode": "markers",
         "name": "Cabbagetown-South St.James Town",
         "showlegend": true,
         "subplot": "mapbox",
         "type": "scattermapbox"
        },
        {
         "hovertemplate": "neighbourhood=Caledonia-Fairbank<br>average_house_value=%{marker.size}<br>lat=%{lat}<br>lon=%{lon}<extra></extra>",
         "lat": [
          43.68856865,
          43.68856865,
          43.68856865,
          43.68856865
         ],
         "legendgroup": "Caledonia-Fairbank",
         "lon": [
          -79.45521208,
          -79.45521208,
          -79.45521208,
          -79.45521208
         ],
         "marker": {
          "color": "#636efa",
          "size": [
           219771,
           321496,
           402135,
           503455
          ],
          "sizemode": "area",
          "sizeref": 5311.6325
         },
         "mode": "markers",
         "name": "Caledonia-Fairbank",
         "showlegend": true,
         "subplot": "mapbox",
         "type": "scattermapbox"
        },
        {
         "hovertemplate": "neighbourhood=Casa Loma<br>average_house_value=%{marker.size}<br>lat=%{lat}<br>lon=%{lon}<extra></extra>",
         "lat": [
          43.6818521,
          43.6818521,
          43.6818521,
          43.6818521
         ],
         "legendgroup": "Casa Loma",
         "lon": [
          -79.40800665,
          -79.40800665,
          -79.40800665,
          -79.40800665
         ],
         "marker": {
          "color": "#EF553B",
          "size": [
           596077,
           871981,
           1090696,
           1365503
          ],
          "sizemode": "area",
          "sizeref": 5311.6325
         },
         "mode": "markers",
         "name": "Casa Loma",
         "showlegend": true,
         "subplot": "mapbox",
         "type": "scattermapbox"
        },
        {
         "hovertemplate": "neighbourhood=Centennial Scarborough<br>average_house_value=%{marker.size}<br>lat=%{lat}<br>lon=%{lon}<extra></extra>",
         "lat": [
          43.7823765,
          43.7823765,
          43.7823765,
          43.7823765
         ],
         "legendgroup": "Centennial Scarborough",
         "lon": [
          -79.15084327,
          -79.15084327,
          -79.15084327,
          -79.15084327
         ],
         "marker": {
          "color": "#00cc96",
          "size": [
           249025,
           364291,
           455664,
           570471
          ],
          "sizemode": "area",
          "sizeref": 5311.6325
         },
         "mode": "markers",
         "name": "Centennial Scarborough",
         "showlegend": true,
         "subplot": "mapbox",
         "type": "scattermapbox"
        },
        {
         "hovertemplate": "neighbourhood=Church-Yonge Corridor<br>average_house_value=%{marker.size}<br>lat=%{lat}<br>lon=%{lon}<extra></extra>",
         "lat": [
          43.65964886,
          43.65964886,
          43.65964886,
          43.65964886
         ],
         "legendgroup": "Church-Yonge Corridor",
         "lon": [
          -79.37901717,
          -79.37901717,
          -79.37901717,
          -79.37901717
         ],
         "marker": {
          "color": "#ab63fa",
          "size": [
           246750,
           360962,
           451500,
           565258
          ],
          "sizemode": "area",
          "sizeref": 5311.6325
         },
         "mode": "markers",
         "name": "Church-Yonge Corridor",
         "showlegend": true,
         "subplot": "mapbox",
         "type": "scattermapbox"
        },
        {
         "hovertemplate": "neighbourhood=Clairlea-Birchmount<br>average_house_value=%{marker.size}<br>lat=%{lat}<br>lon=%{lon}<extra></extra>",
         "lat": [
          43.71359238,
          43.71359238,
          43.71359238,
          43.71359238
         ],
         "legendgroup": "Clairlea-Birchmount",
         "lon": [
          -79.28138178,
          -79.28138178,
          -79.28138178,
          -79.28138178
         ],
         "marker": {
          "color": "#FFA15A",
          "size": [
           215421,
           315133,
           394176,
           493491
          ],
          "sizemode": "area",
          "sizeref": 5311.6325
         },
         "mode": "markers",
         "name": "Clairlea-Birchmount",
         "showlegend": true,
         "subplot": "mapbox",
         "type": "scattermapbox"
        },
        {
         "hovertemplate": "neighbourhood=Clanton Park<br>average_house_value=%{marker.size}<br>lat=%{lat}<br>lon=%{lon}<extra></extra>",
         "lat": [
          43.74197843,
          43.74197843,
          43.74197843,
          43.74197843
         ],
         "legendgroup": "Clanton Park",
         "lon": [
          -79.44630258,
          -79.44630258,
          -79.44630258,
          -79.44630258
         ],
         "marker": {
          "color": "#19d3f3",
          "size": [
           335119,
           490234,
           613197,
           767695
          ],
          "sizemode": "area",
          "sizeref": 5311.6325
         },
         "mode": "markers",
         "name": "Clanton Park",
         "showlegend": true,
         "subplot": "mapbox",
         "type": "scattermapbox"
        },
        {
         "hovertemplate": "neighbourhood=Cliffcrest<br>average_house_value=%{marker.size}<br>lat=%{lat}<br>lon=%{lon}<extra></extra>",
         "lat": [
          43.72112117,
          43.72112117,
          43.72112117,
          43.72112117
         ],
         "legendgroup": "Cliffcrest",
         "lon": [
          -79.23552957,
          -79.23552957,
          -79.23552957,
          -79.23552957
         ],
         "marker": {
          "color": "#FF6692",
          "size": [
           253618,
           371009,
           464068,
           580993
          ],
          "sizemode": "area",
          "sizeref": 5311.6325
         },
         "mode": "markers",
         "name": "Cliffcrest",
         "showlegend": true,
         "subplot": "mapbox",
         "type": "scattermapbox"
        },
        {
         "hovertemplate": "neighbourhood=Corso Italia-Davenport<br>average_house_value=%{marker.size}<br>lat=%{lat}<br>lon=%{lon}<extra></extra>",
         "lat": [
          43.67766091,
          43.67766091,
          43.67766091,
          43.67766091
         ],
         "legendgroup": "Corso Italia-Davenport",
         "lon": [
          -79.44746933,
          -79.44746933,
          -79.44746933,
          -79.44746933
         ],
         "marker": {
          "color": "#B6E880",
          "size": [
           255142,
           373239,
           466857,
           584484
          ],
          "sizemode": "area",
          "sizeref": 5311.6325
         },
         "mode": "markers",
         "name": "Corso Italia-Davenport",
         "showlegend": true,
         "subplot": "mapbox",
         "type": "scattermapbox"
        },
        {
         "hovertemplate": "neighbourhood=Danforth<br>average_house_value=%{marker.size}<br>lat=%{lat}<br>lon=%{lon}<extra></extra>",
         "lat": [
          43.68402547,
          43.68402547,
          43.68402547,
          43.68402547
         ],
         "legendgroup": "Danforth",
         "lon": [
          -79.32981941,
          -79.32981941,
          -79.32981941,
          -79.32981941
         ],
         "marker": {
          "color": "#FF97FF",
          "size": [
           283706,
           415024,
           519123,
           649919
          ],
          "sizemode": "area",
          "sizeref": 5311.6325
         },
         "mode": "markers",
         "name": "Danforth",
         "showlegend": true,
         "subplot": "mapbox",
         "type": "scattermapbox"
        },
        {
         "hovertemplate": "neighbourhood=Danforth-East York<br>average_house_value=%{marker.size}<br>lat=%{lat}<br>lon=%{lon}<extra></extra>",
         "lat": [
          43.68946809,
          43.68946809,
          43.68946809,
          43.68946809
         ],
         "legendgroup": "Danforth-East York",
         "lon": [
          -79.33140338,
          -79.33140338,
          -79.33140338,
          -79.33140338
         ],
         "marker": {
          "color": "#FECB52",
          "size": [
           256205,
           374793,
           468801,
           586918
          ],
          "sizemode": "area",
          "sizeref": 5311.6325
         },
         "mode": "markers",
         "name": "Danforth-East York",
         "showlegend": true,
         "subplot": "mapbox",
         "type": "scattermapbox"
        },
        {
         "hovertemplate": "neighbourhood=Don Valley Village<br>average_house_value=%{marker.size}<br>lat=%{lat}<br>lon=%{lon}<extra></extra>",
         "lat": [
          43.78329369,
          43.78329369,
          43.78329369,
          43.78329369
         ],
         "legendgroup": "Don Valley Village",
         "lon": [
          -79.35364413,
          -79.35364413,
          -79.35364413,
          -79.35364413
         ],
         "marker": {
          "color": "#636efa",
          "size": [
           241824,
           353756,
           442487,
           553974
          ],
          "sizemode": "area",
          "sizeref": 5311.6325
         },
         "mode": "markers",
         "name": "Don Valley Village",
         "showlegend": true,
         "subplot": "mapbox",
         "type": "scattermapbox"
        },
        {
         "hovertemplate": "neighbourhood=Dorset Park<br>average_house_value=%{marker.size}<br>lat=%{lat}<br>lon=%{lon}<extra></extra>",
         "lat": [
          43.75927437,
          43.75927437,
          43.75927437,
          43.75927437
         ],
         "legendgroup": "Dorset Park",
         "lon": [
          -79.27890794,
          -79.27890794,
          -79.27890794,
          -79.27890794
         ],
         "marker": {
          "color": "#EF553B",
          "size": [
           159187,
           232869,
           291278,
           364667
          ],
          "sizemode": "area",
          "sizeref": 5311.6325
         },
         "mode": "markers",
         "name": "Dorset Park",
         "showlegend": true,
         "subplot": "mapbox",
         "type": "scattermapbox"
        },
        {
         "hovertemplate": "neighbourhood=Dovercourt-Wallace Emerson-Juncti<br>average_house_value=%{marker.size}<br>lat=%{lat}<br>lon=%{lon}<extra></extra>",
         "lat": [
          43.66567693,
          43.66567693,
          43.66567693,
          43.66567693
         ],
         "legendgroup": "Dovercourt-Wallace Emerson-Juncti",
         "lon": [
          -79.4385407,
          -79.4385407,
          -79.4385407,
          -79.4385407
         ],
         "marker": {
          "color": "#00cc96",
          "size": [
           264116,
           386366,
           483276,
           605040
          ],
          "sizemode": "area",
          "sizeref": 5311.6325
         },
         "mode": "markers",
         "name": "Dovercourt-Wallace Emerson-Juncti",
         "showlegend": true,
         "subplot": "mapbox",
         "type": "scattermapbox"
        },
        {
         "hovertemplate": "neighbourhood=Downsview-Roding-CFB<br>average_house_value=%{marker.size}<br>lat=%{lat}<br>lon=%{lon}<extra></extra>",
         "lat": [
          43.73329235,
          43.73329235,
          43.73329235,
          43.73329235
         ],
         "legendgroup": "Downsview-Roding-CFB",
         "lon": [
          -79.49049735,
          -79.49049735,
          -79.49049735,
          -79.49049735
         ],
         "marker": {
          "color": "#ab63fa",
          "size": [
           231741,
           339006,
           424038,
           530877
          ],
          "sizemode": "area",
          "sizeref": 5311.6325
         },
         "mode": "markers",
         "name": "Downsview-Roding-CFB",
         "showlegend": true,
         "subplot": "mapbox",
         "type": "scattermapbox"
        },
        {
         "hovertemplate": "neighbourhood=Dufferin Grove<br>average_house_value=%{marker.size}<br>lat=%{lat}<br>lon=%{lon}<extra></extra>",
         "lat": [
          43.65542833,
          43.65542833,
          43.65542833,
          43.65542833
         ],
         "legendgroup": "Dufferin Grove",
         "lon": [
          -79.43734104,
          -79.43734104,
          -79.43734104,
          -79.43734104
         ],
         "marker": {
          "color": "#FFA15A",
          "size": [
           278023,
           406710,
           508723,
           636899
          ],
          "sizemode": "area",
          "sizeref": 5311.6325
         },
         "mode": "markers",
         "name": "Dufferin Grove",
         "showlegend": true,
         "subplot": "mapbox",
         "type": "scattermapbox"
        },
        {
         "hovertemplate": "neighbourhood=East End-Danforth<br>average_house_value=%{marker.size}<br>lat=%{lat}<br>lon=%{lon}<extra></extra>",
         "lat": [
          43.68417388,
          43.68417388,
          43.68417388,
          43.68417388
         ],
         "legendgroup": "East End-Danforth",
         "lon": [
          -79.29935867,
          -79.29935867,
          -79.29935867,
          -79.29935867
         ],
         "marker": {
          "color": "#19d3f3",
          "size": [
           290457,
           424900,
           531476,
           665384
          ],
          "sizemode": "area",
          "sizeref": 5311.6325
         },
         "mode": "markers",
         "name": "East End-Danforth",
         "showlegend": true,
         "subplot": "mapbox",
         "type": "scattermapbox"
        },
        {
         "hovertemplate": "neighbourhood=Edenbridge-Humber Valley<br>average_house_value=%{marker.size}<br>lat=%{lat}<br>lon=%{lon}<extra></extra>",
         "lat": [
          43.67088591,
          43.67088591,
          43.67088591,
          43.67088591
         ],
         "legendgroup": "Edenbridge-Humber Valley",
         "lon": [
          -79.52245776,
          -79.52245776,
          -79.52245776,
          -79.52245776
         ],
         "marker": {
          "color": "#FF6692",
          "size": [
           483734,
           707638,
           885132,
           1108146
          ],
          "sizemode": "area",
          "sizeref": 5311.6325
         },
         "mode": "markers",
         "name": "Edenbridge-Humber Valley",
         "showlegend": true,
         "subplot": "mapbox",
         "type": "scattermapbox"
        },
        {
         "hovertemplate": "neighbourhood=Eglinton East<br>average_house_value=%{marker.size}<br>lat=%{lat}<br>lon=%{lon}<extra></extra>",
         "lat": [
          43.7409223,
          43.7409223,
          43.7409223,
          43.7409223
         ],
         "legendgroup": "Eglinton East",
         "lon": [
          -79.24559804,
          -79.24559804,
          -79.24559804,
          -79.24559804
         ],
         "marker": {
          "color": "#B6E880",
          "size": [
           163419,
           239060,
           299023,
           374364
          ],
          "sizemode": "area",
          "sizeref": 5311.6325
         },
         "mode": "markers",
         "name": "Eglinton East",
         "showlegend": true,
         "subplot": "mapbox",
         "type": "scattermapbox"
        },
        {
         "hovertemplate": "neighbourhood=Elms-Old Rexdale<br>average_house_value=%{marker.size}<br>lat=%{lat}<br>lon=%{lon}<extra></extra>",
         "lat": [
          43.72151887,
          43.72151887,
          43.72151887,
          43.72151887
         ],
         "legendgroup": "Elms-Old Rexdale",
         "lon": [
          -79.54898272,
          -79.54898272,
          -79.54898272,
          -79.54898272
         ],
         "marker": {
          "color": "#FF97FF",
          "size": [
           163039,
           238505,
           298328,
           373493
          ],
          "sizemode": "area",
          "sizeref": 5311.6325
         },
         "mode": "markers",
         "name": "Elms-Old Rexdale",
         "showlegend": true,
         "subplot": "mapbox",
         "type": "scattermapbox"
        },
        {
         "hovertemplate": "neighbourhood=Englemount-Lawrence<br>average_house_value=%{marker.size}<br>lat=%{lat}<br>lon=%{lon}<extra></extra>",
         "lat": [
          43.72034467,
          43.72034467,
          43.72034467,
          43.72034467
         ],
         "legendgroup": "Englemount-Lawrence",
         "lon": [
          -79.43740855,
          -79.43740855,
          -79.43740855,
          -79.43740855
         ],
         "marker": {
          "color": "#FECB52",
          "size": [
           345676,
           505677,
           632514,
           791880
          ],
          "sizemode": "area",
          "sizeref": 5311.6325
         },
         "mode": "markers",
         "name": "Englemount-Lawrence",
         "showlegend": true,
         "subplot": "mapbox",
         "type": "scattermapbox"
        },
        {
         "hovertemplate": "neighbourhood=Eringate-Centennial-West Deane<br>average_house_value=%{marker.size}<br>lat=%{lat}<br>lon=%{lon}<extra></extra>",
         "lat": [
          43.65801676,
          43.65801676,
          43.65801676,
          43.65801676
         ],
         "legendgroup": "Eringate-Centennial-West Deane",
         "lon": [
          -79.58044524,
          -79.58044524,
          -79.58044524,
          -79.58044524
         ],
         "marker": {
          "color": "#636efa",
          "size": [
           241685,
           353553,
           442233,
           553656
          ],
          "sizemode": "area",
          "sizeref": 5311.6325
         },
         "mode": "markers",
         "name": "Eringate-Centennial-West Deane",
         "showlegend": true,
         "subplot": "mapbox",
         "type": "scattermapbox"
        },
        {
         "hovertemplate": "neighbourhood=Etobicoke West Mall<br>average_house_value=%{marker.size}<br>lat=%{lat}<br>lon=%{lon}<extra></extra>",
         "lat": [
          43.64506262,
          43.64506262,
          43.64506262,
          43.64506262
         ],
         "legendgroup": "Etobicoke West Mall",
         "lon": [
          -79.56893877,
          -79.56893877,
          -79.56893877,
          -79.56893877
         ],
         "marker": {
          "color": "#EF553B",
          "size": [
           187993,
           275009,
           343988,
           430658
          ],
          "sizemode": "area",
          "sizeref": 5311.6325
         },
         "mode": "markers",
         "name": "Etobicoke West Mall",
         "showlegend": true,
         "subplot": "mapbox",
         "type": "scattermapbox"
        },
        {
         "hovertemplate": "neighbourhood=Flemingdon Park<br>average_house_value=%{marker.size}<br>lat=%{lat}<br>lon=%{lon}<extra></extra>",
         "lat": [
          43.71592975,
          43.71592975,
          43.71592975,
          43.71592975
         ],
         "legendgroup": "Flemingdon Park",
         "lon": [
          -79.33264597,
          -79.33264597,
          -79.33264597,
          -79.33264597
         ],
         "marker": {
          "color": "#00cc96",
          "size": [
           126255,
           184694,
           231020,
           289227
          ],
          "sizemode": "area",
          "sizeref": 5311.6325
         },
         "mode": "markers",
         "name": "Flemingdon Park",
         "showlegend": true,
         "subplot": "mapbox",
         "type": "scattermapbox"
        },
        {
         "hovertemplate": "neighbourhood=Forest Hill North<br>average_house_value=%{marker.size}<br>lat=%{lat}<br>lon=%{lon}<extra></extra>",
         "lat": [
          43.70421756,
          43.70421756,
          43.70421756,
          43.70421756
         ],
         "legendgroup": "Forest Hill North",
         "lon": [
          -79.42814316,
          -79.42814316,
          -79.42814316,
          -79.42814316
         ],
         "marker": {
          "color": "#ab63fa",
          "size": [
           517466,
           756983,
           946854,
           1185419
          ],
          "sizemode": "area",
          "sizeref": 5311.6325
         },
         "mode": "markers",
         "name": "Forest Hill North",
         "showlegend": true,
         "subplot": "mapbox",
         "type": "scattermapbox"
        },
        {
         "hovertemplate": "neighbourhood=Forest Hill South<br>average_house_value=%{marker.size}<br>lat=%{lat}<br>lon=%{lon}<extra></extra>",
         "lat": [
          43.69452576,
          43.69452576,
          43.69452576,
          43.69452576
         ],
         "legendgroup": "Forest Hill South",
         "lon": [
          -79.41431786,
          -79.41431786,
          -79.41431786,
          -79.41431786
         ],
         "marker": {
          "color": "#FFA15A",
          "size": [
           726664,
           1063011,
           1329642,
           1664653
          ],
          "sizemode": "area",
          "sizeref": 5311.6325
         },
         "mode": "markers",
         "name": "Forest Hill South",
         "showlegend": true,
         "subplot": "mapbox",
         "type": "scattermapbox"
        },
        {
         "hovertemplate": "neighbourhood=Glenfield-Jane Heights<br>average_house_value=%{marker.size}<br>lat=%{lat}<br>lon=%{lon}<extra></extra>",
         "lat": [
          43.74563575,
          43.74563575,
          43.74563575,
          43.74563575
         ],
         "legendgroup": "Glenfield-Jane Heights",
         "lon": [
          -79.51346532,
          -79.51346532,
          -79.51346532,
          -79.51346532
         ],
         "marker": {
          "color": "#19d3f3",
          "size": [
           199043,
           291172,
           364206,
           455970
          ],
          "sizemode": "area",
          "sizeref": 5311.6325
         },
         "mode": "markers",
         "name": "Glenfield-Jane Heights",
         "showlegend": true,
         "subplot": "mapbox",
         "type": "scattermapbox"
        },
        {
         "hovertemplate": "neighbourhood=Greenwood-Coxwell<br>average_house_value=%{marker.size}<br>lat=%{lat}<br>lon=%{lon}<extra></extra>",
         "lat": [
          43.67261231,
          43.67261231,
          43.67261231,
          43.67261231
         ],
         "legendgroup": "Greenwood-Coxwell",
         "lon": [
          -79.32431802,
          -79.32431802,
          -79.32431802,
          -79.32431802
         ],
         "marker": {
          "color": "#FF6692",
          "size": [
           235168,
           344019,
           430308,
           538727
          ],
          "sizemode": "area",
          "sizeref": 5311.6325
         },
         "mode": "markers",
         "name": "Greenwood-Coxwell",
         "showlegend": true,
         "subplot": "mapbox",
         "type": "scattermapbox"
        },
        {
         "hovertemplate": "neighbourhood=Guildwood<br>average_house_value=%{marker.size}<br>lat=%{lat}<br>lon=%{lon}<extra></extra>",
         "lat": [
          43.74882934,
          43.74882934,
          43.74882934,
          43.74882934
         ],
         "legendgroup": "Guildwood",
         "lon": [
          -79.19505535,
          -79.19505535,
          -79.19505535,
          -79.19505535
         ],
         "marker": {
          "color": "#B6E880",
          "size": [
           224425,
           328303,
           410650,
           514116
          ],
          "sizemode": "area",
          "sizeref": 5311.6325
         },
         "mode": "markers",
         "name": "Guildwood",
         "showlegend": true,
         "subplot": "mapbox",
         "type": "scattermapbox"
        },
        {
         "hovertemplate": "neighbourhood=Henry Farm<br>average_house_value=%{marker.size}<br>lat=%{lat}<br>lon=%{lon}<extra></extra>",
         "lat": [
          43.77114414,
          43.77114414,
          43.77114414,
          43.77114414
         ],
         "legendgroup": "Henry Farm",
         "lon": [
          -79.34124067,
          -79.34124067,
          -79.34124067,
          -79.34124067
         ],
         "marker": {
          "color": "#FF97FF",
          "size": [
           224780,
           328823,
           411300,
           514929
          ],
          "sizemode": "area",
          "sizeref": 5311.6325
         },
         "mode": "markers",
         "name": "Henry Farm",
         "showlegend": true,
         "subplot": "mapbox",
         "type": "scattermapbox"
        },
        {
         "hovertemplate": "neighbourhood=High Park North<br>average_house_value=%{marker.size}<br>lat=%{lat}<br>lon=%{lon}<extra></extra>",
         "lat": [
          43.65756491,
          43.65756491,
          43.65756491,
          43.65756491
         ],
         "legendgroup": "High Park North",
         "lon": [
          -79.46630217,
          -79.46630217,
          -79.46630217,
          -79.46630217
         ],
         "marker": {
          "color": "#FECB52",
          "size": [
           323536,
           473289,
           592002,
           741161
          ],
          "sizemode": "area",
          "sizeref": 5311.6325
         },
         "mode": "markers",
         "name": "High Park North",
         "showlegend": true,
         "subplot": "mapbox",
         "type": "scattermapbox"
        },
        {
         "hovertemplate": "neighbourhood=High Park-Swansea<br>average_house_value=%{marker.size}<br>lat=%{lat}<br>lon=%{lon}<extra></extra>",
         "lat": [
          43.64506458,
          43.64506458,
          43.64506458,
          43.64506458
         ],
         "legendgroup": "High Park-Swansea",
         "lon": [
          -79.46787222,
          -79.46787222,
          -79.46787222,
          -79.46787222
         ],
         "marker": {
          "color": "#636efa",
          "size": [
           354207,
           518157,
           648124,
           811423
          ],
          "sizemode": "area",
          "sizeref": 5311.6325
         },
         "mode": "markers",
         "name": "High Park-Swansea",
         "showlegend": true,
         "subplot": "mapbox",
         "type": "scattermapbox"
        },
        {
         "hovertemplate": "neighbourhood=Highland Creek<br>average_house_value=%{marker.size}<br>lat=%{lat}<br>lon=%{lon}<extra></extra>",
         "lat": [
          43.79077477,
          43.79077477,
          43.79077477,
          43.79077477
         ],
         "legendgroup": "Highland Creek",
         "lon": [
          -79.17747247,
          -79.17747247,
          -79.17747247,
          -79.17747247
         ],
         "marker": {
          "color": "#EF553B",
          "size": [
           260555,
           381156,
           476760,
           596883
          ],
          "sizemode": "area",
          "sizeref": 5311.6325
         },
         "mode": "markers",
         "name": "Highland Creek",
         "showlegend": true,
         "subplot": "mapbox",
         "type": "scattermapbox"
        },
        {
         "hovertemplate": "neighbourhood=Hillcrest Village<br>average_house_value=%{marker.size}<br>lat=%{lat}<br>lon=%{lon}<extra></extra>",
         "lat": [
          43.80298783,
          43.80298783,
          43.80298783,
          43.80298783
         ],
         "legendgroup": "Hillcrest Village",
         "lon": [
          -79.354804,
          -79.354804,
          -79.354804,
          -79.354804
         ],
         "marker": {
          "color": "#00cc96",
          "size": [
           240009,
           351101,
           439166,
           549816
          ],
          "sizemode": "area",
          "sizeref": 5311.6325
         },
         "mode": "markers",
         "name": "Hillcrest Village",
         "showlegend": true,
         "subplot": "mapbox",
         "type": "scattermapbox"
        },
        {
         "hovertemplate": "neighbourhood=Humber Heights-Westmount<br>average_house_value=%{marker.size}<br>lat=%{lat}<br>lon=%{lon}<extra></extra>",
         "lat": [
          43.6922328,
          43.6922328,
          43.6922328,
          43.6922328
         ],
         "legendgroup": "Humber Heights-Westmount",
         "lon": [
          -79.5224162,
          -79.5224162,
          -79.5224162,
          -79.5224162
         ],
         "marker": {
          "color": "#ab63fa",
          "size": [
           272896,
           399210,
           499342,
           625154
          ],
          "sizemode": "area",
          "sizeref": 5311.6325
         },
         "mode": "markers",
         "name": "Humber Heights-Westmount",
         "showlegend": true,
         "subplot": "mapbox",
         "type": "scattermapbox"
        },
        {
         "hovertemplate": "neighbourhood=Humber Summit<br>average_house_value=%{marker.size}<br>lat=%{lat}<br>lon=%{lon}<extra></extra>",
         "lat": [
          43.75891975,
          43.75891975,
          43.75891975,
          43.75891975
         ],
         "legendgroup": "Humber Summit",
         "lon": [
          -79.55617474,
          -79.55617474,
          -79.55617474,
          -79.55617474
         ],
         "marker": {
          "color": "#FFA15A",
          "size": [
           213919,
           312935,
           391427,
           490049
          ],
          "sizemode": "area",
          "sizeref": 5311.6325
         },
         "mode": "markers",
         "name": "Humber Summit",
         "showlegend": true,
         "subplot": "mapbox",
         "type": "scattermapbox"
        },
        {
         "hovertemplate": "neighbourhood=Humbermede<br>average_house_value=%{marker.size}<br>lat=%{lat}<br>lon=%{lon}<extra></extra>",
         "lat": [
          43.74342952,
          43.74342952,
          43.74342952,
          43.74342952
         ],
         "legendgroup": "Humbermede",
         "lon": [
          -79.54236712,
          -79.54236712,
          -79.54236712,
          -79.54236712
         ],
         "marker": {
          "color": "#19d3f3",
          "size": [
           194295,
           284227,
           355519,
           445094
          ],
          "sizemode": "area",
          "sizeref": 5311.6325
         },
         "mode": "markers",
         "name": "Humbermede",
         "showlegend": true,
         "subplot": "mapbox",
         "type": "scattermapbox"
        },
        {
         "hovertemplate": "neighbourhood=Humewood-Cedarvale<br>average_house_value=%{marker.size}<br>lat=%{lat}<br>lon=%{lon}<extra></extra>",
         "lat": [
          43.69136981,
          43.69136981,
          43.69136981,
          43.69136981
         ],
         "legendgroup": "Humewood-Cedarvale",
         "lon": [
          -79.42768335,
          -79.42768335,
          -79.42768335,
          -79.42768335
         ],
         "marker": {
          "color": "#FF6692",
          "size": [
           423537,
           619577,
           774983,
           970245
          ],
          "sizemode": "area",
          "sizeref": 5311.6325
         },
         "mode": "markers",
         "name": "Humewood-Cedarvale",
         "showlegend": true,
         "subplot": "mapbox",
         "type": "scattermapbox"
        },
        {
         "hovertemplate": "neighbourhood=Ionview<br>average_house_value=%{marker.size}<br>lat=%{lat}<br>lon=%{lon}<extra></extra>",
         "lat": [
          43.73536441,
          43.73536441,
          43.73536441,
          43.73536441
         ],
         "legendgroup": "Ionview",
         "lon": [
          -79.27247049,
          -79.27247049,
          -79.27247049,
          -79.27247049
         ],
         "marker": {
          "color": "#B6E880",
          "size": [
           174793,
           255698,
           319834,
           400418
          ],
          "sizemode": "area",
          "sizeref": 5311.6325
         },
         "mode": "markers",
         "name": "Ionview",
         "showlegend": true,
         "subplot": "mapbox",
         "type": "scattermapbox"
        },
        {
         "hovertemplate": "neighbourhood=Islington-City Centre West<br>average_house_value=%{marker.size}<br>lat=%{lat}<br>lon=%{lon}<extra></extra>",
         "lat": [
          43.63346335,
          43.63346335,
          43.63346335,
          43.63346335
         ],
         "legendgroup": "Islington-City Centre West",
         "lon": [
          -79.54331654,
          -79.54331654,
          -79.54331654,
          -79.54331654
         ],
         "marker": {
          "color": "#FF97FF",
          "size": [
           274436,
           401463,
           502160,
           628682
          ],
          "sizemode": "area",
          "sizeref": 5311.6325
         },
         "mode": "markers",
         "name": "Islington-City Centre West",
         "showlegend": true,
         "subplot": "mapbox",
         "type": "scattermapbox"
        },
        {
         "hovertemplate": "neighbourhood=Junction Area<br>average_house_value=%{marker.size}<br>lat=%{lat}<br>lon=%{lon}<extra></extra>",
         "lat": [
          43.66788977,
          43.66788977,
          43.66788977,
          43.66788977
         ],
         "legendgroup": "Junction Area",
         "lon": [
          -79.47143987,
          -79.47143987,
          -79.47143987,
          -79.47143987
         ],
         "marker": {
          "color": "#FECB52",
          "size": [
           263247,
           385094,
           481686,
           603050
          ],
          "sizemode": "area",
          "sizeref": 5311.6325
         },
         "mode": "markers",
         "name": "Junction Area",
         "showlegend": true,
         "subplot": "mapbox",
         "type": "scattermapbox"
        },
        {
         "hovertemplate": "neighbourhood=Keelesdale-Eglinton West<br>average_house_value=%{marker.size}<br>lat=%{lat}<br>lon=%{lon}<extra></extra>",
         "lat": [
          43.68572747,
          43.68572747,
          43.68572747,
          43.68572747
         ],
         "legendgroup": "Keelesdale-Eglinton West",
         "lon": [
          -79.47143711,
          -79.47143711,
          -79.47143711,
          -79.47143711
         ],
         "marker": {
          "color": "#636efa",
          "size": [
           196112,
           286886,
           358844,
           449257
          ],
          "sizemode": "area",
          "sizeref": 5311.6325
         },
         "mode": "markers",
         "name": "Keelesdale-Eglinton West",
         "showlegend": true,
         "subplot": "mapbox",
         "type": "scattermapbox"
        },
        {
         "hovertemplate": "neighbourhood=Kennedy Park<br>average_house_value=%{marker.size}<br>lat=%{lat}<br>lon=%{lon}<extra></extra>",
         "lat": [
          43.72555572,
          43.72555572,
          43.72555572,
          43.72555572
         ],
         "legendgroup": "Kennedy Park",
         "lon": [
          -79.26038221,
          -79.26038221,
          -79.26038221,
          -79.26038221
         ],
         "marker": {
          "color": "#EF553B",
          "size": [
           174518,
           255296,
           319331,
           399789
          ],
          "sizemode": "area",
          "sizeref": 5311.6325
         },
         "mode": "markers",
         "name": "Kennedy Park",
         "showlegend": true,
         "subplot": "mapbox",
         "type": "scattermapbox"
        },
        {
         "hovertemplate": "neighbourhood=Kensington-Chinatown<br>average_house_value=%{marker.size}<br>lat=%{lat}<br>lon=%{lon}<extra></extra>",
         "lat": [
          43.65355413,
          43.65355413,
          43.65355413,
          43.65355413
         ],
         "legendgroup": "Kensington-Chinatown",
         "lon": [
          -79.39723988,
          -79.39723988,
          -79.39723988,
          -79.39723988
         ],
         "marker": {
          "color": "#00cc96",
          "size": [
           267631,
           391509,
           489709,
           613094
          ],
          "sizemode": "area",
          "sizeref": 5311.6325
         },
         "mode": "markers",
         "name": "Kensington-Chinatown",
         "showlegend": true,
         "subplot": "mapbox",
         "type": "scattermapbox"
        },
        {
         "hovertemplate": "neighbourhood=Kingsview Village-The Westway<br>average_house_value=%{marker.size}<br>lat=%{lat}<br>lon=%{lon}<extra></extra>",
         "lat": [
          43.69899257,
          43.69899257,
          43.69899257,
          43.69899257
         ],
         "legendgroup": "Kingsview Village-The Westway",
         "lon": [
          -79.54786331,
          -79.54786331,
          -79.54786331,
          -79.54786331
         ],
         "marker": {
          "color": "#ab63fa",
          "size": [
           205572,
           300725,
           376154,
           470928
          ],
          "sizemode": "area",
          "sizeref": 5311.6325
         },
         "mode": "markers",
         "name": "Kingsview Village-The Westway",
         "showlegend": true,
         "subplot": "mapbox",
         "type": "scattermapbox"
        },
        {
         "hovertemplate": "neighbourhood=Kingsway South<br>average_house_value=%{marker.size}<br>lat=%{lat}<br>lon=%{lon}<extra></extra>",
         "lat": [
          43.65352043,
          43.65352043,
          43.65352043,
          43.65352043
         ],
         "legendgroup": "Kingsway South",
         "lon": [
          -79.5105768,
          -79.5105768,
          -79.5105768,
          -79.5105768
         ],
         "marker": {
          "color": "#FFA15A",
          "size": [
           512334,
           749476,
           937464,
           1173663
          ],
          "sizemode": "area",
          "sizeref": 5311.6325
         },
         "mode": "markers",
         "name": "Kingsway South",
         "showlegend": true,
         "subplot": "mapbox",
         "type": "scattermapbox"
        },
        {
         "hovertemplate": "neighbourhood=L'Amoreaux<br>average_house_value=%{marker.size}<br>lat=%{lat}<br>lon=%{lon}<extra></extra>",
         "lat": [
          43.79571603,
          43.79571603,
          43.79571603,
          43.79571603
         ],
         "legendgroup": "L'Amoreaux",
         "lon": [
          -79.31408424,
          -79.31408424,
          -79.31408424,
          -79.31408424
         ],
         "marker": {
          "color": "#19d3f3",
          "size": [
           395115,
           578001,
           722978,
           905137
          ],
          "sizemode": "area",
          "sizeref": 5311.6325
         },
         "mode": "markers",
         "name": "L'Amoreaux",
         "showlegend": true,
         "subplot": "mapbox",
         "type": "scattermapbox"
        },
        {
         "hovertemplate": "neighbourhood=Lambton Baby Point<br>average_house_value=%{marker.size}<br>lat=%{lat}<br>lon=%{lon}<extra></extra>",
         "lat": [
          43.65742013,
          43.65742013,
          43.65742013,
          43.65742013
         ],
         "legendgroup": "Lambton Baby Point",
         "lon": [
          -79.49604526,
          -79.49604526,
          -79.49604526,
          -79.49604526
         ],
         "marker": {
          "color": "#FF6692",
          "size": [
           204523,
           299190,
           374234,
           468524
          ],
          "sizemode": "area",
          "sizeref": 5311.6325
         },
         "mode": "markers",
         "name": "Lambton Baby Point",
         "showlegend": true,
         "subplot": "mapbox",
         "type": "scattermapbox"
        },
        {
         "hovertemplate": "neighbourhood=Lansing-Westgate<br>average_house_value=%{marker.size}<br>lat=%{lat}<br>lon=%{lon}<extra></extra>",
         "lat": [
          43.75427115,
          43.75427115,
          43.75427115,
          43.75427115
         ],
         "legendgroup": "Lansing-Westgate",
         "lon": [
          -79.42474772,
          -79.42474772,
          -79.42474772,
          -79.42474772
         ],
         "marker": {
          "color": "#B6E880",
          "size": [
           372579,
           545034,
           681742,
           853511
          ],
          "sizemode": "area",
          "sizeref": 5311.6325
         },
         "mode": "markers",
         "name": "Lansing-Westgate",
         "showlegend": true,
         "subplot": "mapbox",
         "type": "scattermapbox"
        },
        {
         "hovertemplate": "neighbourhood=Lawrence Park North<br>average_house_value=%{marker.size}<br>lat=%{lat}<br>lon=%{lon}<extra></extra>",
         "lat": [
          43.73006017,
          43.73006017,
          43.73006017,
          43.73006017
         ],
         "legendgroup": "Lawrence Park North",
         "lon": [
          -79.40397836,
          -79.40397836,
          -79.40397836,
          -79.40397836
         ],
         "marker": {
          "color": "#FF97FF",
          "size": [
           461393,
           674957,
           844253,
           1056967
          ],
          "sizemode": "area",
          "sizeref": 5311.6325
         },
         "mode": "markers",
         "name": "Lawrence Park North",
         "showlegend": true,
         "subplot": "mapbox",
         "type": "scattermapbox"
        },
        {
         "hovertemplate": "neighbourhood=Lawrence Park South<br>average_house_value=%{marker.size}<br>lat=%{lat}<br>lon=%{lon}<extra></extra>",
         "lat": [
          43.7172117,
          43.7172117,
          43.7172117,
          43.7172117
         ],
         "legendgroup": "Lawrence Park South",
         "lon": [
          -79.40603941,
          -79.40603941,
          -79.40603941,
          -79.40603941
         ],
         "marker": {
          "color": "#FECB52",
          "size": [
           664712,
           972384,
           1216283,
           1522732
          ],
          "sizemode": "area",
          "sizeref": 5311.6325
         },
         "mode": "markers",
         "name": "Lawrence Park South",
         "showlegend": true,
         "subplot": "mapbox",
         "type": "scattermapbox"
        },
        {
         "hovertemplate": "neighbourhood=Leaside-Bennington<br>average_house_value=%{marker.size}<br>lat=%{lat}<br>lon=%{lon}<extra></extra>",
         "lat": [
          43.70379663,
          43.70379663,
          43.70379663,
          43.70379663
         ],
         "legendgroup": "Leaside-Bennington",
         "lon": [
          -79.36607234,
          -79.36607234,
          -79.36607234,
          -79.36607234
         ],
         "marker": {
          "color": "#636efa",
          "size": [
           489998,
           716801,
           896593,
           1122495
          ],
          "sizemode": "area",
          "sizeref": 5311.6325
         },
         "mode": "markers",
         "name": "Leaside-Bennington",
         "showlegend": true,
         "subplot": "mapbox",
         "type": "scattermapbox"
        },
        {
         "hovertemplate": "neighbourhood=Little Portugal<br>average_house_value=%{marker.size}<br>lat=%{lat}<br>lon=%{lon}<extra></extra>",
         "lat": [
          43.64753593,
          43.64753593,
          43.64753593,
          43.64753593
         ],
         "legendgroup": "Little Portugal",
         "lon": [
          -79.43032271,
          -79.43032271,
          -79.43032271,
          -79.43032271
         ],
         "marker": {
          "color": "#EF553B",
          "size": [
           328211,
           480129,
           600558,
           751872
          ],
          "sizemode": "area",
          "sizeref": 5311.6325
         },
         "mode": "markers",
         "name": "Little Portugal",
         "showlegend": true,
         "subplot": "mapbox",
         "type": "scattermapbox"
        },
        {
         "hovertemplate": "neighbourhood=Long Branch<br>average_house_value=%{marker.size}<br>lat=%{lat}<br>lon=%{lon}<extra></extra>",
         "lat": [
          43.59236169,
          43.59236169,
          43.59236169,
          43.59236169
         ],
         "legendgroup": "Long Branch",
         "lon": [
          -79.53334545,
          -79.53334545,
          -79.53334545,
          -79.53334545
         ],
         "marker": {
          "color": "#00cc96",
          "size": [
           234424,
           342930,
           428946,
           537021
          ],
          "sizemode": "area",
          "sizeref": 5311.6325
         },
         "mode": "markers",
         "name": "Long Branch",
         "showlegend": true,
         "subplot": "mapbox",
         "type": "scattermapbox"
        },
        {
         "hovertemplate": "neighbourhood=Malvern<br>average_house_value=%{marker.size}<br>lat=%{lat}<br>lon=%{lon}<extra></extra>",
         "lat": [
          43.80365820000001,
          43.80365820000001,
          43.80365820000001,
          43.80365820000001
         ],
         "legendgroup": "Malvern",
         "lon": [
          -79.22251662,
          -79.22251662,
          -79.22251662,
          -79.22251662
         ],
         "marker": {
          "color": "#ab63fa",
          "size": [
           156076,
           228318,
           285586,
           357541
          ],
          "sizemode": "area",
          "sizeref": 5311.6325
         },
         "mode": "markers",
         "name": "Malvern",
         "showlegend": true,
         "subplot": "mapbox",
         "type": "scattermapbox"
        },
        {
         "hovertemplate": "neighbourhood=Maple Leaf<br>average_house_value=%{marker.size}<br>lat=%{lat}<br>lon=%{lon}<extra></extra>",
         "lat": [
          43.71557394,
          43.71557394,
          43.71557394,
          43.71557394
         ],
         "legendgroup": "Maple Leaf",
         "lon": [
          -79.48075802,
          -79.48075802,
          -79.48075802,
          -79.48075802
         ],
         "marker": {
          "color": "#FFA15A",
          "size": [
           275374,
           402835,
           503876,
           630831
          ],
          "sizemode": "area",
          "sizeref": 5311.6325
         },
         "mode": "markers",
         "name": "Maple Leaf",
         "showlegend": true,
         "subplot": "mapbox",
         "type": "scattermapbox"
        },
        {
         "hovertemplate": "neighbourhood=Markland Wood<br>average_house_value=%{marker.size}<br>lat=%{lat}<br>lon=%{lon}<extra></extra>",
         "lat": [
          43.63354175,
          43.63354175,
          43.63354175,
          43.63354175
         ],
         "legendgroup": "Markland Wood",
         "lon": [
          -79.57343155,
          -79.57343155,
          -79.57343155,
          -79.57343155
         ],
         "marker": {
          "color": "#19d3f3",
          "size": [
           269751,
           394610,
           493588,
           617950
          ],
          "sizemode": "area",
          "sizeref": 5311.6325
         },
         "mode": "markers",
         "name": "Markland Wood",
         "showlegend": true,
         "subplot": "mapbox",
         "type": "scattermapbox"
        },
        {
         "hovertemplate": "neighbourhood=Milliken<br>average_house_value=%{marker.size}<br>lat=%{lat}<br>lon=%{lon}<extra></extra>",
         "lat": [
          43.82069079,
          43.82069079,
          43.82069079,
          43.82069079
         ],
         "legendgroup": "Milliken",
         "lon": [
          -79.27500892,
          -79.27500892,
          -79.27500892,
          -79.27500892
         ],
         "marker": {
          "color": "#FF6692",
          "size": [
           209609,
           306629,
           383540,
           480175
          ],
          "sizemode": "area",
          "sizeref": 5311.6325
         },
         "mode": "markers",
         "name": "Milliken",
         "showlegend": true,
         "subplot": "mapbox",
         "type": "scattermapbox"
        },
        {
         "hovertemplate": "neighbourhood=Mimico<br>average_house_value=%{marker.size}<br>lat=%{lat}<br>lon=%{lon}<extra></extra>",
         "lat": [
          43.61592386,
          43.61592386,
          43.61592386,
          43.61592386
         ],
         "legendgroup": "Mimico",
         "lon": [
          -79.50013664,
          -79.50013664,
          -79.50013664,
          -79.50013664
         ],
         "marker": {
          "color": "#B6E880",
          "size": [
           239078,
           349739,
           437462,
           547683
          ],
          "sizemode": "area",
          "sizeref": 5311.6325
         },
         "mode": "markers",
         "name": "Mimico",
         "showlegend": true,
         "subplot": "mapbox",
         "type": "scattermapbox"
        },
        {
         "hovertemplate": "neighbourhood=Morningside<br>average_house_value=%{marker.size}<br>lat=%{lat}<br>lon=%{lon}<extra></extra>",
         "lat": [
          43.78239861,
          43.78239861,
          43.78239861,
          43.78239861
         ],
         "legendgroup": "Morningside",
         "lon": [
          -79.20704119,
          -79.20704119,
          -79.20704119,
          -79.20704119
         ],
         "marker": {
          "color": "#FF97FF",
          "size": [
           173169,
           253323,
           316863,
           396699
          ],
          "sizemode": "area",
          "sizeref": 5311.6325
         },
         "mode": "markers",
         "name": "Morningside",
         "showlegend": true,
         "subplot": "mapbox",
         "type": "scattermapbox"
        },
        {
         "hovertemplate": "neighbourhood=Moss Park<br>average_house_value=%{marker.size}<br>lat=%{lat}<br>lon=%{lon}<extra></extra>",
         "lat": [
          43.65651762,
          43.65651762,
          43.65651762,
          43.65651762
         ],
         "legendgroup": "Moss Park",
         "lon": [
          -79.36729703,
          -79.36729703,
          -79.36729703,
          -79.36729703
         ],
         "marker": {
          "color": "#FECB52",
          "size": [
           248778,
           363929,
           455212,
           569905
          ],
          "sizemode": "area",
          "sizeref": 5311.6325
         },
         "mode": "markers",
         "name": "Moss Park",
         "showlegend": true,
         "subplot": "mapbox",
         "type": "scattermapbox"
        },
        {
         "hovertemplate": "neighbourhood=Mount Dennis<br>average_house_value=%{marker.size}<br>lat=%{lat}<br>lon=%{lon}<extra></extra>",
         "lat": [
          43.68814409,
          43.68814409,
          43.68814409,
          43.68814409
         ],
         "legendgroup": "Mount Dennis",
         "lon": [
          -79.49998906,
          -79.49998906,
          -79.49998906,
          -79.49998906
         ],
         "marker": {
          "color": "#636efa",
          "size": [
           159374,
           233143,
           291621,
           365097
          ],
          "sizemode": "area",
          "sizeref": 5311.6325
         },
         "mode": "markers",
         "name": "Mount Dennis",
         "showlegend": true,
         "subplot": "mapbox",
         "type": "scattermapbox"
        },
        {
         "hovertemplate": "neighbourhood=Mount Olive-Silverstone-Jamestown<br>average_house_value=%{marker.size}<br>lat=%{lat}<br>lon=%{lon}<extra></extra>",
         "lat": [
          43.7468678,
          43.7468678,
          43.7468678,
          43.7468678
         ],
         "legendgroup": "Mount Olive-Silverstone-Jamestown",
         "lon": [
          -79.58725926,
          -79.58725926,
          -79.58725926,
          -79.58725926
         ],
         "marker": {
          "color": "#EF553B",
          "size": [
           153829,
           225031,
           281475,
           352394
          ],
          "sizemode": "area",
          "sizeref": 5311.6325
         },
         "mode": "markers",
         "name": "Mount Olive-Silverstone-Jamestown",
         "showlegend": true,
         "subplot": "mapbox",
         "type": "scattermapbox"
        },
        {
         "hovertemplate": "neighbourhood=Mount Pleasant East<br>average_house_value=%{marker.size}<br>lat=%{lat}<br>lon=%{lon}<extra></extra>",
         "lat": [
          43.70485217,
          43.70485217,
          43.70485217,
          43.70485217
         ],
         "legendgroup": "Mount Pleasant East",
         "lon": [
          -79.38492395,
          -79.38492395,
          -79.38492395,
          -79.38492395
         ],
         "marker": {
          "color": "#00cc96",
          "size": [
           411558,
           602054,
           753065,
           942804
          ],
          "sizemode": "area",
          "sizeref": 5311.6325
         },
         "mode": "markers",
         "name": "Mount Pleasant East",
         "showlegend": true,
         "subplot": "mapbox",
         "type": "scattermapbox"
        },
        {
         "hovertemplate": "neighbourhood=Mount Pleasant West<br>average_house_value=%{marker.size}<br>lat=%{lat}<br>lon=%{lon}<extra></extra>",
         "lat": [
          43.70443517,
          43.70443517,
          43.70443517,
          43.70443517
         ],
         "legendgroup": "Mount Pleasant West",
         "lon": [
          -79.39335955,
          -79.39335955,
          -79.39335955,
          -79.39335955
         ],
         "marker": {
          "color": "#ab63fa",
          "size": [
           284459,
           416125,
           520500,
           651643
          ],
          "sizemode": "area",
          "sizeref": 5311.6325
         },
         "mode": "markers",
         "name": "Mount Pleasant West",
         "showlegend": true,
         "subplot": "mapbox",
         "type": "scattermapbox"
        },
        {
         "hovertemplate": "neighbourhood=New Toronto<br>average_house_value=%{marker.size}<br>lat=%{lat}<br>lon=%{lon}<extra></extra>",
         "lat": [
          43.6005886,
          43.6005886,
          43.6005886,
          43.6005886
         ],
         "legendgroup": "New Toronto",
         "lon": [
          -79.51035809,
          -79.51035809,
          -79.51035809,
          -79.51035809
         ],
         "marker": {
          "color": "#FFA15A",
          "size": [
           247779,
           362468,
           453384,
           567617
          ],
          "sizemode": "area",
          "sizeref": 5311.6325
         },
         "mode": "markers",
         "name": "New Toronto",
         "showlegend": true,
         "subplot": "mapbox",
         "type": "scattermapbox"
        },
        {
         "hovertemplate": "neighbourhood=Newtonbrook East<br>average_house_value=%{marker.size}<br>lat=%{lat}<br>lon=%{lon}<extra></extra>",
         "lat": [
          43.79153579,
          43.79153579,
          43.79153579,
          43.79153579
         ],
         "legendgroup": "Newtonbrook East",
         "lon": [
          -79.40593745,
          -79.40593745,
          -79.40593745,
          -79.40593745
         ],
         "marker": {
          "color": "#19d3f3",
          "size": [
           339987,
           497355,
           622104,
           778847
          ],
          "sizemode": "area",
          "sizeref": 5311.6325
         },
         "mode": "markers",
         "name": "Newtonbrook East",
         "showlegend": true,
         "subplot": "mapbox",
         "type": "scattermapbox"
        },
        {
         "hovertemplate": "neighbourhood=Newtonbrook West<br>average_house_value=%{marker.size}<br>lat=%{lat}<br>lon=%{lon}<extra></extra>",
         "lat": [
          43.78582994,
          43.78582994,
          43.78582994,
          43.78582994
         ],
         "legendgroup": "Newtonbrook West",
         "lon": [
          -79.43142151,
          -79.43142151,
          -79.43142151,
          -79.43142151
         ],
         "marker": {
          "color": "#FF6692",
          "size": [
           279833,
           409358,
           512036,
           641047
          ],
          "sizemode": "area",
          "sizeref": 5311.6325
         },
         "mode": "markers",
         "name": "Newtonbrook West",
         "showlegend": true,
         "subplot": "mapbox",
         "type": "scattermapbox"
        },
        {
         "hovertemplate": "neighbourhood=Niagara<br>average_house_value=%{marker.size}<br>lat=%{lat}<br>lon=%{lon}<extra></extra>",
         "lat": [
          43.63668088,
          43.63668088,
          43.63668088,
          43.63668088
         ],
         "legendgroup": "Niagara",
         "lon": [
          -79.4124204,
          -79.4124204,
          -79.4124204,
          -79.4124204
         ],
         "marker": {
          "color": "#B6E880",
          "size": [
           224801,
           328854,
           411339,
           514978
          ],
          "sizemode": "area",
          "sizeref": 5311.6325
         },
         "mode": "markers",
         "name": "Niagara",
         "showlegend": true,
         "subplot": "mapbox",
         "type": "scattermapbox"
        },
        {
         "hovertemplate": "neighbourhood=North Riverdale<br>average_house_value=%{marker.size}<br>lat=%{lat}<br>lon=%{lon}<extra></extra>",
         "lat": [
          43.67199515,
          43.67199515,
          43.67199515,
          43.67199515
         ],
         "legendgroup": "North Riverdale",
         "lon": [
          -79.35126041,
          -79.35126041,
          -79.35126041,
          -79.35126041
         ],
         "marker": {
          "color": "#FF97FF",
          "size": [
           427169,
           624890,
           781629,
           978565
          ],
          "sizemode": "area",
          "sizeref": 5311.6325
         },
         "mode": "markers",
         "name": "North Riverdale",
         "showlegend": true,
         "subplot": "mapbox",
         "type": "scattermapbox"
        },
        {
         "hovertemplate": "neighbourhood=North St.James Town<br>average_house_value=%{marker.size}<br>lat=%{lat}<br>lon=%{lon}<extra></extra>",
         "lat": [
          43.66962341,
          43.66962341,
          43.66962341,
          43.66962341
         ],
         "legendgroup": "North St.James Town",
         "lon": [
          -79.37524658,
          -79.37524658,
          -79.37524658,
          -79.37524658
         ],
         "marker": {
          "color": "#FECB52",
          "size": [
           249993,
           365706,
           457435,
           572689
          ],
          "sizemode": "area",
          "sizeref": 5311.6325
         },
         "mode": "markers",
         "name": "North St.James Town",
         "showlegend": true,
         "subplot": "mapbox",
         "type": "scattermapbox"
        },
        {
         "hovertemplate": "neighbourhood=O'Connor-Parkview<br>average_house_value=%{marker.size}<br>lat=%{lat}<br>lon=%{lon}<extra></extra>",
         "lat": [
          43.70680049,
          43.70680049,
          43.70680049,
          43.70680049
         ],
         "legendgroup": "O'Connor-Parkview",
         "lon": [
          -79.31222777,
          -79.31222777,
          -79.31222777,
          -79.31222777
         ],
         "marker": {
          "color": "#636efa",
          "size": [
           181251,
           265146,
           331652,
           415214
          ],
          "sizemode": "area",
          "sizeref": 5311.6325
         },
         "mode": "markers",
         "name": "O'Connor-Parkview",
         "showlegend": true,
         "subplot": "mapbox",
         "type": "scattermapbox"
        },
        {
         "hovertemplate": "neighbourhood=Oakridge<br>average_house_value=%{marker.size}<br>lat=%{lat}<br>lon=%{lon}<extra></extra>",
         "lat": [
          43.69740813,
          43.69740813,
          43.69740813,
          43.69740813
         ],
         "legendgroup": "Oakridge",
         "lon": [
          -79.27970834,
          -79.27970834,
          -79.27970834,
          -79.27970834
         ],
         "marker": {
          "color": "#EF553B",
          "size": [
           256556,
           375307,
           469444,
           587723
          ],
          "sizemode": "area",
          "sizeref": 5311.6325
         },
         "mode": "markers",
         "name": "Oakridge",
         "showlegend": true,
         "subplot": "mapbox",
         "type": "scattermapbox"
        },
        {
         "hovertemplate": "neighbourhood=Oakwood Village<br>average_house_value=%{marker.size}<br>lat=%{lat}<br>lon=%{lon}<extra></extra>",
         "lat": [
          43.68856556,
          43.68856556,
          43.68856556,
          43.68856556
         ],
         "legendgroup": "Oakwood Village",
         "lon": [
          -79.43978548,
          -79.43978548,
          -79.43978548,
          -79.43978548
         ],
         "marker": {
          "color": "#00cc96",
          "size": [
           268067,
           392146,
           490506,
           614092
          ],
          "sizemode": "area",
          "sizeref": 5311.6325
         },
         "mode": "markers",
         "name": "Oakwood Village",
         "showlegend": true,
         "subplot": "mapbox",
         "type": "scattermapbox"
        },
        {
         "hovertemplate": "neighbourhood=Old East York<br>average_house_value=%{marker.size}<br>lat=%{lat}<br>lon=%{lon}<extra></extra>",
         "lat": [
          43.69678127,
          43.69678127,
          43.69678127,
          43.69678127
         ],
         "legendgroup": "Old East York",
         "lon": [
          -79.33548836,
          -79.33548836,
          -79.33548836,
          -79.33548836
         ],
         "marker": {
          "color": "#ab63fa",
          "size": [
           269410,
           394111,
           492964,
           617169
          ],
          "sizemode": "area",
          "sizeref": 5311.6325
         },
         "mode": "markers",
         "name": "Old East York",
         "showlegend": true,
         "subplot": "mapbox",
         "type": "scattermapbox"
        },
        {
         "hovertemplate": "neighbourhood=Palmerston-Little Italy<br>average_house_value=%{marker.size}<br>lat=%{lat}<br>lon=%{lon}<extra></extra>",
         "lat": [
          43.6591571,
          43.6591571,
          43.6591571,
          43.6591571
         ],
         "legendgroup": "Palmerston-Little Italy",
         "lon": [
          -79.41840873,
          -79.41840873,
          -79.41840873,
          -79.41840873
         ],
         "marker": {
          "color": "#FFA15A",
          "size": [
           378033,
           553011,
           691720,
           866003
          ],
          "sizemode": "area",
          "sizeref": 5311.6325
         },
         "mode": "markers",
         "name": "Palmerston-Little Italy",
         "showlegend": true,
         "subplot": "mapbox",
         "type": "scattermapbox"
        },
        {
         "hovertemplate": "neighbourhood=Parkwoods-Donalda<br>average_house_value=%{marker.size}<br>lat=%{lat}<br>lon=%{lon}<extra></extra>",
         "lat": [
          43.75503347,
          43.75503347,
          43.75503347,
          43.75503347
         ],
         "legendgroup": "Parkwoods-Donalda",
         "lon": [
          -79.33017952,
          -79.33017952,
          -79.33017952,
          -79.33017952
         ],
         "marker": {
          "color": "#19d3f3",
          "size": [
           276239,
           404100,
           505459,
           632812
          ],
          "sizemode": "area",
          "sizeref": 5311.6325
         },
         "mode": "markers",
         "name": "Parkwoods-Donalda",
         "showlegend": true,
         "subplot": "mapbox",
         "type": "scattermapbox"
        },
        {
         "hovertemplate": "neighbourhood=Pelmo Park-Humberlea<br>average_house_value=%{marker.size}<br>lat=%{lat}<br>lon=%{lon}<extra></extra>",
         "lat": [
          43.7175146,
          43.7175146,
          43.7175146,
          43.7175146
         ],
         "legendgroup": "Pelmo Park-Humberlea",
         "lon": [
          -79.5282822,
          -79.5282822,
          -79.5282822,
          -79.5282822
         ],
         "marker": {
          "color": "#FF6692",
          "size": [
           246333,
           360352,
           450737,
           564303
          ],
          "sizemode": "area",
          "sizeref": 5311.6325
         },
         "mode": "markers",
         "name": "Pelmo Park-Humberlea",
         "showlegend": true,
         "subplot": "mapbox",
         "type": "scattermapbox"
        },
        {
         "hovertemplate": "neighbourhood=Playter Estates-Danforth<br>average_house_value=%{marker.size}<br>lat=%{lat}<br>lon=%{lon}<extra></extra>",
         "lat": [
          43.67970047,
          43.67970047,
          43.67970047,
          43.67970047
         ],
         "legendgroup": "Playter Estates-Danforth",
         "lon": [
          -79.35488729,
          -79.35488729,
          -79.35488729,
          -79.35488729
         ],
         "marker": {
          "color": "#B6E880",
          "size": [
           394235,
           576713,
           721368,
           903121
          ],
          "sizemode": "area",
          "sizeref": 5311.6325
         },
         "mode": "markers",
         "name": "Playter Estates-Danforth",
         "showlegend": true,
         "subplot": "mapbox",
         "type": "scattermapbox"
        },
        {
         "hovertemplate": "neighbourhood=Pleasant View<br>average_house_value=%{marker.size}<br>lat=%{lat}<br>lon=%{lon}<extra></extra>",
         "lat": [
          43.78698176,
          43.78698176,
          43.78698176,
          43.78698176
         ],
         "legendgroup": "Pleasant View",
         "lon": [
          -79.33494843,
          -79.33494843,
          -79.33494843,
          -79.33494843
         ],
         "marker": {
          "color": "#FF97FF",
          "size": [
           226856,
           331860,
           415099,
           519686
          ],
          "sizemode": "area",
          "sizeref": 5311.6325
         },
         "mode": "markers",
         "name": "Pleasant View",
         "showlegend": true,
         "subplot": "mapbox",
         "type": "scattermapbox"
        },
        {
         "hovertemplate": "neighbourhood=Princess-Rosethorn<br>average_house_value=%{marker.size}<br>lat=%{lat}<br>lon=%{lon}<extra></extra>",
         "lat": [
          43.6660506,
          43.6660506,
          43.6660506,
          43.6660506
         ],
         "legendgroup": "Princess-Rosethorn",
         "lon": [
          -79.54455929,
          -79.54455929,
          -79.54455929,
          -79.54455929
         ],
         "marker": {
          "color": "#FECB52",
          "size": [
           465254,
           680604,
           851317,
           1065811
          ],
          "sizemode": "area",
          "sizeref": 5311.6325
         },
         "mode": "markers",
         "name": "Princess-Rosethorn",
         "showlegend": true,
         "subplot": "mapbox",
         "type": "scattermapbox"
        },
        {
         "hovertemplate": "neighbourhood=Regent Park<br>average_house_value=%{marker.size}<br>lat=%{lat}<br>lon=%{lon}<extra></extra>",
         "lat": [
          43.65999214,
          43.65999214,
          43.65999214,
          43.65999214
         ],
         "legendgroup": "Regent Park",
         "lon": [
          -79.36050881,
          -79.36050881,
          -79.36050881,
          -79.36050881
         ],
         "marker": {
          "color": "#636efa",
          "size": [
           238524,
           348928,
           436448,
           546413
          ],
          "sizemode": "area",
          "sizeref": 5311.6325
         },
         "mode": "markers",
         "name": "Regent Park",
         "showlegend": true,
         "subplot": "mapbox",
         "type": "scattermapbox"
        },
        {
         "hovertemplate": "neighbourhood=Rexdale-Kipling<br>average_house_value=%{marker.size}<br>lat=%{lat}<br>lon=%{lon}<extra></extra>",
         "lat": [
          43.72372548,
          43.72372548,
          43.72372548,
          43.72372548
         ],
         "legendgroup": "Rexdale-Kipling",
         "lon": [
          -79.56622841,
          -79.56622841,
          -79.56622841,
          -79.56622841
         ],
         "marker": {
          "color": "#EF553B",
          "size": [
           219337,
           320860,
           401340,
           502460
          ],
          "sizemode": "area",
          "sizeref": 5311.6325
         },
         "mode": "markers",
         "name": "Rexdale-Kipling",
         "showlegend": true,
         "subplot": "mapbox",
         "type": "scattermapbox"
        },
        {
         "hovertemplate": "neighbourhood=Rockcliffe-Smythe<br>average_house_value=%{marker.size}<br>lat=%{lat}<br>lon=%{lon}<extra></extra>",
         "lat": [
          43.67479045,
          43.67479045,
          43.67479045,
          43.67479045
         ],
         "legendgroup": "Rockcliffe-Smythe",
         "lon": [
          -79.49442045,
          -79.49442045,
          -79.49442045,
          -79.49442045
         ],
         "marker": {
          "color": "#00cc96",
          "size": [
           210017,
           307227,
           384287,
           481110
          ],
          "sizemode": "area",
          "sizeref": 5311.6325
         },
         "mode": "markers",
         "name": "Rockcliffe-Smythe",
         "showlegend": true,
         "subplot": "mapbox",
         "type": "scattermapbox"
        },
        {
         "hovertemplate": "neighbourhood=Roncesvalles<br>average_house_value=%{marker.size}<br>lat=%{lat}<br>lon=%{lon}<extra></extra>",
         "lat": [
          43.64612299,
          43.64612299,
          43.64612299,
          43.64612299
         ],
         "legendgroup": "Roncesvalles",
         "lon": [
          -79.44299245,
          -79.44299245,
          -79.44299245,
          -79.44299245
         ],
         "marker": {
          "color": "#ab63fa",
          "size": [
           309221,
           452349,
           565810,
           708369
          ],
          "sizemode": "area",
          "sizeref": 5311.6325
         },
         "mode": "markers",
         "name": "Roncesvalles",
         "showlegend": true,
         "subplot": "mapbox",
         "type": "scattermapbox"
        },
        {
         "hovertemplate": "neighbourhood=Rosedale-Moore Park<br>average_house_value=%{marker.size}<br>lat=%{lat}<br>lon=%{lon}<extra></extra>",
         "lat": [
          43.68282043,
          43.68282043,
          43.68282043,
          43.68282043
         ],
         "legendgroup": "Rosedale-Moore Park",
         "lon": [
          -79.3796694,
          -79.3796694,
          -79.3796694,
          -79.3796694
         ],
         "marker": {
          "color": "#FFA15A",
          "size": [
           664476,
           972039,
           1215852,
           1522193
          ],
          "sizemode": "area",
          "sizeref": 5311.6325
         },
         "mode": "markers",
         "name": "Rosedale-Moore Park",
         "showlegend": true,
         "subplot": "mapbox",
         "type": "scattermapbox"
        },
        {
         "hovertemplate": "neighbourhood=Rouge<br>average_house_value=%{marker.size}<br>lat=%{lat}<br>lon=%{lon}<extra></extra>",
         "lat": [
          43.82120126,
          43.82120126,
          43.82120126,
          43.82120126
         ],
         "legendgroup": "Rouge",
         "lon": [
          -79.18634345,
          -79.18634345,
          -79.18634345,
          -79.18634345
         ],
         "marker": {
          "color": "#19d3f3",
          "size": [
           228625,
           334448,
           418336,
           523738
          ],
          "sizemode": "area",
          "sizeref": 5311.6325
         },
         "mode": "markers",
         "name": "Rouge",
         "showlegend": true,
         "subplot": "mapbox",
         "type": "scattermapbox"
        },
        {
         "hovertemplate": "neighbourhood=Runnymede-Bloor West Village<br>average_house_value=%{marker.size}<br>lat=%{lat}<br>lon=%{lon}<extra></extra>",
         "lat": [
          43.65926882,
          43.65926882,
          43.65926882,
          43.65926882
         ],
         "legendgroup": "Runnymede-Bloor West Village",
         "lon": [
          -79.48570818,
          -79.48570818,
          -79.48570818,
          -79.48570818
         ],
         "marker": {
          "color": "#FF6692",
          "size": [
           335435,
           490697,
           613776,
           768420
          ],
          "sizemode": "area",
          "sizeref": 5311.6325
         },
         "mode": "markers",
         "name": "Runnymede-Bloor West Village",
         "showlegend": true,
         "subplot": "mapbox",
         "type": "scattermapbox"
        },
        {
         "hovertemplate": "neighbourhood=Rustic<br>average_house_value=%{marker.size}<br>lat=%{lat}<br>lon=%{lon}<extra></extra>",
         "lat": [
          43.71160912,
          43.71160912,
          43.71160912,
          43.71160912
         ],
         "legendgroup": "Rustic",
         "lon": [
          -79.49809147,
          -79.49809147,
          -79.49809147,
          -79.49809147
         ],
         "marker": {
          "color": "#B6E880",
          "size": [
           261923,
           383158,
           479264,
           600017
          ],
          "sizemode": "area",
          "sizeref": 5311.6325
         },
         "mode": "markers",
         "name": "Rustic",
         "showlegend": true,
         "subplot": "mapbox",
         "type": "scattermapbox"
        },
        {
         "hovertemplate": "neighbourhood=Scarborough Village<br>average_house_value=%{marker.size}<br>lat=%{lat}<br>lon=%{lon}<extra></extra>",
         "lat": [
          43.73865186,
          43.73865186,
          43.73865186,
          43.73865186
         ],
         "legendgroup": "Scarborough Village",
         "lon": [
          -79.21681262,
          -79.21681262,
          -79.21681262,
          -79.21681262
         ],
         "marker": {
          "color": "#FF97FF",
          "size": [
           200402,
           293162,
           366694,
           459085
          ],
          "sizemode": "area",
          "sizeref": 5311.6325
         },
         "mode": "markers",
         "name": "Scarborough Village",
         "showlegend": true,
         "subplot": "mapbox",
         "type": "scattermapbox"
        },
        {
         "hovertemplate": "neighbourhood=South Parkdale<br>average_house_value=%{marker.size}<br>lat=%{lat}<br>lon=%{lon}<extra></extra>",
         "lat": [
          43.63669952,
          43.63669952,
          43.63669952,
          43.63669952
         ],
         "legendgroup": "South Parkdale",
         "lon": [
          -79.43933783,
          -79.43933783,
          -79.43933783,
          -79.43933783
         ],
         "marker": {
          "color": "#FECB52",
          "size": [
           271880,
           397724,
           497483,
           622827
          ],
          "sizemode": "area",
          "sizeref": 5311.6325
         },
         "mode": "markers",
         "name": "South Parkdale",
         "showlegend": true,
         "subplot": "mapbox",
         "type": "scattermapbox"
        },
        {
         "hovertemplate": "neighbourhood=South Riverdale<br>average_house_value=%{marker.size}<br>lat=%{lat}<br>lon=%{lon}<extra></extra>",
         "lat": [
          43.64929206,
          43.64929206,
          43.64929206,
          43.64929206
         ],
         "legendgroup": "South Riverdale",
         "lon": [
          -79.33565132,
          -79.33565132,
          -79.33565132,
          -79.33565132
         ],
         "marker": {
          "color": "#636efa",
          "size": [
           276462,
           404427,
           505868,
           633325
          ],
          "sizemode": "area",
          "sizeref": 5311.6325
         },
         "mode": "markers",
         "name": "South Riverdale",
         "showlegend": true,
         "subplot": "mapbox",
         "type": "scattermapbox"
        },
        {
         "hovertemplate": "neighbourhood=St.Andrew-Windfields<br>average_house_value=%{marker.size}<br>lat=%{lat}<br>lon=%{lon}<extra></extra>",
         "lat": [
          43.75624583,
          43.75624583,
          43.75624583,
          43.75624583
         ],
         "legendgroup": "St.Andrew-Windfields",
         "lon": [
          -79.37903709,
          -79.37903709,
          -79.37903709,
          -79.37903709
         ],
         "marker": {
          "color": "#EF553B",
          "size": [
           607040,
           888017,
           1110755,
           1390616
          ],
          "sizemode": "area",
          "sizeref": 5311.6325
         },
         "mode": "markers",
         "name": "St.Andrew-Windfields",
         "showlegend": true,
         "subplot": "mapbox",
         "type": "scattermapbox"
        },
        {
         "hovertemplate": "neighbourhood=Steeles<br>average_house_value=%{marker.size}<br>lat=%{lat}<br>lon=%{lon}<extra></extra>",
         "lat": [
          43.81295883,
          43.81295883,
          43.81295883,
          43.81295883
         ],
         "legendgroup": "Steeles",
         "lon": [
          -79.32120701,
          -79.32120701,
          -79.32120701,
          -79.32120701
         ],
         "marker": {
          "color": "#00cc96",
          "size": [
           228460,
           334206,
           418033,
           523359
          ],
          "sizemode": "area",
          "sizeref": 5311.6325
         },
         "mode": "markers",
         "name": "Steeles",
         "showlegend": true,
         "subplot": "mapbox",
         "type": "scattermapbox"
        },
        {
         "hovertemplate": "neighbourhood=Stonegate-Queensway<br>average_house_value=%{marker.size}<br>lat=%{lat}<br>lon=%{lon}<extra></extra>",
         "lat": [
          43.63551813,
          43.63551813,
          43.63551813,
          43.63551813
         ],
         "legendgroup": "Stonegate-Queensway",
         "lon": [
          -79.50112821,
          -79.50112821,
          -79.50112821,
          -79.50112821
         ],
         "marker": {
          "color": "#ab63fa",
          "size": [
           334433,
           489230,
           611942,
           766124
          ],
          "sizemode": "area",
          "sizeref": 5311.6325
         },
         "mode": "markers",
         "name": "Stonegate-Queensway",
         "showlegend": true,
         "subplot": "mapbox",
         "type": "scattermapbox"
        },
        {
         "hovertemplate": "neighbourhood=Tam O'Shanter-Sullivan<br>average_house_value=%{marker.size}<br>lat=%{lat}<br>lon=%{lon}<extra></extra>",
         "lat": [
          43.78012985,
          43.78012985,
          43.78012985,
          43.78012985
         ],
         "legendgroup": "Tam O'Shanter-Sullivan",
         "lon": [
          -79.30291871,
          -79.30291871,
          -79.30291871,
          -79.30291871
         ],
         "marker": {
          "color": "#FFA15A",
          "size": [
           215039,
           314574,
           393477,
           492616
          ],
          "sizemode": "area",
          "sizeref": 5311.6325
         },
         "mode": "markers",
         "name": "Tam O'Shanter-Sullivan",
         "showlegend": true,
         "subplot": "mapbox",
         "type": "scattermapbox"
        },
        {
         "hovertemplate": "neighbourhood=Taylor-Massey<br>average_house_value=%{marker.size}<br>lat=%{lat}<br>lon=%{lon}<extra></extra>",
         "lat": [
          43.69499819,
          43.69499819,
          43.69499819,
          43.69499819
         ],
         "legendgroup": "Taylor-Massey",
         "lon": [
          -79.29590112,
          -79.29590112,
          -79.29590112,
          -79.29590112
         ],
         "marker": {
          "color": "#19d3f3",
          "size": [
           145464,
           212794,
           266168,
           333230
          ],
          "sizemode": "area",
          "sizeref": 5311.6325
         },
         "mode": "markers",
         "name": "Taylor-Massey",
         "showlegend": true,
         "subplot": "mapbox",
         "type": "scattermapbox"
        },
        {
         "hovertemplate": "neighbourhood=The Beaches<br>average_house_value=%{marker.size}<br>lat=%{lat}<br>lon=%{lon}<extra></extra>",
         "lat": [
          43.67104999,
          43.67104999,
          43.67104999,
          43.67104999
         ],
         "legendgroup": "The Beaches",
         "lon": [
          -79.29960129999999,
          -79.29960129999999,
          -79.29960129999999,
          -79.29960129999999
         ],
         "marker": {
          "color": "#FF6692",
          "size": [
           404836,
           592220,
           740764,
           927404
          ],
          "sizemode": "area",
          "sizeref": 5311.6325
         },
         "mode": "markers",
         "name": "The Beaches",
         "showlegend": true,
         "subplot": "mapbox",
         "type": "scattermapbox"
        },
        {
         "hovertemplate": "neighbourhood=Thistletown-Beaumond Heights<br>average_house_value=%{marker.size}<br>lat=%{lat}<br>lon=%{lon}<extra></extra>",
         "lat": [
          43.73798792,
          43.73798792,
          43.73798792,
          43.73798792
         ],
         "legendgroup": "Thistletown-Beaumond Heights",
         "lon": [
          -79.56349102,
          -79.56349102,
          -79.56349102,
          -79.56349102
         ],
         "marker": {
          "color": "#B6E880",
          "size": [
           228368,
           334072,
           417866,
           523150
          ],
          "sizemode": "area",
          "sizeref": 5311.6325
         },
         "mode": "markers",
         "name": "Thistletown-Beaumond Heights",
         "showlegend": true,
         "subplot": "mapbox",
         "type": "scattermapbox"
        },
        {
         "hovertemplate": "neighbourhood=Thorncliffe Park<br>average_house_value=%{marker.size}<br>lat=%{lat}<br>lon=%{lon}<extra></extra>",
         "lat": [
          43.70774921,
          43.70774921,
          43.70774921,
          43.70774921
         ],
         "legendgroup": "Thorncliffe Park",
         "lon": [
          -79.34998361,
          -79.34998361,
          -79.34998361,
          -79.34998361
         ],
         "marker": {
          "color": "#FF97FF",
          "size": [
           155094,
           226882,
           283790,
           355293
          ],
          "sizemode": "area",
          "sizeref": 5311.6325
         },
         "mode": "markers",
         "name": "Thorncliffe Park",
         "showlegend": true,
         "subplot": "mapbox",
         "type": "scattermapbox"
        },
        {
         "hovertemplate": "neighbourhood=Trinity-Bellwoods<br>average_house_value=%{marker.size}<br>lat=%{lat}<br>lon=%{lon}<extra></extra>",
         "lat": [
          43.6501763,
          43.6501763,
          43.6501763,
          43.6501763
         ],
         "legendgroup": "Trinity-Bellwoods",
         "lon": [
          -79.41534216,
          -79.41534216,
          -79.41534216,
          -79.41534216
         ],
         "marker": {
          "color": "#FECB52",
          "size": [
           324732,
           475039,
           594191,
           743901
          ],
          "sizemode": "area",
          "sizeref": 5311.6325
         },
         "mode": "markers",
         "name": "Trinity-Bellwoods",
         "showlegend": true,
         "subplot": "mapbox",
         "type": "scattermapbox"
        },
        {
         "hovertemplate": "neighbourhood=University<br>average_house_value=%{marker.size}<br>lat=%{lat}<br>lon=%{lon}<extra></extra>",
         "lat": [
          43.6625062,
          43.6625062,
          43.6625062,
          43.6625062
         ],
         "legendgroup": "University",
         "lon": [
          -79.40117975,
          -79.40117975,
          -79.40117975,
          -79.40117975
         ],
         "marker": {
          "color": "#636efa",
          "size": [
           375678,
           549567,
           687412,
           860610
          ],
          "sizemode": "area",
          "sizeref": 5311.6325
         },
         "mode": "markers",
         "name": "University",
         "showlegend": true,
         "subplot": "mapbox",
         "type": "scattermapbox"
        },
        {
         "hovertemplate": "neighbourhood=Victoria Village<br>average_house_value=%{marker.size}<br>lat=%{lat}<br>lon=%{lon}<extra></extra>",
         "lat": [
          43.72848902,
          43.72848902,
          43.72848902,
          43.72848902
         ],
         "legendgroup": "Victoria Village",
         "lon": [
          -79.31487383,
          -79.31487383,
          -79.31487383,
          -79.31487383
         ],
         "marker": {
          "color": "#EF553B",
          "size": [
           213950,
           312980,
           391483,
           490119
          ],
          "sizemode": "area",
          "sizeref": 5311.6325
         },
         "mode": "markers",
         "name": "Victoria Village",
         "showlegend": true,
         "subplot": "mapbox",
         "type": "scattermapbox"
        },
        {
         "hovertemplate": "neighbourhood=Waterfront Communities-The Island<br>average_house_value=%{marker.size}<br>lat=%{lat}<br>lon=%{lon}<extra></extra>",
         "lat": [
          43.63388036,
          43.63388036,
          43.63388036,
          43.63388036
         ],
         "legendgroup": "Waterfront Communities-The Island",
         "lon": [
          -79.37720231,
          -79.37720231,
          -79.37720231,
          -79.37720231
         ],
         "marker": {
          "color": "#00cc96",
          "size": [
           228975,
           334960,
           418977,
           524540
          ],
          "sizemode": "area",
          "sizeref": 5311.6325
         },
         "mode": "markers",
         "name": "Waterfront Communities-The Island",
         "showlegend": true,
         "subplot": "mapbox",
         "type": "scattermapbox"
        },
        {
         "hovertemplate": "neighbourhood=West Hill<br>average_house_value=%{marker.size}<br>lat=%{lat}<br>lon=%{lon}<extra></extra>",
         "lat": [
          43.76749026,
          43.76749026,
          43.76749026,
          43.76749026
         ],
         "legendgroup": "West Hill",
         "lon": [
          -79.17667603,
          -79.17667603,
          -79.17667603,
          -79.17667603
         ],
         "marker": {
          "color": "#ab63fa",
          "size": [
           172947,
           252998,
           316456,
           396189
          ],
          "sizemode": "area",
          "sizeref": 5311.6325
         },
         "mode": "markers",
         "name": "West Hill",
         "showlegend": true,
         "subplot": "mapbox",
         "type": "scattermapbox"
        },
        {
         "hovertemplate": "neighbourhood=West Humber-Clairville<br>average_house_value=%{marker.size}<br>lat=%{lat}<br>lon=%{lon}<extra></extra>",
         "lat": [
          43.7161804,
          43.7161804,
          43.7161804,
          43.7161804
         ],
         "legendgroup": "West Humber-Clairville",
         "lon": [
          -79.59635645,
          -79.59635645,
          -79.59635645,
          -79.59635645
         ],
         "marker": {
          "color": "#FFA15A",
          "size": [
           208555,
           305088,
           381612,
           477762
          ],
          "sizemode": "area",
          "sizeref": 5311.6325
         },
         "mode": "markers",
         "name": "West Humber-Clairville",
         "showlegend": true,
         "subplot": "mapbox",
         "type": "scattermapbox"
        },
        {
         "hovertemplate": "neighbourhood=Westminster-Branson<br>average_house_value=%{marker.size}<br>lat=%{lat}<br>lon=%{lon}<extra></extra>",
         "lat": [
          43.77881322,
          43.77881322,
          43.77881322,
          43.77881322
         ],
         "legendgroup": "Westminster-Branson",
         "lon": [
          -79.45241823,
          -79.45241823,
          -79.45241823,
          -79.45241823
         ],
         "marker": {
          "color": "#19d3f3",
          "size": [
           212241,
           310480,
           388356,
           486204
          ],
          "sizemode": "area",
          "sizeref": 5311.6325
         },
         "mode": "markers",
         "name": "Westminster-Branson",
         "showlegend": true,
         "subplot": "mapbox",
         "type": "scattermapbox"
        },
        {
         "hovertemplate": "neighbourhood=Weston<br>average_house_value=%{marker.size}<br>lat=%{lat}<br>lon=%{lon}<extra></extra>",
         "lat": [
          43.70271605,
          43.70271605,
          43.70271605,
          43.70271605
         ],
         "legendgroup": "Weston",
         "lon": [
          -79.51572255,
          -79.51572255,
          -79.51572255,
          -79.51572255
         ],
         "marker": {
          "color": "#FF6692",
          "size": [
           187140,
           273761,
           342427,
           428703
          ],
          "sizemode": "area",
          "sizeref": 5311.6325
         },
         "mode": "markers",
         "name": "Weston",
         "showlegend": true,
         "subplot": "mapbox",
         "type": "scattermapbox"
        },
        {
         "hovertemplate": "neighbourhood=Weston-Pellam Park<br>average_house_value=%{marker.size}<br>lat=%{lat}<br>lon=%{lon}<extra></extra>",
         "lat": [
          43.67396204,
          43.67396204,
          43.67396204,
          43.67396204
         ],
         "legendgroup": "Weston-Pellam Park",
         "lon": [
          -79.46024391,
          -79.46024391,
          -79.46024391,
          -79.46024391
         ],
         "marker": {
          "color": "#B6E880",
          "size": [
           213749,
           312685,
           391115,
           489659
          ],
          "sizemode": "area",
          "sizeref": 5311.6325
         },
         "mode": "markers",
         "name": "Weston-Pellam Park",
         "showlegend": true,
         "subplot": "mapbox",
         "type": "scattermapbox"
        },
        {
         "hovertemplate": "neighbourhood=Wexford/Maryvale<br>average_house_value=%{marker.size}<br>lat=%{lat}<br>lon=%{lon}<extra></extra>",
         "lat": [
          43.74857214,
          43.74857214,
          43.74857214,
          43.74857214
         ],
         "legendgroup": "Wexford/Maryvale",
         "lon": [
          -79.29863657,
          -79.29863657,
          -79.29863657,
          -79.29863657
         ],
         "marker": {
          "color": "#FF97FF",
          "size": [
           211633,
           309590,
           387243,
           484811
          ],
          "sizemode": "area",
          "sizeref": 5311.6325
         },
         "mode": "markers",
         "name": "Wexford/Maryvale",
         "showlegend": true,
         "subplot": "mapbox",
         "type": "scattermapbox"
        },
        {
         "hovertemplate": "neighbourhood=Willowdale East<br>average_house_value=%{marker.size}<br>lat=%{lat}<br>lon=%{lon}<extra></extra>",
         "lat": [
          43.77060226,
          43.77060226,
          43.77060226,
          43.77060226
         ],
         "legendgroup": "Willowdale East",
         "lon": [
          -79.40148379,
          -79.40148379,
          -79.40148379,
          -79.40148379
         ],
         "marker": {
          "color": "#FECB52",
          "size": [
           284984,
           416893,
           521460,
           652845
          ],
          "sizemode": "area",
          "sizeref": 5311.6325
         },
         "mode": "markers",
         "name": "Willowdale East",
         "showlegend": true,
         "subplot": "mapbox",
         "type": "scattermapbox"
        },
        {
         "hovertemplate": "neighbourhood=Willowdale West<br>average_house_value=%{marker.size}<br>lat=%{lat}<br>lon=%{lon}<extra></extra>",
         "lat": [
          43.77121049,
          43.77121049,
          43.77121049,
          43.77121049
         ],
         "legendgroup": "Willowdale West",
         "lon": [
          -79.4275578,
          -79.4275578,
          -79.4275578,
          -79.4275578
         ],
         "marker": {
          "color": "#636efa",
          "size": [
           283215,
           414306,
           518224,
           648794
          ],
          "sizemode": "area",
          "sizeref": 5311.6325
         },
         "mode": "markers",
         "name": "Willowdale West",
         "showlegend": true,
         "subplot": "mapbox",
         "type": "scattermapbox"
        },
        {
         "hovertemplate": "neighbourhood=Willowridge-Martingrove-Richview<br>average_house_value=%{marker.size}<br>lat=%{lat}<br>lon=%{lon}<extra></extra>",
         "lat": [
          43.68364496,
          43.68364496,
          43.68364496,
          43.68364496
         ],
         "legendgroup": "Willowridge-Martingrove-Richview",
         "lon": [
          -79.55422105,
          -79.55422105,
          -79.55422105,
          -79.55422105
         ],
         "marker": {
          "color": "#EF553B",
          "size": [
           282087,
           412655,
           516160,
           646210
          ],
          "sizemode": "area",
          "sizeref": 5311.6325
         },
         "mode": "markers",
         "name": "Willowridge-Martingrove-Richview",
         "showlegend": true,
         "subplot": "mapbox",
         "type": "scattermapbox"
        },
        {
         "hovertemplate": "neighbourhood=Woburn<br>average_house_value=%{marker.size}<br>lat=%{lat}<br>lon=%{lon}<extra></extra>",
         "lat": [
          43.76674024,
          43.76674024,
          43.76674024,
          43.76674024
         ],
         "legendgroup": "Woburn",
         "lon": [
          -79.22858577,
          -79.22858577,
          -79.22858577,
          -79.22858577
         ],
         "marker": {
          "color": "#00cc96",
          "size": [
           181367,
           265315,
           331863,
           415478
          ],
          "sizemode": "area",
          "sizeref": 5311.6325
         },
         "mode": "markers",
         "name": "Woburn",
         "showlegend": true,
         "subplot": "mapbox",
         "type": "scattermapbox"
        },
        {
         "hovertemplate": "neighbourhood=Woodbine Corridor<br>average_house_value=%{marker.size}<br>lat=%{lat}<br>lon=%{lon}<extra></extra>",
         "lat": [
          43.67677292,
          43.67677292,
          43.67677292,
          43.67677292
         ],
         "legendgroup": "Woodbine Corridor",
         "lon": [
          -79.31540738,
          -79.31540738,
          -79.31540738,
          -79.31540738
         ],
         "marker": {
          "color": "#ab63fa",
          "size": [
           270607,
           395861,
           495153,
           619910
          ],
          "sizemode": "area",
          "sizeref": 5311.6325
         },
         "mode": "markers",
         "name": "Woodbine Corridor",
         "showlegend": true,
         "subplot": "mapbox",
         "type": "scattermapbox"
        },
        {
         "hovertemplate": "neighbourhood=Woodbine-Lumsden<br>average_house_value=%{marker.size}<br>lat=%{lat}<br>lon=%{lon}<extra></extra>",
         "lat": [
          43.69410674,
          43.69410674,
          43.69410674,
          43.69410674
         ],
         "legendgroup": "Woodbine-Lumsden",
         "lon": [
          -79.31116353,
          -79.31116353,
          -79.31116353,
          -79.31116353
         ],
         "marker": {
          "color": "#FFA15A",
          "size": [
           224756,
           328788,
           411256,
           514874
          ],
          "sizemode": "area",
          "sizeref": 5311.6325
         },
         "mode": "markers",
         "name": "Woodbine-Lumsden",
         "showlegend": true,
         "subplot": "mapbox",
         "type": "scattermapbox"
        },
        {
         "hovertemplate": "neighbourhood=Wychwood<br>average_house_value=%{marker.size}<br>lat=%{lat}<br>lon=%{lon}<extra></extra>",
         "lat": [
          43.67691927,
          43.67691927,
          43.67691927,
          43.67691927
         ],
         "legendgroup": "Wychwood",
         "lon": [
          -79.42551495,
          -79.42551495,
          -79.42551495,
          -79.42551495
         ],
         "marker": {
          "color": "#19d3f3",
          "size": [
           343877,
           503046,
           629223,
           787760
          ],
          "sizemode": "area",
          "sizeref": 5311.6325
         },
         "mode": "markers",
         "name": "Wychwood",
         "showlegend": true,
         "subplot": "mapbox",
         "type": "scattermapbox"
        },
        {
         "hovertemplate": "neighbourhood=Yonge-Eglinton<br>average_house_value=%{marker.size}<br>lat=%{lat}<br>lon=%{lon}<extra></extra>",
         "lat": [
          43.70468937,
          43.70468937,
          43.70468937,
          43.70468937
         ],
         "legendgroup": "Yonge-Eglinton",
         "lon": [
          -79.40359017,
          -79.40359017,
          -79.40359017,
          -79.40359017
         ],
         "marker": {
          "color": "#FF6692",
          "size": [
           491987,
           719711,
           900233,
           1127052
          ],
          "sizemode": "area",
          "sizeref": 5311.6325
         },
         "mode": "markers",
         "name": "Yonge-Eglinton",
         "showlegend": true,
         "subplot": "mapbox",
         "type": "scattermapbox"
        },
        {
         "hovertemplate": "neighbourhood=Yonge-St.Clair<br>average_house_value=%{marker.size}<br>lat=%{lat}<br>lon=%{lon}<extra></extra>",
         "lat": [
          43.68785887,
          43.68785887,
          43.68785887,
          43.68785887
         ],
         "legendgroup": "Yonge-St.Clair",
         "lon": [
          -79.39787077,
          -79.39787077,
          -79.39787077,
          -79.39787077
         ],
         "marker": {
          "color": "#B6E880",
          "size": [
           494098,
           722799,
           904096,
           1131888
          ],
          "sizemode": "area",
          "sizeref": 5311.6325
         },
         "mode": "markers",
         "name": "Yonge-St.Clair",
         "showlegend": true,
         "subplot": "mapbox",
         "type": "scattermapbox"
        },
        {
         "hovertemplate": "neighbourhood=York University Heights<br>average_house_value=%{marker.size}<br>lat=%{lat}<br>lon=%{lon}<extra></extra>",
         "lat": [
          43.76573649,
          43.76573649,
          43.76573649,
          43.76573649
         ],
         "legendgroup": "York University Heights",
         "lon": [
          -79.48888293,
          -79.48888293,
          -79.48888293,
          -79.48888293
         ],
         "marker": {
          "color": "#FF97FF",
          "size": [
           185859,
           271887,
           340083,
           425769
          ],
          "sizemode": "area",
          "sizeref": 5311.6325
         },
         "mode": "markers",
         "name": "York University Heights",
         "showlegend": true,
         "subplot": "mapbox",
         "type": "scattermapbox"
        },
        {
         "hovertemplate": "neighbourhood=Yorkdale-Glen Park<br>average_house_value=%{marker.size}<br>lat=%{lat}<br>lon=%{lon}<extra></extra>",
         "lat": [
          43.71467153,
          43.71467153,
          43.71467153,
          43.71467153
         ],
         "legendgroup": "Yorkdale-Glen Park",
         "lon": [
          -79.45710807,
          -79.45710807,
          -79.45710807,
          -79.45710807
         ],
         "marker": {
          "color": "#FECB52",
          "size": [
           261784,
           382954,
           479009,
           599698
          ],
          "sizemode": "area",
          "sizeref": 5311.6325
         },
         "mode": "markers",
         "name": "Yorkdale-Glen Park",
         "showlegend": true,
         "subplot": "mapbox",
         "type": "scattermapbox"
        }
       ],
       "layout": {
        "legend": {
         "itemsizing": "constant",
         "title": {
          "text": "neighbourhood"
         },
         "tracegroupgap": 0
        },
        "mapbox": {
         "center": {
          "lat": 43.70884057764286,
          "lon": -79.40018550349994
         },
         "domain": {
          "x": [
           0,
           1
          ],
          "y": [
           0,
           1
          ]
         },
         "zoom": 8
        },
        "margin": {
         "t": 60
        },
        "template": {
         "data": {
          "bar": [
           {
            "error_x": {
             "color": "#2a3f5f"
            },
            "error_y": {
             "color": "#2a3f5f"
            },
            "marker": {
             "line": {
              "color": "#E5ECF6",
              "width": 0.5
             }
            },
            "type": "bar"
           }
          ],
          "barpolar": [
           {
            "marker": {
             "line": {
              "color": "#E5ECF6",
              "width": 0.5
             }
            },
            "type": "barpolar"
           }
          ],
          "carpet": [
           {
            "aaxis": {
             "endlinecolor": "#2a3f5f",
             "gridcolor": "white",
             "linecolor": "white",
             "minorgridcolor": "white",
             "startlinecolor": "#2a3f5f"
            },
            "baxis": {
             "endlinecolor": "#2a3f5f",
             "gridcolor": "white",
             "linecolor": "white",
             "minorgridcolor": "white",
             "startlinecolor": "#2a3f5f"
            },
            "type": "carpet"
           }
          ],
          "choropleth": [
           {
            "colorbar": {
             "outlinewidth": 0,
             "ticks": ""
            },
            "type": "choropleth"
           }
          ],
          "contour": [
           {
            "colorbar": {
             "outlinewidth": 0,
             "ticks": ""
            },
            "colorscale": [
             [
              0,
              "#0d0887"
             ],
             [
              0.1111111111111111,
              "#46039f"
             ],
             [
              0.2222222222222222,
              "#7201a8"
             ],
             [
              0.3333333333333333,
              "#9c179e"
             ],
             [
              0.4444444444444444,
              "#bd3786"
             ],
             [
              0.5555555555555556,
              "#d8576b"
             ],
             [
              0.6666666666666666,
              "#ed7953"
             ],
             [
              0.7777777777777778,
              "#fb9f3a"
             ],
             [
              0.8888888888888888,
              "#fdca26"
             ],
             [
              1,
              "#f0f921"
             ]
            ],
            "type": "contour"
           }
          ],
          "contourcarpet": [
           {
            "colorbar": {
             "outlinewidth": 0,
             "ticks": ""
            },
            "type": "contourcarpet"
           }
          ],
          "heatmap": [
           {
            "colorbar": {
             "outlinewidth": 0,
             "ticks": ""
            },
            "colorscale": [
             [
              0,
              "#0d0887"
             ],
             [
              0.1111111111111111,
              "#46039f"
             ],
             [
              0.2222222222222222,
              "#7201a8"
             ],
             [
              0.3333333333333333,
              "#9c179e"
             ],
             [
              0.4444444444444444,
              "#bd3786"
             ],
             [
              0.5555555555555556,
              "#d8576b"
             ],
             [
              0.6666666666666666,
              "#ed7953"
             ],
             [
              0.7777777777777778,
              "#fb9f3a"
             ],
             [
              0.8888888888888888,
              "#fdca26"
             ],
             [
              1,
              "#f0f921"
             ]
            ],
            "type": "heatmap"
           }
          ],
          "heatmapgl": [
           {
            "colorbar": {
             "outlinewidth": 0,
             "ticks": ""
            },
            "colorscale": [
             [
              0,
              "#0d0887"
             ],
             [
              0.1111111111111111,
              "#46039f"
             ],
             [
              0.2222222222222222,
              "#7201a8"
             ],
             [
              0.3333333333333333,
              "#9c179e"
             ],
             [
              0.4444444444444444,
              "#bd3786"
             ],
             [
              0.5555555555555556,
              "#d8576b"
             ],
             [
              0.6666666666666666,
              "#ed7953"
             ],
             [
              0.7777777777777778,
              "#fb9f3a"
             ],
             [
              0.8888888888888888,
              "#fdca26"
             ],
             [
              1,
              "#f0f921"
             ]
            ],
            "type": "heatmapgl"
           }
          ],
          "histogram": [
           {
            "marker": {
             "colorbar": {
              "outlinewidth": 0,
              "ticks": ""
             }
            },
            "type": "histogram"
           }
          ],
          "histogram2d": [
           {
            "colorbar": {
             "outlinewidth": 0,
             "ticks": ""
            },
            "colorscale": [
             [
              0,
              "#0d0887"
             ],
             [
              0.1111111111111111,
              "#46039f"
             ],
             [
              0.2222222222222222,
              "#7201a8"
             ],
             [
              0.3333333333333333,
              "#9c179e"
             ],
             [
              0.4444444444444444,
              "#bd3786"
             ],
             [
              0.5555555555555556,
              "#d8576b"
             ],
             [
              0.6666666666666666,
              "#ed7953"
             ],
             [
              0.7777777777777778,
              "#fb9f3a"
             ],
             [
              0.8888888888888888,
              "#fdca26"
             ],
             [
              1,
              "#f0f921"
             ]
            ],
            "type": "histogram2d"
           }
          ],
          "histogram2dcontour": [
           {
            "colorbar": {
             "outlinewidth": 0,
             "ticks": ""
            },
            "colorscale": [
             [
              0,
              "#0d0887"
             ],
             [
              0.1111111111111111,
              "#46039f"
             ],
             [
              0.2222222222222222,
              "#7201a8"
             ],
             [
              0.3333333333333333,
              "#9c179e"
             ],
             [
              0.4444444444444444,
              "#bd3786"
             ],
             [
              0.5555555555555556,
              "#d8576b"
             ],
             [
              0.6666666666666666,
              "#ed7953"
             ],
             [
              0.7777777777777778,
              "#fb9f3a"
             ],
             [
              0.8888888888888888,
              "#fdca26"
             ],
             [
              1,
              "#f0f921"
             ]
            ],
            "type": "histogram2dcontour"
           }
          ],
          "mesh3d": [
           {
            "colorbar": {
             "outlinewidth": 0,
             "ticks": ""
            },
            "type": "mesh3d"
           }
          ],
          "parcoords": [
           {
            "line": {
             "colorbar": {
              "outlinewidth": 0,
              "ticks": ""
             }
            },
            "type": "parcoords"
           }
          ],
          "pie": [
           {
            "automargin": true,
            "type": "pie"
           }
          ],
          "scatter": [
           {
            "marker": {
             "colorbar": {
              "outlinewidth": 0,
              "ticks": ""
             }
            },
            "type": "scatter"
           }
          ],
          "scatter3d": [
           {
            "line": {
             "colorbar": {
              "outlinewidth": 0,
              "ticks": ""
             }
            },
            "marker": {
             "colorbar": {
              "outlinewidth": 0,
              "ticks": ""
             }
            },
            "type": "scatter3d"
           }
          ],
          "scattercarpet": [
           {
            "marker": {
             "colorbar": {
              "outlinewidth": 0,
              "ticks": ""
             }
            },
            "type": "scattercarpet"
           }
          ],
          "scattergeo": [
           {
            "marker": {
             "colorbar": {
              "outlinewidth": 0,
              "ticks": ""
             }
            },
            "type": "scattergeo"
           }
          ],
          "scattergl": [
           {
            "marker": {
             "colorbar": {
              "outlinewidth": 0,
              "ticks": ""
             }
            },
            "type": "scattergl"
           }
          ],
          "scattermapbox": [
           {
            "marker": {
             "colorbar": {
              "outlinewidth": 0,
              "ticks": ""
             }
            },
            "type": "scattermapbox"
           }
          ],
          "scatterpolar": [
           {
            "marker": {
             "colorbar": {
              "outlinewidth": 0,
              "ticks": ""
             }
            },
            "type": "scatterpolar"
           }
          ],
          "scatterpolargl": [
           {
            "marker": {
             "colorbar": {
              "outlinewidth": 0,
              "ticks": ""
             }
            },
            "type": "scatterpolargl"
           }
          ],
          "scatterternary": [
           {
            "marker": {
             "colorbar": {
              "outlinewidth": 0,
              "ticks": ""
             }
            },
            "type": "scatterternary"
           }
          ],
          "surface": [
           {
            "colorbar": {
             "outlinewidth": 0,
             "ticks": ""
            },
            "colorscale": [
             [
              0,
              "#0d0887"
             ],
             [
              0.1111111111111111,
              "#46039f"
             ],
             [
              0.2222222222222222,
              "#7201a8"
             ],
             [
              0.3333333333333333,
              "#9c179e"
             ],
             [
              0.4444444444444444,
              "#bd3786"
             ],
             [
              0.5555555555555556,
              "#d8576b"
             ],
             [
              0.6666666666666666,
              "#ed7953"
             ],
             [
              0.7777777777777778,
              "#fb9f3a"
             ],
             [
              0.8888888888888888,
              "#fdca26"
             ],
             [
              1,
              "#f0f921"
             ]
            ],
            "type": "surface"
           }
          ],
          "table": [
           {
            "cells": {
             "fill": {
              "color": "#EBF0F8"
             },
             "line": {
              "color": "white"
             }
            },
            "header": {
             "fill": {
              "color": "#C8D4E3"
             },
             "line": {
              "color": "white"
             }
            },
            "type": "table"
           }
          ]
         },
         "layout": {
          "annotationdefaults": {
           "arrowcolor": "#2a3f5f",
           "arrowhead": 0,
           "arrowwidth": 1
          },
          "autotypenumbers": "strict",
          "coloraxis": {
           "colorbar": {
            "outlinewidth": 0,
            "ticks": ""
           }
          },
          "colorscale": {
           "diverging": [
            [
             0,
             "#8e0152"
            ],
            [
             0.1,
             "#c51b7d"
            ],
            [
             0.2,
             "#de77ae"
            ],
            [
             0.3,
             "#f1b6da"
            ],
            [
             0.4,
             "#fde0ef"
            ],
            [
             0.5,
             "#f7f7f7"
            ],
            [
             0.6,
             "#e6f5d0"
            ],
            [
             0.7,
             "#b8e186"
            ],
            [
             0.8,
             "#7fbc41"
            ],
            [
             0.9,
             "#4d9221"
            ],
            [
             1,
             "#276419"
            ]
           ],
           "sequential": [
            [
             0,
             "#0d0887"
            ],
            [
             0.1111111111111111,
             "#46039f"
            ],
            [
             0.2222222222222222,
             "#7201a8"
            ],
            [
             0.3333333333333333,
             "#9c179e"
            ],
            [
             0.4444444444444444,
             "#bd3786"
            ],
            [
             0.5555555555555556,
             "#d8576b"
            ],
            [
             0.6666666666666666,
             "#ed7953"
            ],
            [
             0.7777777777777778,
             "#fb9f3a"
            ],
            [
             0.8888888888888888,
             "#fdca26"
            ],
            [
             1,
             "#f0f921"
            ]
           ],
           "sequentialminus": [
            [
             0,
             "#0d0887"
            ],
            [
             0.1111111111111111,
             "#46039f"
            ],
            [
             0.2222222222222222,
             "#7201a8"
            ],
            [
             0.3333333333333333,
             "#9c179e"
            ],
            [
             0.4444444444444444,
             "#bd3786"
            ],
            [
             0.5555555555555556,
             "#d8576b"
            ],
            [
             0.6666666666666666,
             "#ed7953"
            ],
            [
             0.7777777777777778,
             "#fb9f3a"
            ],
            [
             0.8888888888888888,
             "#fdca26"
            ],
            [
             1,
             "#f0f921"
            ]
           ]
          },
          "colorway": [
           "#636efa",
           "#EF553B",
           "#00cc96",
           "#ab63fa",
           "#FFA15A",
           "#19d3f3",
           "#FF6692",
           "#B6E880",
           "#FF97FF",
           "#FECB52"
          ],
          "font": {
           "color": "#2a3f5f"
          },
          "geo": {
           "bgcolor": "white",
           "lakecolor": "white",
           "landcolor": "#E5ECF6",
           "showlakes": true,
           "showland": true,
           "subunitcolor": "white"
          },
          "hoverlabel": {
           "align": "left"
          },
          "hovermode": "closest",
          "mapbox": {
           "style": "light"
          },
          "paper_bgcolor": "white",
          "plot_bgcolor": "#E5ECF6",
          "polar": {
           "angularaxis": {
            "gridcolor": "white",
            "linecolor": "white",
            "ticks": ""
           },
           "bgcolor": "#E5ECF6",
           "radialaxis": {
            "gridcolor": "white",
            "linecolor": "white",
            "ticks": ""
           }
          },
          "scene": {
           "xaxis": {
            "backgroundcolor": "#E5ECF6",
            "gridcolor": "white",
            "gridwidth": 2,
            "linecolor": "white",
            "showbackground": true,
            "ticks": "",
            "zerolinecolor": "white"
           },
           "yaxis": {
            "backgroundcolor": "#E5ECF6",
            "gridcolor": "white",
            "gridwidth": 2,
            "linecolor": "white",
            "showbackground": true,
            "ticks": "",
            "zerolinecolor": "white"
           },
           "zaxis": {
            "backgroundcolor": "#E5ECF6",
            "gridcolor": "white",
            "gridwidth": 2,
            "linecolor": "white",
            "showbackground": true,
            "ticks": "",
            "zerolinecolor": "white"
           }
          },
          "shapedefaults": {
           "line": {
            "color": "#2a3f5f"
           }
          },
          "ternary": {
           "aaxis": {
            "gridcolor": "white",
            "linecolor": "white",
            "ticks": ""
           },
           "baxis": {
            "gridcolor": "white",
            "linecolor": "white",
            "ticks": ""
           },
           "bgcolor": "#E5ECF6",
           "caxis": {
            "gridcolor": "white",
            "linecolor": "white",
            "ticks": ""
           }
          },
          "title": {
           "x": 0.05
          },
          "xaxis": {
           "automargin": true,
           "gridcolor": "white",
           "linecolor": "white",
           "ticks": "",
           "title": {
            "standoff": 15
           },
           "zerolinecolor": "white",
           "zerolinewidth": 2
          },
          "yaxis": {
           "automargin": true,
           "gridcolor": "white",
           "linecolor": "white",
           "ticks": "",
           "title": {
            "standoff": 15
           },
           "zerolinecolor": "white",
           "zerolinewidth": 2
          }
         }
        }
       }
      },
      "text/html": [
       "<div>                            <div id=\"69cec6b4-3368-442c-b360-2cba3dd09c7d\" class=\"plotly-graph-div\" style=\"height:525px; width:100%;\"></div>            <script type=\"text/javascript\">                require([\"plotly\"], function(Plotly) {                    window.PLOTLYENV=window.PLOTLYENV || {};                                    if (document.getElementById(\"69cec6b4-3368-442c-b360-2cba3dd09c7d\")) {                    Plotly.newPlot(                        \"69cec6b4-3368-442c-b360-2cba3dd09c7d\",                        [{\"hovertemplate\": \"neighbourhood=Agincourt North<br>average_house_value=%{marker.size}<br>lat=%{lat}<br>lon=%{lon}<extra></extra>\", \"lat\": [43.80544058, 43.80544058, 43.80544058, 43.80544058], \"legendgroup\": \"Agincourt North\", \"lon\": [-79.26671217, -79.26671217, -79.26671217, -79.26671217], \"marker\": {\"color\": \"#636efa\", \"size\": [200388, 293140, 366667, 459051], \"sizemode\": \"area\", \"sizeref\": 5311.6325}, \"mode\": \"markers\", \"name\": \"Agincourt North\", \"showlegend\": true, \"subplot\": \"mapbox\", \"type\": \"scattermapbox\"}, {\"hovertemplate\": \"neighbourhood=Agincourt South-Malvern West<br>average_house_value=%{marker.size}<br>lat=%{lat}<br>lon=%{lon}<extra></extra>\", \"lat\": [43.78865755, 43.78865755, 43.78865755, 43.78865755], \"legendgroup\": \"Agincourt South-Malvern West\", \"lon\": [-79.2656118, -79.2656118, -79.2656118, -79.2656118], \"marker\": {\"color\": \"#EF553B\", \"size\": [203047, 297031, 371534, 465144], \"sizemode\": \"area\", \"sizeref\": 5311.6325}, \"mode\": \"markers\", \"name\": \"Agincourt South-Malvern West\", \"showlegend\": true, \"subplot\": \"mapbox\", \"type\": \"scattermapbox\"}, {\"hovertemplate\": \"neighbourhood=Alderwood<br>average_house_value=%{marker.size}<br>lat=%{lat}<br>lon=%{lon}<extra></extra>\", \"lat\": [43.6049369, 43.6049369, 43.6049369, 43.6049369], \"legendgroup\": \"Alderwood\", \"lon\": [-79.54161093, -79.54161093, -79.54161093, -79.54161093], \"marker\": {\"color\": \"#00cc96\", \"size\": [259998, 380342, 475742, 595608], \"sizemode\": \"area\", \"sizeref\": 5311.6325}, \"mode\": \"markers\", \"name\": \"Alderwood\", \"showlegend\": true, \"subplot\": \"mapbox\", \"type\": \"scattermapbox\"}, {\"hovertemplate\": \"neighbourhood=Annex<br>average_house_value=%{marker.size}<br>lat=%{lat}<br>lon=%{lon}<extra></extra>\", \"lat\": [43.67158544, 43.67158544, 43.67158544, 43.67158544], \"legendgroup\": \"Annex\", \"lon\": [-79.40400062, -79.40400062, -79.40400062, -79.40400062], \"marker\": {\"color\": \"#ab63fa\", \"size\": [453850, 663921, 830450, 1039687], \"sizemode\": \"area\", \"sizeref\": 5311.6325}, \"mode\": \"markers\", \"name\": \"Annex\", \"showlegend\": true, \"subplot\": \"mapbox\", \"type\": \"scattermapbox\"}, {\"hovertemplate\": \"neighbourhood=Banbury-Don Mills<br>average_house_value=%{marker.size}<br>lat=%{lat}<br>lon=%{lon}<extra></extra>\", \"lat\": [43.737657, 43.737657, 43.737657, 43.737657], \"legendgroup\": \"Banbury-Don Mills\", \"lon\": [-79.34971798, -79.34971798, -79.34971798, -79.34971798], \"marker\": {\"color\": \"#FFA15A\", \"size\": [371864, 543987, 680433, 851872], \"sizemode\": \"area\", \"sizeref\": 5311.6325}, \"mode\": \"markers\", \"name\": \"Banbury-Don Mills\", \"showlegend\": true, \"subplot\": \"mapbox\", \"type\": \"scattermapbox\"}, {\"hovertemplate\": \"neighbourhood=Bathurst Manor<br>average_house_value=%{marker.size}<br>lat=%{lat}<br>lon=%{lon}<extra></extra>\", \"lat\": [43.76481331, 43.76481331, 43.76481331, 43.76481331], \"legendgroup\": \"Bathurst Manor\", \"lon\": [-79.45605516, -79.45605516, -79.45605516, -79.45605516], \"marker\": {\"color\": \"#19d3f3\", \"size\": [304749, 445807, 557627, 698124], \"sizemode\": \"area\", \"sizeref\": 5311.6325}, \"mode\": \"markers\", \"name\": \"Bathurst Manor\", \"showlegend\": true, \"subplot\": \"mapbox\", \"type\": \"scattermapbox\"}, {\"hovertemplate\": \"neighbourhood=Bay Street Corridor<br>average_house_value=%{marker.size}<br>lat=%{lat}<br>lon=%{lon}<extra></extra>\", \"lat\": [43.65751135, 43.65751135, 43.65751135, 43.65751135], \"legendgroup\": \"Bay Street Corridor\", \"lon\": [-79.38572125, -79.38572125, -79.38572125, -79.38572125], \"marker\": {\"color\": \"#FF6692\", \"size\": [257404, 376548, 470996, 589666], \"sizemode\": \"area\", \"sizeref\": 5311.6325}, \"mode\": \"markers\", \"name\": \"Bay Street Corridor\", \"showlegend\": true, \"subplot\": \"mapbox\", \"type\": \"scattermapbox\"}, {\"hovertemplate\": \"neighbourhood=Bayview Village<br>average_house_value=%{marker.size}<br>lat=%{lat}<br>lon=%{lon}<extra></extra>\", \"lat\": [43.77636052, 43.77636052, 43.77636052, 43.77636052], \"legendgroup\": \"Bayview Village\", \"lon\": [-79.37711686, -79.37711686, -79.37711686, -79.37711686], \"marker\": {\"color\": \"#B6E880\", \"size\": [327644, 479299, 599520, 750572], \"sizemode\": \"area\", \"sizeref\": 5311.6325}, \"mode\": \"markers\", \"name\": \"Bayview Village\", \"showlegend\": true, \"subplot\": \"mapbox\", \"type\": \"scattermapbox\"}, {\"hovertemplate\": \"neighbourhood=Bayview Woods-Steeles<br>average_house_value=%{marker.size}<br>lat=%{lat}<br>lon=%{lon}<extra></extra>\", \"lat\": [43.79680187, 43.79680187, 43.79680187, 43.79680187], \"legendgroup\": \"Bayview Woods-Steeles\", \"lon\": [-79.38211795, -79.38211795, -79.38211795, -79.38211795], \"marker\": {\"color\": \"#FF97FF\", \"size\": [343535, 502546, 628597, 786976], \"sizemode\": \"area\", \"sizeref\": 5311.6325}, \"mode\": \"markers\", \"name\": \"Bayview Woods-Steeles\", \"showlegend\": true, \"subplot\": \"mapbox\", \"type\": \"scattermapbox\"}, {\"hovertemplate\": \"neighbourhood=Bedford Park-Nortown<br>average_house_value=%{marker.size}<br>lat=%{lat}<br>lon=%{lon}<extra></extra>\", \"lat\": [43.73148623, 43.73148623, 43.73148623, 43.73148623], \"legendgroup\": \"Bedford Park-Nortown\", \"lon\": [-79.42022735, -79.42022735, -79.42022735, -79.42022735], \"marker\": {\"color\": \"#FECB52\", \"size\": [565304, 826963, 1034387, 1295007], \"sizemode\": \"area\", \"sizeref\": 5311.6325}, \"mode\": \"markers\", \"name\": \"Bedford Park-Nortown\", \"showlegend\": true, \"subplot\": \"mapbox\", \"type\": \"scattermapbox\"}, {\"hovertemplate\": \"neighbourhood=Beechborough-Greenbrook<br>average_house_value=%{marker.size}<br>lat=%{lat}<br>lon=%{lon}<extra></extra>\", \"lat\": [43.69321649, 43.69321649, 43.69321649, 43.69321649], \"legendgroup\": \"Beechborough-Greenbrook\", \"lon\": [-79.47947251, -79.47947251, -79.47947251, -79.47947251], \"marker\": {\"color\": \"#636efa\", \"size\": [225369, 329685, 412378, 516279], \"sizemode\": \"area\", \"sizeref\": 5311.6325}, \"mode\": \"markers\", \"name\": \"Beechborough-Greenbrook\", \"showlegend\": true, \"subplot\": \"mapbox\", \"type\": \"scattermapbox\"}, {\"hovertemplate\": \"neighbourhood=Bendale<br>average_house_value=%{marker.size}<br>lat=%{lat}<br>lon=%{lon}<extra></extra>\", \"lat\": [43.76036631, 43.76036631, 43.76036631, 43.76036631], \"legendgroup\": \"Bendale\", \"lon\": [-79.25740037, -79.25740037, -79.25740037, -79.25740037], \"marker\": {\"color\": \"#EF553B\", \"size\": [182957, 267642, 334773, 419121], \"sizemode\": \"area\", \"sizeref\": 5311.6325}, \"mode\": \"markers\", \"name\": \"Bendale\", \"showlegend\": true, \"subplot\": \"mapbox\", \"type\": \"scattermapbox\"}, {\"hovertemplate\": \"neighbourhood=Birchcliffe-Cliffside<br>average_house_value=%{marker.size}<br>lat=%{lat}<br>lon=%{lon}<extra></extra>\", \"lat\": [43.69468198, 43.69468198, 43.69468198, 43.69468198], \"legendgroup\": \"Birchcliffe-Cliffside\", \"lon\": [-79.26509259, -79.26509259, -79.26509259, -79.26509259], \"marker\": {\"color\": \"#00cc96\", \"size\": [265705, 388690, 486184, 608681], \"sizemode\": \"area\", \"sizeref\": 5311.6325}, \"mode\": \"markers\", \"name\": \"Birchcliffe-Cliffside\", \"showlegend\": true, \"subplot\": \"mapbox\", \"type\": \"scattermapbox\"}, {\"hovertemplate\": \"neighbourhood=Black Creek<br>average_house_value=%{marker.size}<br>lat=%{lat}<br>lon=%{lon}<extra></extra>\", \"lat\": [43.76489025, 43.76489025, 43.76489025, 43.76489025], \"legendgroup\": \"Black Creek\", \"lon\": [-79.52197932, -79.52197932, -79.52197932, -79.52197932], \"marker\": {\"color\": \"#ab63fa\", \"size\": [158483, 231839, 289990, 363055], \"sizemode\": \"area\", \"sizeref\": 5311.6325}, \"mode\": \"markers\", \"name\": \"Black Creek\", \"showlegend\": true, \"subplot\": \"mapbox\", \"type\": \"scattermapbox\"}, {\"hovertemplate\": \"neighbourhood=Blake-Jones<br>average_house_value=%{marker.size}<br>lat=%{lat}<br>lon=%{lon}<extra></extra>\", \"lat\": [43.67617288, 43.67617288, 43.67617288, 43.67617288], \"legendgroup\": \"Blake-Jones\", \"lon\": [-79.33739417, -79.33739417, -79.33739417, -79.33739417], \"marker\": {\"color\": \"#FFA15A\", \"size\": [310740, 454571, 568589, 711848], \"sizemode\": \"area\", \"sizeref\": 5311.6325}, \"mode\": \"markers\", \"name\": \"Blake-Jones\", \"showlegend\": true, \"subplot\": \"mapbox\", \"type\": \"scattermapbox\"}, {\"hovertemplate\": \"neighbourhood=Briar Hill-Belgravia<br>average_house_value=%{marker.size}<br>lat=%{lat}<br>lon=%{lon}<extra></extra>\", \"lat\": [43.69902438, 43.69902438, 43.69902438, 43.69902438], \"legendgroup\": \"Briar Hill-Belgravia\", \"lon\": [-79.45285129999999, -79.45285129999999, -79.45285129999999, -79.45285129999999], \"marker\": {\"color\": \"#19d3f3\", \"size\": [222086, 324882, 406371, 508759], \"sizemode\": \"area\", \"sizeref\": 5311.6325}, \"mode\": \"markers\", \"name\": \"Briar Hill-Belgravia\", \"showlegend\": true, \"subplot\": \"mapbox\", \"type\": \"scattermapbox\"}, {\"hovertemplate\": \"neighbourhood=Bridle Path-Sunnybrook-York Mills<br>average_house_value=%{marker.size}<br>lat=%{lat}<br>lon=%{lon}<extra></extra>\", \"lat\": [43.73101314, 43.73101314, 43.73101314, 43.73101314], \"legendgroup\": \"Bridle Path-Sunnybrook-York Mills\", \"lon\": [-79.37890418, -79.37890418, -79.37890418, -79.37890418], \"marker\": {\"color\": \"#FF6692\", \"size\": [927466, 1356757, 1697067, 2124653], \"sizemode\": \"area\", \"sizeref\": 5311.6325}, \"mode\": \"markers\", \"name\": \"Bridle Path-Sunnybrook-York Mills\", \"showlegend\": true, \"subplot\": \"mapbox\", \"type\": \"scattermapbox\"}, {\"hovertemplate\": \"neighbourhood=Broadview North<br>average_house_value=%{marker.size}<br>lat=%{lat}<br>lon=%{lon}<extra></extra>\", \"lat\": [43.68882512, 43.68882512, 43.68882512, 43.68882512], \"legendgroup\": \"Broadview North\", \"lon\": [-79.35562951, -79.35562951, -79.35562951, -79.35562951], \"marker\": {\"color\": \"#B6E880\", \"size\": [269386, 394075, 492919, 617113], \"sizemode\": \"area\", \"sizeref\": 5311.6325}, \"mode\": \"markers\", \"name\": \"Broadview North\", \"showlegend\": true, \"subplot\": \"mapbox\", \"type\": \"scattermapbox\"}, {\"hovertemplate\": \"neighbourhood=Brookhaven-Amesbury<br>average_house_value=%{marker.size}<br>lat=%{lat}<br>lon=%{lon}<extra></extra>\", \"lat\": [43.70132631, 43.70132631, 43.70132631, 43.70132631], \"legendgroup\": \"Brookhaven-Amesbury\", \"lon\": [-79.48558926, -79.48558926, -79.48558926, -79.48558926], \"marker\": {\"color\": \"#FF97FF\", \"size\": [213227, 311922, 390160, 488463], \"sizemode\": \"area\", \"sizeref\": 5311.6325}, \"mode\": \"markers\", \"name\": \"Brookhaven-Amesbury\", \"showlegend\": true, \"subplot\": \"mapbox\", \"type\": \"scattermapbox\"}, {\"hovertemplate\": \"neighbourhood=Cabbagetown-South St.James Town<br>average_house_value=%{marker.size}<br>lat=%{lat}<br>lon=%{lon}<extra></extra>\", \"lat\": [43.66764773, 43.66764773, 43.66764773, 43.66764773], \"legendgroup\": \"Cabbagetown-South St.James Town\", \"lon\": [-79.36610666, -79.36610666, -79.36610666, -79.36610666], \"marker\": {\"color\": \"#FECB52\", \"size\": [300213, 439171, 549326, 687732], \"sizemode\": \"area\", \"sizeref\": 5311.6325}, \"mode\": \"markers\", \"name\": \"Cabbagetown-South St.James Town\", \"showlegend\": true, \"subplot\": \"mapbox\", \"type\": \"scattermapbox\"}, {\"hovertemplate\": \"neighbourhood=Caledonia-Fairbank<br>average_house_value=%{marker.size}<br>lat=%{lat}<br>lon=%{lon}<extra></extra>\", \"lat\": [43.68856865, 43.68856865, 43.68856865, 43.68856865], \"legendgroup\": \"Caledonia-Fairbank\", \"lon\": [-79.45521208, -79.45521208, -79.45521208, -79.45521208], \"marker\": {\"color\": \"#636efa\", \"size\": [219771, 321496, 402135, 503455], \"sizemode\": \"area\", \"sizeref\": 5311.6325}, \"mode\": \"markers\", \"name\": \"Caledonia-Fairbank\", \"showlegend\": true, \"subplot\": \"mapbox\", \"type\": \"scattermapbox\"}, {\"hovertemplate\": \"neighbourhood=Casa Loma<br>average_house_value=%{marker.size}<br>lat=%{lat}<br>lon=%{lon}<extra></extra>\", \"lat\": [43.6818521, 43.6818521, 43.6818521, 43.6818521], \"legendgroup\": \"Casa Loma\", \"lon\": [-79.40800665, -79.40800665, -79.40800665, -79.40800665], \"marker\": {\"color\": \"#EF553B\", \"size\": [596077, 871981, 1090696, 1365503], \"sizemode\": \"area\", \"sizeref\": 5311.6325}, \"mode\": \"markers\", \"name\": \"Casa Loma\", \"showlegend\": true, \"subplot\": \"mapbox\", \"type\": \"scattermapbox\"}, {\"hovertemplate\": \"neighbourhood=Centennial Scarborough<br>average_house_value=%{marker.size}<br>lat=%{lat}<br>lon=%{lon}<extra></extra>\", \"lat\": [43.7823765, 43.7823765, 43.7823765, 43.7823765], \"legendgroup\": \"Centennial Scarborough\", \"lon\": [-79.15084327, -79.15084327, -79.15084327, -79.15084327], \"marker\": {\"color\": \"#00cc96\", \"size\": [249025, 364291, 455664, 570471], \"sizemode\": \"area\", \"sizeref\": 5311.6325}, \"mode\": \"markers\", \"name\": \"Centennial Scarborough\", \"showlegend\": true, \"subplot\": \"mapbox\", \"type\": \"scattermapbox\"}, {\"hovertemplate\": \"neighbourhood=Church-Yonge Corridor<br>average_house_value=%{marker.size}<br>lat=%{lat}<br>lon=%{lon}<extra></extra>\", \"lat\": [43.65964886, 43.65964886, 43.65964886, 43.65964886], \"legendgroup\": \"Church-Yonge Corridor\", \"lon\": [-79.37901717, -79.37901717, -79.37901717, -79.37901717], \"marker\": {\"color\": \"#ab63fa\", \"size\": [246750, 360962, 451500, 565258], \"sizemode\": \"area\", \"sizeref\": 5311.6325}, \"mode\": \"markers\", \"name\": \"Church-Yonge Corridor\", \"showlegend\": true, \"subplot\": \"mapbox\", \"type\": \"scattermapbox\"}, {\"hovertemplate\": \"neighbourhood=Clairlea-Birchmount<br>average_house_value=%{marker.size}<br>lat=%{lat}<br>lon=%{lon}<extra></extra>\", \"lat\": [43.71359238, 43.71359238, 43.71359238, 43.71359238], \"legendgroup\": \"Clairlea-Birchmount\", \"lon\": [-79.28138178, -79.28138178, -79.28138178, -79.28138178], \"marker\": {\"color\": \"#FFA15A\", \"size\": [215421, 315133, 394176, 493491], \"sizemode\": \"area\", \"sizeref\": 5311.6325}, \"mode\": \"markers\", \"name\": \"Clairlea-Birchmount\", \"showlegend\": true, \"subplot\": \"mapbox\", \"type\": \"scattermapbox\"}, {\"hovertemplate\": \"neighbourhood=Clanton Park<br>average_house_value=%{marker.size}<br>lat=%{lat}<br>lon=%{lon}<extra></extra>\", \"lat\": [43.74197843, 43.74197843, 43.74197843, 43.74197843], \"legendgroup\": \"Clanton Park\", \"lon\": [-79.44630258, -79.44630258, -79.44630258, -79.44630258], \"marker\": {\"color\": \"#19d3f3\", \"size\": [335119, 490234, 613197, 767695], \"sizemode\": \"area\", \"sizeref\": 5311.6325}, \"mode\": \"markers\", \"name\": \"Clanton Park\", \"showlegend\": true, \"subplot\": \"mapbox\", \"type\": \"scattermapbox\"}, {\"hovertemplate\": \"neighbourhood=Cliffcrest<br>average_house_value=%{marker.size}<br>lat=%{lat}<br>lon=%{lon}<extra></extra>\", \"lat\": [43.72112117, 43.72112117, 43.72112117, 43.72112117], \"legendgroup\": \"Cliffcrest\", \"lon\": [-79.23552957, -79.23552957, -79.23552957, -79.23552957], \"marker\": {\"color\": \"#FF6692\", \"size\": [253618, 371009, 464068, 580993], \"sizemode\": \"area\", \"sizeref\": 5311.6325}, \"mode\": \"markers\", \"name\": \"Cliffcrest\", \"showlegend\": true, \"subplot\": \"mapbox\", \"type\": \"scattermapbox\"}, {\"hovertemplate\": \"neighbourhood=Corso Italia-Davenport<br>average_house_value=%{marker.size}<br>lat=%{lat}<br>lon=%{lon}<extra></extra>\", \"lat\": [43.67766091, 43.67766091, 43.67766091, 43.67766091], \"legendgroup\": \"Corso Italia-Davenport\", \"lon\": [-79.44746933, -79.44746933, -79.44746933, -79.44746933], \"marker\": {\"color\": \"#B6E880\", \"size\": [255142, 373239, 466857, 584484], \"sizemode\": \"area\", \"sizeref\": 5311.6325}, \"mode\": \"markers\", \"name\": \"Corso Italia-Davenport\", \"showlegend\": true, \"subplot\": \"mapbox\", \"type\": \"scattermapbox\"}, {\"hovertemplate\": \"neighbourhood=Danforth<br>average_house_value=%{marker.size}<br>lat=%{lat}<br>lon=%{lon}<extra></extra>\", \"lat\": [43.68402547, 43.68402547, 43.68402547, 43.68402547], \"legendgroup\": \"Danforth\", \"lon\": [-79.32981941, -79.32981941, -79.32981941, -79.32981941], \"marker\": {\"color\": \"#FF97FF\", \"size\": [283706, 415024, 519123, 649919], \"sizemode\": \"area\", \"sizeref\": 5311.6325}, \"mode\": \"markers\", \"name\": \"Danforth\", \"showlegend\": true, \"subplot\": \"mapbox\", \"type\": \"scattermapbox\"}, {\"hovertemplate\": \"neighbourhood=Danforth-East York<br>average_house_value=%{marker.size}<br>lat=%{lat}<br>lon=%{lon}<extra></extra>\", \"lat\": [43.68946809, 43.68946809, 43.68946809, 43.68946809], \"legendgroup\": \"Danforth-East York\", \"lon\": [-79.33140338, -79.33140338, -79.33140338, -79.33140338], \"marker\": {\"color\": \"#FECB52\", \"size\": [256205, 374793, 468801, 586918], \"sizemode\": \"area\", \"sizeref\": 5311.6325}, \"mode\": \"markers\", \"name\": \"Danforth-East York\", \"showlegend\": true, \"subplot\": \"mapbox\", \"type\": \"scattermapbox\"}, {\"hovertemplate\": \"neighbourhood=Don Valley Village<br>average_house_value=%{marker.size}<br>lat=%{lat}<br>lon=%{lon}<extra></extra>\", \"lat\": [43.78329369, 43.78329369, 43.78329369, 43.78329369], \"legendgroup\": \"Don Valley Village\", \"lon\": [-79.35364413, -79.35364413, -79.35364413, -79.35364413], \"marker\": {\"color\": \"#636efa\", \"size\": [241824, 353756, 442487, 553974], \"sizemode\": \"area\", \"sizeref\": 5311.6325}, \"mode\": \"markers\", \"name\": \"Don Valley Village\", \"showlegend\": true, \"subplot\": \"mapbox\", \"type\": \"scattermapbox\"}, {\"hovertemplate\": \"neighbourhood=Dorset Park<br>average_house_value=%{marker.size}<br>lat=%{lat}<br>lon=%{lon}<extra></extra>\", \"lat\": [43.75927437, 43.75927437, 43.75927437, 43.75927437], \"legendgroup\": \"Dorset Park\", \"lon\": [-79.27890794, -79.27890794, -79.27890794, -79.27890794], \"marker\": {\"color\": \"#EF553B\", \"size\": [159187, 232869, 291278, 364667], \"sizemode\": \"area\", \"sizeref\": 5311.6325}, \"mode\": \"markers\", \"name\": \"Dorset Park\", \"showlegend\": true, \"subplot\": \"mapbox\", \"type\": \"scattermapbox\"}, {\"hovertemplate\": \"neighbourhood=Dovercourt-Wallace Emerson-Juncti<br>average_house_value=%{marker.size}<br>lat=%{lat}<br>lon=%{lon}<extra></extra>\", \"lat\": [43.66567693, 43.66567693, 43.66567693, 43.66567693], \"legendgroup\": \"Dovercourt-Wallace Emerson-Juncti\", \"lon\": [-79.4385407, -79.4385407, -79.4385407, -79.4385407], \"marker\": {\"color\": \"#00cc96\", \"size\": [264116, 386366, 483276, 605040], \"sizemode\": \"area\", \"sizeref\": 5311.6325}, \"mode\": \"markers\", \"name\": \"Dovercourt-Wallace Emerson-Juncti\", \"showlegend\": true, \"subplot\": \"mapbox\", \"type\": \"scattermapbox\"}, {\"hovertemplate\": \"neighbourhood=Downsview-Roding-CFB<br>average_house_value=%{marker.size}<br>lat=%{lat}<br>lon=%{lon}<extra></extra>\", \"lat\": [43.73329235, 43.73329235, 43.73329235, 43.73329235], \"legendgroup\": \"Downsview-Roding-CFB\", \"lon\": [-79.49049735, -79.49049735, -79.49049735, -79.49049735], \"marker\": {\"color\": \"#ab63fa\", \"size\": [231741, 339006, 424038, 530877], \"sizemode\": \"area\", \"sizeref\": 5311.6325}, \"mode\": \"markers\", \"name\": \"Downsview-Roding-CFB\", \"showlegend\": true, \"subplot\": \"mapbox\", \"type\": \"scattermapbox\"}, {\"hovertemplate\": \"neighbourhood=Dufferin Grove<br>average_house_value=%{marker.size}<br>lat=%{lat}<br>lon=%{lon}<extra></extra>\", \"lat\": [43.65542833, 43.65542833, 43.65542833, 43.65542833], \"legendgroup\": \"Dufferin Grove\", \"lon\": [-79.43734104, -79.43734104, -79.43734104, -79.43734104], \"marker\": {\"color\": \"#FFA15A\", \"size\": [278023, 406710, 508723, 636899], \"sizemode\": \"area\", \"sizeref\": 5311.6325}, \"mode\": \"markers\", \"name\": \"Dufferin Grove\", \"showlegend\": true, \"subplot\": \"mapbox\", \"type\": \"scattermapbox\"}, {\"hovertemplate\": \"neighbourhood=East End-Danforth<br>average_house_value=%{marker.size}<br>lat=%{lat}<br>lon=%{lon}<extra></extra>\", \"lat\": [43.68417388, 43.68417388, 43.68417388, 43.68417388], \"legendgroup\": \"East End-Danforth\", \"lon\": [-79.29935867, -79.29935867, -79.29935867, -79.29935867], \"marker\": {\"color\": \"#19d3f3\", \"size\": [290457, 424900, 531476, 665384], \"sizemode\": \"area\", \"sizeref\": 5311.6325}, \"mode\": \"markers\", \"name\": \"East End-Danforth\", \"showlegend\": true, \"subplot\": \"mapbox\", \"type\": \"scattermapbox\"}, {\"hovertemplate\": \"neighbourhood=Edenbridge-Humber Valley<br>average_house_value=%{marker.size}<br>lat=%{lat}<br>lon=%{lon}<extra></extra>\", \"lat\": [43.67088591, 43.67088591, 43.67088591, 43.67088591], \"legendgroup\": \"Edenbridge-Humber Valley\", \"lon\": [-79.52245776, -79.52245776, -79.52245776, -79.52245776], \"marker\": {\"color\": \"#FF6692\", \"size\": [483734, 707638, 885132, 1108146], \"sizemode\": \"area\", \"sizeref\": 5311.6325}, \"mode\": \"markers\", \"name\": \"Edenbridge-Humber Valley\", \"showlegend\": true, \"subplot\": \"mapbox\", \"type\": \"scattermapbox\"}, {\"hovertemplate\": \"neighbourhood=Eglinton East<br>average_house_value=%{marker.size}<br>lat=%{lat}<br>lon=%{lon}<extra></extra>\", \"lat\": [43.7409223, 43.7409223, 43.7409223, 43.7409223], \"legendgroup\": \"Eglinton East\", \"lon\": [-79.24559804, -79.24559804, -79.24559804, -79.24559804], \"marker\": {\"color\": \"#B6E880\", \"size\": [163419, 239060, 299023, 374364], \"sizemode\": \"area\", \"sizeref\": 5311.6325}, \"mode\": \"markers\", \"name\": \"Eglinton East\", \"showlegend\": true, \"subplot\": \"mapbox\", \"type\": \"scattermapbox\"}, {\"hovertemplate\": \"neighbourhood=Elms-Old Rexdale<br>average_house_value=%{marker.size}<br>lat=%{lat}<br>lon=%{lon}<extra></extra>\", \"lat\": [43.72151887, 43.72151887, 43.72151887, 43.72151887], \"legendgroup\": \"Elms-Old Rexdale\", \"lon\": [-79.54898272, -79.54898272, -79.54898272, -79.54898272], \"marker\": {\"color\": \"#FF97FF\", \"size\": [163039, 238505, 298328, 373493], \"sizemode\": \"area\", \"sizeref\": 5311.6325}, \"mode\": \"markers\", \"name\": \"Elms-Old Rexdale\", \"showlegend\": true, \"subplot\": \"mapbox\", \"type\": \"scattermapbox\"}, {\"hovertemplate\": \"neighbourhood=Englemount-Lawrence<br>average_house_value=%{marker.size}<br>lat=%{lat}<br>lon=%{lon}<extra></extra>\", \"lat\": [43.72034467, 43.72034467, 43.72034467, 43.72034467], \"legendgroup\": \"Englemount-Lawrence\", \"lon\": [-79.43740855, -79.43740855, -79.43740855, -79.43740855], \"marker\": {\"color\": \"#FECB52\", \"size\": [345676, 505677, 632514, 791880], \"sizemode\": \"area\", \"sizeref\": 5311.6325}, \"mode\": \"markers\", \"name\": \"Englemount-Lawrence\", \"showlegend\": true, \"subplot\": \"mapbox\", \"type\": \"scattermapbox\"}, {\"hovertemplate\": \"neighbourhood=Eringate-Centennial-West Deane<br>average_house_value=%{marker.size}<br>lat=%{lat}<br>lon=%{lon}<extra></extra>\", \"lat\": [43.65801676, 43.65801676, 43.65801676, 43.65801676], \"legendgroup\": \"Eringate-Centennial-West Deane\", \"lon\": [-79.58044524, -79.58044524, -79.58044524, -79.58044524], \"marker\": {\"color\": \"#636efa\", \"size\": [241685, 353553, 442233, 553656], \"sizemode\": \"area\", \"sizeref\": 5311.6325}, \"mode\": \"markers\", \"name\": \"Eringate-Centennial-West Deane\", \"showlegend\": true, \"subplot\": \"mapbox\", \"type\": \"scattermapbox\"}, {\"hovertemplate\": \"neighbourhood=Etobicoke West Mall<br>average_house_value=%{marker.size}<br>lat=%{lat}<br>lon=%{lon}<extra></extra>\", \"lat\": [43.64506262, 43.64506262, 43.64506262, 43.64506262], \"legendgroup\": \"Etobicoke West Mall\", \"lon\": [-79.56893877, -79.56893877, -79.56893877, -79.56893877], \"marker\": {\"color\": \"#EF553B\", \"size\": [187993, 275009, 343988, 430658], \"sizemode\": \"area\", \"sizeref\": 5311.6325}, \"mode\": \"markers\", \"name\": \"Etobicoke West Mall\", \"showlegend\": true, \"subplot\": \"mapbox\", \"type\": \"scattermapbox\"}, {\"hovertemplate\": \"neighbourhood=Flemingdon Park<br>average_house_value=%{marker.size}<br>lat=%{lat}<br>lon=%{lon}<extra></extra>\", \"lat\": [43.71592975, 43.71592975, 43.71592975, 43.71592975], \"legendgroup\": \"Flemingdon Park\", \"lon\": [-79.33264597, -79.33264597, -79.33264597, -79.33264597], \"marker\": {\"color\": \"#00cc96\", \"size\": [126255, 184694, 231020, 289227], \"sizemode\": \"area\", \"sizeref\": 5311.6325}, \"mode\": \"markers\", \"name\": \"Flemingdon Park\", \"showlegend\": true, \"subplot\": \"mapbox\", \"type\": \"scattermapbox\"}, {\"hovertemplate\": \"neighbourhood=Forest Hill North<br>average_house_value=%{marker.size}<br>lat=%{lat}<br>lon=%{lon}<extra></extra>\", \"lat\": [43.70421756, 43.70421756, 43.70421756, 43.70421756], \"legendgroup\": \"Forest Hill North\", \"lon\": [-79.42814316, -79.42814316, -79.42814316, -79.42814316], \"marker\": {\"color\": \"#ab63fa\", \"size\": [517466, 756983, 946854, 1185419], \"sizemode\": \"area\", \"sizeref\": 5311.6325}, \"mode\": \"markers\", \"name\": \"Forest Hill North\", \"showlegend\": true, \"subplot\": \"mapbox\", \"type\": \"scattermapbox\"}, {\"hovertemplate\": \"neighbourhood=Forest Hill South<br>average_house_value=%{marker.size}<br>lat=%{lat}<br>lon=%{lon}<extra></extra>\", \"lat\": [43.69452576, 43.69452576, 43.69452576, 43.69452576], \"legendgroup\": \"Forest Hill South\", \"lon\": [-79.41431786, -79.41431786, -79.41431786, -79.41431786], \"marker\": {\"color\": \"#FFA15A\", \"size\": [726664, 1063011, 1329642, 1664653], \"sizemode\": \"area\", \"sizeref\": 5311.6325}, \"mode\": \"markers\", \"name\": \"Forest Hill South\", \"showlegend\": true, \"subplot\": \"mapbox\", \"type\": \"scattermapbox\"}, {\"hovertemplate\": \"neighbourhood=Glenfield-Jane Heights<br>average_house_value=%{marker.size}<br>lat=%{lat}<br>lon=%{lon}<extra></extra>\", \"lat\": [43.74563575, 43.74563575, 43.74563575, 43.74563575], \"legendgroup\": \"Glenfield-Jane Heights\", \"lon\": [-79.51346532, -79.51346532, -79.51346532, -79.51346532], \"marker\": {\"color\": \"#19d3f3\", \"size\": [199043, 291172, 364206, 455970], \"sizemode\": \"area\", \"sizeref\": 5311.6325}, \"mode\": \"markers\", \"name\": \"Glenfield-Jane Heights\", \"showlegend\": true, \"subplot\": \"mapbox\", \"type\": \"scattermapbox\"}, {\"hovertemplate\": \"neighbourhood=Greenwood-Coxwell<br>average_house_value=%{marker.size}<br>lat=%{lat}<br>lon=%{lon}<extra></extra>\", \"lat\": [43.67261231, 43.67261231, 43.67261231, 43.67261231], \"legendgroup\": \"Greenwood-Coxwell\", \"lon\": [-79.32431802, -79.32431802, -79.32431802, -79.32431802], \"marker\": {\"color\": \"#FF6692\", \"size\": [235168, 344019, 430308, 538727], \"sizemode\": \"area\", \"sizeref\": 5311.6325}, \"mode\": \"markers\", \"name\": \"Greenwood-Coxwell\", \"showlegend\": true, \"subplot\": \"mapbox\", \"type\": \"scattermapbox\"}, {\"hovertemplate\": \"neighbourhood=Guildwood<br>average_house_value=%{marker.size}<br>lat=%{lat}<br>lon=%{lon}<extra></extra>\", \"lat\": [43.74882934, 43.74882934, 43.74882934, 43.74882934], \"legendgroup\": \"Guildwood\", \"lon\": [-79.19505535, -79.19505535, -79.19505535, -79.19505535], \"marker\": {\"color\": \"#B6E880\", \"size\": [224425, 328303, 410650, 514116], \"sizemode\": \"area\", \"sizeref\": 5311.6325}, \"mode\": \"markers\", \"name\": \"Guildwood\", \"showlegend\": true, \"subplot\": \"mapbox\", \"type\": \"scattermapbox\"}, {\"hovertemplate\": \"neighbourhood=Henry Farm<br>average_house_value=%{marker.size}<br>lat=%{lat}<br>lon=%{lon}<extra></extra>\", \"lat\": [43.77114414, 43.77114414, 43.77114414, 43.77114414], \"legendgroup\": \"Henry Farm\", \"lon\": [-79.34124067, -79.34124067, -79.34124067, -79.34124067], \"marker\": {\"color\": \"#FF97FF\", \"size\": [224780, 328823, 411300, 514929], \"sizemode\": \"area\", \"sizeref\": 5311.6325}, \"mode\": \"markers\", \"name\": \"Henry Farm\", \"showlegend\": true, \"subplot\": \"mapbox\", \"type\": \"scattermapbox\"}, {\"hovertemplate\": \"neighbourhood=High Park North<br>average_house_value=%{marker.size}<br>lat=%{lat}<br>lon=%{lon}<extra></extra>\", \"lat\": [43.65756491, 43.65756491, 43.65756491, 43.65756491], \"legendgroup\": \"High Park North\", \"lon\": [-79.46630217, -79.46630217, -79.46630217, -79.46630217], \"marker\": {\"color\": \"#FECB52\", \"size\": [323536, 473289, 592002, 741161], \"sizemode\": \"area\", \"sizeref\": 5311.6325}, \"mode\": \"markers\", \"name\": \"High Park North\", \"showlegend\": true, \"subplot\": \"mapbox\", \"type\": \"scattermapbox\"}, {\"hovertemplate\": \"neighbourhood=High Park-Swansea<br>average_house_value=%{marker.size}<br>lat=%{lat}<br>lon=%{lon}<extra></extra>\", \"lat\": [43.64506458, 43.64506458, 43.64506458, 43.64506458], \"legendgroup\": \"High Park-Swansea\", \"lon\": [-79.46787222, -79.46787222, -79.46787222, -79.46787222], \"marker\": {\"color\": \"#636efa\", \"size\": [354207, 518157, 648124, 811423], \"sizemode\": \"area\", \"sizeref\": 5311.6325}, \"mode\": \"markers\", \"name\": \"High Park-Swansea\", \"showlegend\": true, \"subplot\": \"mapbox\", \"type\": \"scattermapbox\"}, {\"hovertemplate\": \"neighbourhood=Highland Creek<br>average_house_value=%{marker.size}<br>lat=%{lat}<br>lon=%{lon}<extra></extra>\", \"lat\": [43.79077477, 43.79077477, 43.79077477, 43.79077477], \"legendgroup\": \"Highland Creek\", \"lon\": [-79.17747247, -79.17747247, -79.17747247, -79.17747247], \"marker\": {\"color\": \"#EF553B\", \"size\": [260555, 381156, 476760, 596883], \"sizemode\": \"area\", \"sizeref\": 5311.6325}, \"mode\": \"markers\", \"name\": \"Highland Creek\", \"showlegend\": true, \"subplot\": \"mapbox\", \"type\": \"scattermapbox\"}, {\"hovertemplate\": \"neighbourhood=Hillcrest Village<br>average_house_value=%{marker.size}<br>lat=%{lat}<br>lon=%{lon}<extra></extra>\", \"lat\": [43.80298783, 43.80298783, 43.80298783, 43.80298783], \"legendgroup\": \"Hillcrest Village\", \"lon\": [-79.354804, -79.354804, -79.354804, -79.354804], \"marker\": {\"color\": \"#00cc96\", \"size\": [240009, 351101, 439166, 549816], \"sizemode\": \"area\", \"sizeref\": 5311.6325}, \"mode\": \"markers\", \"name\": \"Hillcrest Village\", \"showlegend\": true, \"subplot\": \"mapbox\", \"type\": \"scattermapbox\"}, {\"hovertemplate\": \"neighbourhood=Humber Heights-Westmount<br>average_house_value=%{marker.size}<br>lat=%{lat}<br>lon=%{lon}<extra></extra>\", \"lat\": [43.6922328, 43.6922328, 43.6922328, 43.6922328], \"legendgroup\": \"Humber Heights-Westmount\", \"lon\": [-79.5224162, -79.5224162, -79.5224162, -79.5224162], \"marker\": {\"color\": \"#ab63fa\", \"size\": [272896, 399210, 499342, 625154], \"sizemode\": \"area\", \"sizeref\": 5311.6325}, \"mode\": \"markers\", \"name\": \"Humber Heights-Westmount\", \"showlegend\": true, \"subplot\": \"mapbox\", \"type\": \"scattermapbox\"}, {\"hovertemplate\": \"neighbourhood=Humber Summit<br>average_house_value=%{marker.size}<br>lat=%{lat}<br>lon=%{lon}<extra></extra>\", \"lat\": [43.75891975, 43.75891975, 43.75891975, 43.75891975], \"legendgroup\": \"Humber Summit\", \"lon\": [-79.55617474, -79.55617474, -79.55617474, -79.55617474], \"marker\": {\"color\": \"#FFA15A\", \"size\": [213919, 312935, 391427, 490049], \"sizemode\": \"area\", \"sizeref\": 5311.6325}, \"mode\": \"markers\", \"name\": \"Humber Summit\", \"showlegend\": true, \"subplot\": \"mapbox\", \"type\": \"scattermapbox\"}, {\"hovertemplate\": \"neighbourhood=Humbermede<br>average_house_value=%{marker.size}<br>lat=%{lat}<br>lon=%{lon}<extra></extra>\", \"lat\": [43.74342952, 43.74342952, 43.74342952, 43.74342952], \"legendgroup\": \"Humbermede\", \"lon\": [-79.54236712, -79.54236712, -79.54236712, -79.54236712], \"marker\": {\"color\": \"#19d3f3\", \"size\": [194295, 284227, 355519, 445094], \"sizemode\": \"area\", \"sizeref\": 5311.6325}, \"mode\": \"markers\", \"name\": \"Humbermede\", \"showlegend\": true, \"subplot\": \"mapbox\", \"type\": \"scattermapbox\"}, {\"hovertemplate\": \"neighbourhood=Humewood-Cedarvale<br>average_house_value=%{marker.size}<br>lat=%{lat}<br>lon=%{lon}<extra></extra>\", \"lat\": [43.69136981, 43.69136981, 43.69136981, 43.69136981], \"legendgroup\": \"Humewood-Cedarvale\", \"lon\": [-79.42768335, -79.42768335, -79.42768335, -79.42768335], \"marker\": {\"color\": \"#FF6692\", \"size\": [423537, 619577, 774983, 970245], \"sizemode\": \"area\", \"sizeref\": 5311.6325}, \"mode\": \"markers\", \"name\": \"Humewood-Cedarvale\", \"showlegend\": true, \"subplot\": \"mapbox\", \"type\": \"scattermapbox\"}, {\"hovertemplate\": \"neighbourhood=Ionview<br>average_house_value=%{marker.size}<br>lat=%{lat}<br>lon=%{lon}<extra></extra>\", \"lat\": [43.73536441, 43.73536441, 43.73536441, 43.73536441], \"legendgroup\": \"Ionview\", \"lon\": [-79.27247049, -79.27247049, -79.27247049, -79.27247049], \"marker\": {\"color\": \"#B6E880\", \"size\": [174793, 255698, 319834, 400418], \"sizemode\": \"area\", \"sizeref\": 5311.6325}, \"mode\": \"markers\", \"name\": \"Ionview\", \"showlegend\": true, \"subplot\": \"mapbox\", \"type\": \"scattermapbox\"}, {\"hovertemplate\": \"neighbourhood=Islington-City Centre West<br>average_house_value=%{marker.size}<br>lat=%{lat}<br>lon=%{lon}<extra></extra>\", \"lat\": [43.63346335, 43.63346335, 43.63346335, 43.63346335], \"legendgroup\": \"Islington-City Centre West\", \"lon\": [-79.54331654, -79.54331654, -79.54331654, -79.54331654], \"marker\": {\"color\": \"#FF97FF\", \"size\": [274436, 401463, 502160, 628682], \"sizemode\": \"area\", \"sizeref\": 5311.6325}, \"mode\": \"markers\", \"name\": \"Islington-City Centre West\", \"showlegend\": true, \"subplot\": \"mapbox\", \"type\": \"scattermapbox\"}, {\"hovertemplate\": \"neighbourhood=Junction Area<br>average_house_value=%{marker.size}<br>lat=%{lat}<br>lon=%{lon}<extra></extra>\", \"lat\": [43.66788977, 43.66788977, 43.66788977, 43.66788977], \"legendgroup\": \"Junction Area\", \"lon\": [-79.47143987, -79.47143987, -79.47143987, -79.47143987], \"marker\": {\"color\": \"#FECB52\", \"size\": [263247, 385094, 481686, 603050], \"sizemode\": \"area\", \"sizeref\": 5311.6325}, \"mode\": \"markers\", \"name\": \"Junction Area\", \"showlegend\": true, \"subplot\": \"mapbox\", \"type\": \"scattermapbox\"}, {\"hovertemplate\": \"neighbourhood=Keelesdale-Eglinton West<br>average_house_value=%{marker.size}<br>lat=%{lat}<br>lon=%{lon}<extra></extra>\", \"lat\": [43.68572747, 43.68572747, 43.68572747, 43.68572747], \"legendgroup\": \"Keelesdale-Eglinton West\", \"lon\": [-79.47143711, -79.47143711, -79.47143711, -79.47143711], \"marker\": {\"color\": \"#636efa\", \"size\": [196112, 286886, 358844, 449257], \"sizemode\": \"area\", \"sizeref\": 5311.6325}, \"mode\": \"markers\", \"name\": \"Keelesdale-Eglinton West\", \"showlegend\": true, \"subplot\": \"mapbox\", \"type\": \"scattermapbox\"}, {\"hovertemplate\": \"neighbourhood=Kennedy Park<br>average_house_value=%{marker.size}<br>lat=%{lat}<br>lon=%{lon}<extra></extra>\", \"lat\": [43.72555572, 43.72555572, 43.72555572, 43.72555572], \"legendgroup\": \"Kennedy Park\", \"lon\": [-79.26038221, -79.26038221, -79.26038221, -79.26038221], \"marker\": {\"color\": \"#EF553B\", \"size\": [174518, 255296, 319331, 399789], \"sizemode\": \"area\", \"sizeref\": 5311.6325}, \"mode\": \"markers\", \"name\": \"Kennedy Park\", \"showlegend\": true, \"subplot\": \"mapbox\", \"type\": \"scattermapbox\"}, {\"hovertemplate\": \"neighbourhood=Kensington-Chinatown<br>average_house_value=%{marker.size}<br>lat=%{lat}<br>lon=%{lon}<extra></extra>\", \"lat\": [43.65355413, 43.65355413, 43.65355413, 43.65355413], \"legendgroup\": \"Kensington-Chinatown\", \"lon\": [-79.39723988, -79.39723988, -79.39723988, -79.39723988], \"marker\": {\"color\": \"#00cc96\", \"size\": [267631, 391509, 489709, 613094], \"sizemode\": \"area\", \"sizeref\": 5311.6325}, \"mode\": \"markers\", \"name\": \"Kensington-Chinatown\", \"showlegend\": true, \"subplot\": \"mapbox\", \"type\": \"scattermapbox\"}, {\"hovertemplate\": \"neighbourhood=Kingsview Village-The Westway<br>average_house_value=%{marker.size}<br>lat=%{lat}<br>lon=%{lon}<extra></extra>\", \"lat\": [43.69899257, 43.69899257, 43.69899257, 43.69899257], \"legendgroup\": \"Kingsview Village-The Westway\", \"lon\": [-79.54786331, -79.54786331, -79.54786331, -79.54786331], \"marker\": {\"color\": \"#ab63fa\", \"size\": [205572, 300725, 376154, 470928], \"sizemode\": \"area\", \"sizeref\": 5311.6325}, \"mode\": \"markers\", \"name\": \"Kingsview Village-The Westway\", \"showlegend\": true, \"subplot\": \"mapbox\", \"type\": \"scattermapbox\"}, {\"hovertemplate\": \"neighbourhood=Kingsway South<br>average_house_value=%{marker.size}<br>lat=%{lat}<br>lon=%{lon}<extra></extra>\", \"lat\": [43.65352043, 43.65352043, 43.65352043, 43.65352043], \"legendgroup\": \"Kingsway South\", \"lon\": [-79.5105768, -79.5105768, -79.5105768, -79.5105768], \"marker\": {\"color\": \"#FFA15A\", \"size\": [512334, 749476, 937464, 1173663], \"sizemode\": \"area\", \"sizeref\": 5311.6325}, \"mode\": \"markers\", \"name\": \"Kingsway South\", \"showlegend\": true, \"subplot\": \"mapbox\", \"type\": \"scattermapbox\"}, {\"hovertemplate\": \"neighbourhood=L'Amoreaux<br>average_house_value=%{marker.size}<br>lat=%{lat}<br>lon=%{lon}<extra></extra>\", \"lat\": [43.79571603, 43.79571603, 43.79571603, 43.79571603], \"legendgroup\": \"L'Amoreaux\", \"lon\": [-79.31408424, -79.31408424, -79.31408424, -79.31408424], \"marker\": {\"color\": \"#19d3f3\", \"size\": [395115, 578001, 722978, 905137], \"sizemode\": \"area\", \"sizeref\": 5311.6325}, \"mode\": \"markers\", \"name\": \"L'Amoreaux\", \"showlegend\": true, \"subplot\": \"mapbox\", \"type\": \"scattermapbox\"}, {\"hovertemplate\": \"neighbourhood=Lambton Baby Point<br>average_house_value=%{marker.size}<br>lat=%{lat}<br>lon=%{lon}<extra></extra>\", \"lat\": [43.65742013, 43.65742013, 43.65742013, 43.65742013], \"legendgroup\": \"Lambton Baby Point\", \"lon\": [-79.49604526, -79.49604526, -79.49604526, -79.49604526], \"marker\": {\"color\": \"#FF6692\", \"size\": [204523, 299190, 374234, 468524], \"sizemode\": \"area\", \"sizeref\": 5311.6325}, \"mode\": \"markers\", \"name\": \"Lambton Baby Point\", \"showlegend\": true, \"subplot\": \"mapbox\", \"type\": \"scattermapbox\"}, {\"hovertemplate\": \"neighbourhood=Lansing-Westgate<br>average_house_value=%{marker.size}<br>lat=%{lat}<br>lon=%{lon}<extra></extra>\", \"lat\": [43.75427115, 43.75427115, 43.75427115, 43.75427115], \"legendgroup\": \"Lansing-Westgate\", \"lon\": [-79.42474772, -79.42474772, -79.42474772, -79.42474772], \"marker\": {\"color\": \"#B6E880\", \"size\": [372579, 545034, 681742, 853511], \"sizemode\": \"area\", \"sizeref\": 5311.6325}, \"mode\": \"markers\", \"name\": \"Lansing-Westgate\", \"showlegend\": true, \"subplot\": \"mapbox\", \"type\": \"scattermapbox\"}, {\"hovertemplate\": \"neighbourhood=Lawrence Park North<br>average_house_value=%{marker.size}<br>lat=%{lat}<br>lon=%{lon}<extra></extra>\", \"lat\": [43.73006017, 43.73006017, 43.73006017, 43.73006017], \"legendgroup\": \"Lawrence Park North\", \"lon\": [-79.40397836, -79.40397836, -79.40397836, -79.40397836], \"marker\": {\"color\": \"#FF97FF\", \"size\": [461393, 674957, 844253, 1056967], \"sizemode\": \"area\", \"sizeref\": 5311.6325}, \"mode\": \"markers\", \"name\": \"Lawrence Park North\", \"showlegend\": true, \"subplot\": \"mapbox\", \"type\": \"scattermapbox\"}, {\"hovertemplate\": \"neighbourhood=Lawrence Park South<br>average_house_value=%{marker.size}<br>lat=%{lat}<br>lon=%{lon}<extra></extra>\", \"lat\": [43.7172117, 43.7172117, 43.7172117, 43.7172117], \"legendgroup\": \"Lawrence Park South\", \"lon\": [-79.40603941, -79.40603941, -79.40603941, -79.40603941], \"marker\": {\"color\": \"#FECB52\", \"size\": [664712, 972384, 1216283, 1522732], \"sizemode\": \"area\", \"sizeref\": 5311.6325}, \"mode\": \"markers\", \"name\": \"Lawrence Park South\", \"showlegend\": true, \"subplot\": \"mapbox\", \"type\": \"scattermapbox\"}, {\"hovertemplate\": \"neighbourhood=Leaside-Bennington<br>average_house_value=%{marker.size}<br>lat=%{lat}<br>lon=%{lon}<extra></extra>\", \"lat\": [43.70379663, 43.70379663, 43.70379663, 43.70379663], \"legendgroup\": \"Leaside-Bennington\", \"lon\": [-79.36607234, -79.36607234, -79.36607234, -79.36607234], \"marker\": {\"color\": \"#636efa\", \"size\": [489998, 716801, 896593, 1122495], \"sizemode\": \"area\", \"sizeref\": 5311.6325}, \"mode\": \"markers\", \"name\": \"Leaside-Bennington\", \"showlegend\": true, \"subplot\": \"mapbox\", \"type\": \"scattermapbox\"}, {\"hovertemplate\": \"neighbourhood=Little Portugal<br>average_house_value=%{marker.size}<br>lat=%{lat}<br>lon=%{lon}<extra></extra>\", \"lat\": [43.64753593, 43.64753593, 43.64753593, 43.64753593], \"legendgroup\": \"Little Portugal\", \"lon\": [-79.43032271, -79.43032271, -79.43032271, -79.43032271], \"marker\": {\"color\": \"#EF553B\", \"size\": [328211, 480129, 600558, 751872], \"sizemode\": \"area\", \"sizeref\": 5311.6325}, \"mode\": \"markers\", \"name\": \"Little Portugal\", \"showlegend\": true, \"subplot\": \"mapbox\", \"type\": \"scattermapbox\"}, {\"hovertemplate\": \"neighbourhood=Long Branch<br>average_house_value=%{marker.size}<br>lat=%{lat}<br>lon=%{lon}<extra></extra>\", \"lat\": [43.59236169, 43.59236169, 43.59236169, 43.59236169], \"legendgroup\": \"Long Branch\", \"lon\": [-79.53334545, -79.53334545, -79.53334545, -79.53334545], \"marker\": {\"color\": \"#00cc96\", \"size\": [234424, 342930, 428946, 537021], \"sizemode\": \"area\", \"sizeref\": 5311.6325}, \"mode\": \"markers\", \"name\": \"Long Branch\", \"showlegend\": true, \"subplot\": \"mapbox\", \"type\": \"scattermapbox\"}, {\"hovertemplate\": \"neighbourhood=Malvern<br>average_house_value=%{marker.size}<br>lat=%{lat}<br>lon=%{lon}<extra></extra>\", \"lat\": [43.80365820000001, 43.80365820000001, 43.80365820000001, 43.80365820000001], \"legendgroup\": \"Malvern\", \"lon\": [-79.22251662, -79.22251662, -79.22251662, -79.22251662], \"marker\": {\"color\": \"#ab63fa\", \"size\": [156076, 228318, 285586, 357541], \"sizemode\": \"area\", \"sizeref\": 5311.6325}, \"mode\": \"markers\", \"name\": \"Malvern\", \"showlegend\": true, \"subplot\": \"mapbox\", \"type\": \"scattermapbox\"}, {\"hovertemplate\": \"neighbourhood=Maple Leaf<br>average_house_value=%{marker.size}<br>lat=%{lat}<br>lon=%{lon}<extra></extra>\", \"lat\": [43.71557394, 43.71557394, 43.71557394, 43.71557394], \"legendgroup\": \"Maple Leaf\", \"lon\": [-79.48075802, -79.48075802, -79.48075802, -79.48075802], \"marker\": {\"color\": \"#FFA15A\", \"size\": [275374, 402835, 503876, 630831], \"sizemode\": \"area\", \"sizeref\": 5311.6325}, \"mode\": \"markers\", \"name\": \"Maple Leaf\", \"showlegend\": true, \"subplot\": \"mapbox\", \"type\": \"scattermapbox\"}, {\"hovertemplate\": \"neighbourhood=Markland Wood<br>average_house_value=%{marker.size}<br>lat=%{lat}<br>lon=%{lon}<extra></extra>\", \"lat\": [43.63354175, 43.63354175, 43.63354175, 43.63354175], \"legendgroup\": \"Markland Wood\", \"lon\": [-79.57343155, -79.57343155, -79.57343155, -79.57343155], \"marker\": {\"color\": \"#19d3f3\", \"size\": [269751, 394610, 493588, 617950], \"sizemode\": \"area\", \"sizeref\": 5311.6325}, \"mode\": \"markers\", \"name\": \"Markland Wood\", \"showlegend\": true, \"subplot\": \"mapbox\", \"type\": \"scattermapbox\"}, {\"hovertemplate\": \"neighbourhood=Milliken<br>average_house_value=%{marker.size}<br>lat=%{lat}<br>lon=%{lon}<extra></extra>\", \"lat\": [43.82069079, 43.82069079, 43.82069079, 43.82069079], \"legendgroup\": \"Milliken\", \"lon\": [-79.27500892, -79.27500892, -79.27500892, -79.27500892], \"marker\": {\"color\": \"#FF6692\", \"size\": [209609, 306629, 383540, 480175], \"sizemode\": \"area\", \"sizeref\": 5311.6325}, \"mode\": \"markers\", \"name\": \"Milliken\", \"showlegend\": true, \"subplot\": \"mapbox\", \"type\": \"scattermapbox\"}, {\"hovertemplate\": \"neighbourhood=Mimico<br>average_house_value=%{marker.size}<br>lat=%{lat}<br>lon=%{lon}<extra></extra>\", \"lat\": [43.61592386, 43.61592386, 43.61592386, 43.61592386], \"legendgroup\": \"Mimico\", \"lon\": [-79.50013664, -79.50013664, -79.50013664, -79.50013664], \"marker\": {\"color\": \"#B6E880\", \"size\": [239078, 349739, 437462, 547683], \"sizemode\": \"area\", \"sizeref\": 5311.6325}, \"mode\": \"markers\", \"name\": \"Mimico\", \"showlegend\": true, \"subplot\": \"mapbox\", \"type\": \"scattermapbox\"}, {\"hovertemplate\": \"neighbourhood=Morningside<br>average_house_value=%{marker.size}<br>lat=%{lat}<br>lon=%{lon}<extra></extra>\", \"lat\": [43.78239861, 43.78239861, 43.78239861, 43.78239861], \"legendgroup\": \"Morningside\", \"lon\": [-79.20704119, -79.20704119, -79.20704119, -79.20704119], \"marker\": {\"color\": \"#FF97FF\", \"size\": [173169, 253323, 316863, 396699], \"sizemode\": \"area\", \"sizeref\": 5311.6325}, \"mode\": \"markers\", \"name\": \"Morningside\", \"showlegend\": true, \"subplot\": \"mapbox\", \"type\": \"scattermapbox\"}, {\"hovertemplate\": \"neighbourhood=Moss Park<br>average_house_value=%{marker.size}<br>lat=%{lat}<br>lon=%{lon}<extra></extra>\", \"lat\": [43.65651762, 43.65651762, 43.65651762, 43.65651762], \"legendgroup\": \"Moss Park\", \"lon\": [-79.36729703, -79.36729703, -79.36729703, -79.36729703], \"marker\": {\"color\": \"#FECB52\", \"size\": [248778, 363929, 455212, 569905], \"sizemode\": \"area\", \"sizeref\": 5311.6325}, \"mode\": \"markers\", \"name\": \"Moss Park\", \"showlegend\": true, \"subplot\": \"mapbox\", \"type\": \"scattermapbox\"}, {\"hovertemplate\": \"neighbourhood=Mount Dennis<br>average_house_value=%{marker.size}<br>lat=%{lat}<br>lon=%{lon}<extra></extra>\", \"lat\": [43.68814409, 43.68814409, 43.68814409, 43.68814409], \"legendgroup\": \"Mount Dennis\", \"lon\": [-79.49998906, -79.49998906, -79.49998906, -79.49998906], \"marker\": {\"color\": \"#636efa\", \"size\": [159374, 233143, 291621, 365097], \"sizemode\": \"area\", \"sizeref\": 5311.6325}, \"mode\": \"markers\", \"name\": \"Mount Dennis\", \"showlegend\": true, \"subplot\": \"mapbox\", \"type\": \"scattermapbox\"}, {\"hovertemplate\": \"neighbourhood=Mount Olive-Silverstone-Jamestown<br>average_house_value=%{marker.size}<br>lat=%{lat}<br>lon=%{lon}<extra></extra>\", \"lat\": [43.7468678, 43.7468678, 43.7468678, 43.7468678], \"legendgroup\": \"Mount Olive-Silverstone-Jamestown\", \"lon\": [-79.58725926, -79.58725926, -79.58725926, -79.58725926], \"marker\": {\"color\": \"#EF553B\", \"size\": [153829, 225031, 281475, 352394], \"sizemode\": \"area\", \"sizeref\": 5311.6325}, \"mode\": \"markers\", \"name\": \"Mount Olive-Silverstone-Jamestown\", \"showlegend\": true, \"subplot\": \"mapbox\", \"type\": \"scattermapbox\"}, {\"hovertemplate\": \"neighbourhood=Mount Pleasant East<br>average_house_value=%{marker.size}<br>lat=%{lat}<br>lon=%{lon}<extra></extra>\", \"lat\": [43.70485217, 43.70485217, 43.70485217, 43.70485217], \"legendgroup\": \"Mount Pleasant East\", \"lon\": [-79.38492395, -79.38492395, -79.38492395, -79.38492395], \"marker\": {\"color\": \"#00cc96\", \"size\": [411558, 602054, 753065, 942804], \"sizemode\": \"area\", \"sizeref\": 5311.6325}, \"mode\": \"markers\", \"name\": \"Mount Pleasant East\", \"showlegend\": true, \"subplot\": \"mapbox\", \"type\": \"scattermapbox\"}, {\"hovertemplate\": \"neighbourhood=Mount Pleasant West<br>average_house_value=%{marker.size}<br>lat=%{lat}<br>lon=%{lon}<extra></extra>\", \"lat\": [43.70443517, 43.70443517, 43.70443517, 43.70443517], \"legendgroup\": \"Mount Pleasant West\", \"lon\": [-79.39335955, -79.39335955, -79.39335955, -79.39335955], \"marker\": {\"color\": \"#ab63fa\", \"size\": [284459, 416125, 520500, 651643], \"sizemode\": \"area\", \"sizeref\": 5311.6325}, \"mode\": \"markers\", \"name\": \"Mount Pleasant West\", \"showlegend\": true, \"subplot\": \"mapbox\", \"type\": \"scattermapbox\"}, {\"hovertemplate\": \"neighbourhood=New Toronto<br>average_house_value=%{marker.size}<br>lat=%{lat}<br>lon=%{lon}<extra></extra>\", \"lat\": [43.6005886, 43.6005886, 43.6005886, 43.6005886], \"legendgroup\": \"New Toronto\", \"lon\": [-79.51035809, -79.51035809, -79.51035809, -79.51035809], \"marker\": {\"color\": \"#FFA15A\", \"size\": [247779, 362468, 453384, 567617], \"sizemode\": \"area\", \"sizeref\": 5311.6325}, \"mode\": \"markers\", \"name\": \"New Toronto\", \"showlegend\": true, \"subplot\": \"mapbox\", \"type\": \"scattermapbox\"}, {\"hovertemplate\": \"neighbourhood=Newtonbrook East<br>average_house_value=%{marker.size}<br>lat=%{lat}<br>lon=%{lon}<extra></extra>\", \"lat\": [43.79153579, 43.79153579, 43.79153579, 43.79153579], \"legendgroup\": \"Newtonbrook East\", \"lon\": [-79.40593745, -79.40593745, -79.40593745, -79.40593745], \"marker\": {\"color\": \"#19d3f3\", \"size\": [339987, 497355, 622104, 778847], \"sizemode\": \"area\", \"sizeref\": 5311.6325}, \"mode\": \"markers\", \"name\": \"Newtonbrook East\", \"showlegend\": true, \"subplot\": \"mapbox\", \"type\": \"scattermapbox\"}, {\"hovertemplate\": \"neighbourhood=Newtonbrook West<br>average_house_value=%{marker.size}<br>lat=%{lat}<br>lon=%{lon}<extra></extra>\", \"lat\": [43.78582994, 43.78582994, 43.78582994, 43.78582994], \"legendgroup\": \"Newtonbrook West\", \"lon\": [-79.43142151, -79.43142151, -79.43142151, -79.43142151], \"marker\": {\"color\": \"#FF6692\", \"size\": [279833, 409358, 512036, 641047], \"sizemode\": \"area\", \"sizeref\": 5311.6325}, \"mode\": \"markers\", \"name\": \"Newtonbrook West\", \"showlegend\": true, \"subplot\": \"mapbox\", \"type\": \"scattermapbox\"}, {\"hovertemplate\": \"neighbourhood=Niagara<br>average_house_value=%{marker.size}<br>lat=%{lat}<br>lon=%{lon}<extra></extra>\", \"lat\": [43.63668088, 43.63668088, 43.63668088, 43.63668088], \"legendgroup\": \"Niagara\", \"lon\": [-79.4124204, -79.4124204, -79.4124204, -79.4124204], \"marker\": {\"color\": \"#B6E880\", \"size\": [224801, 328854, 411339, 514978], \"sizemode\": \"area\", \"sizeref\": 5311.6325}, \"mode\": \"markers\", \"name\": \"Niagara\", \"showlegend\": true, \"subplot\": \"mapbox\", \"type\": \"scattermapbox\"}, {\"hovertemplate\": \"neighbourhood=North Riverdale<br>average_house_value=%{marker.size}<br>lat=%{lat}<br>lon=%{lon}<extra></extra>\", \"lat\": [43.67199515, 43.67199515, 43.67199515, 43.67199515], \"legendgroup\": \"North Riverdale\", \"lon\": [-79.35126041, -79.35126041, -79.35126041, -79.35126041], \"marker\": {\"color\": \"#FF97FF\", \"size\": [427169, 624890, 781629, 978565], \"sizemode\": \"area\", \"sizeref\": 5311.6325}, \"mode\": \"markers\", \"name\": \"North Riverdale\", \"showlegend\": true, \"subplot\": \"mapbox\", \"type\": \"scattermapbox\"}, {\"hovertemplate\": \"neighbourhood=North St.James Town<br>average_house_value=%{marker.size}<br>lat=%{lat}<br>lon=%{lon}<extra></extra>\", \"lat\": [43.66962341, 43.66962341, 43.66962341, 43.66962341], \"legendgroup\": \"North St.James Town\", \"lon\": [-79.37524658, -79.37524658, -79.37524658, -79.37524658], \"marker\": {\"color\": \"#FECB52\", \"size\": [249993, 365706, 457435, 572689], \"sizemode\": \"area\", \"sizeref\": 5311.6325}, \"mode\": \"markers\", \"name\": \"North St.James Town\", \"showlegend\": true, \"subplot\": \"mapbox\", \"type\": \"scattermapbox\"}, {\"hovertemplate\": \"neighbourhood=O'Connor-Parkview<br>average_house_value=%{marker.size}<br>lat=%{lat}<br>lon=%{lon}<extra></extra>\", \"lat\": [43.70680049, 43.70680049, 43.70680049, 43.70680049], \"legendgroup\": \"O'Connor-Parkview\", \"lon\": [-79.31222777, -79.31222777, -79.31222777, -79.31222777], \"marker\": {\"color\": \"#636efa\", \"size\": [181251, 265146, 331652, 415214], \"sizemode\": \"area\", \"sizeref\": 5311.6325}, \"mode\": \"markers\", \"name\": \"O'Connor-Parkview\", \"showlegend\": true, \"subplot\": \"mapbox\", \"type\": \"scattermapbox\"}, {\"hovertemplate\": \"neighbourhood=Oakridge<br>average_house_value=%{marker.size}<br>lat=%{lat}<br>lon=%{lon}<extra></extra>\", \"lat\": [43.69740813, 43.69740813, 43.69740813, 43.69740813], \"legendgroup\": \"Oakridge\", \"lon\": [-79.27970834, -79.27970834, -79.27970834, -79.27970834], \"marker\": {\"color\": \"#EF553B\", \"size\": [256556, 375307, 469444, 587723], \"sizemode\": \"area\", \"sizeref\": 5311.6325}, \"mode\": \"markers\", \"name\": \"Oakridge\", \"showlegend\": true, \"subplot\": \"mapbox\", \"type\": \"scattermapbox\"}, {\"hovertemplate\": \"neighbourhood=Oakwood Village<br>average_house_value=%{marker.size}<br>lat=%{lat}<br>lon=%{lon}<extra></extra>\", \"lat\": [43.68856556, 43.68856556, 43.68856556, 43.68856556], \"legendgroup\": \"Oakwood Village\", \"lon\": [-79.43978548, -79.43978548, -79.43978548, -79.43978548], \"marker\": {\"color\": \"#00cc96\", \"size\": [268067, 392146, 490506, 614092], \"sizemode\": \"area\", \"sizeref\": 5311.6325}, \"mode\": \"markers\", \"name\": \"Oakwood Village\", \"showlegend\": true, \"subplot\": \"mapbox\", \"type\": \"scattermapbox\"}, {\"hovertemplate\": \"neighbourhood=Old East York<br>average_house_value=%{marker.size}<br>lat=%{lat}<br>lon=%{lon}<extra></extra>\", \"lat\": [43.69678127, 43.69678127, 43.69678127, 43.69678127], \"legendgroup\": \"Old East York\", \"lon\": [-79.33548836, -79.33548836, -79.33548836, -79.33548836], \"marker\": {\"color\": \"#ab63fa\", \"size\": [269410, 394111, 492964, 617169], \"sizemode\": \"area\", \"sizeref\": 5311.6325}, \"mode\": \"markers\", \"name\": \"Old East York\", \"showlegend\": true, \"subplot\": \"mapbox\", \"type\": \"scattermapbox\"}, {\"hovertemplate\": \"neighbourhood=Palmerston-Little Italy<br>average_house_value=%{marker.size}<br>lat=%{lat}<br>lon=%{lon}<extra></extra>\", \"lat\": [43.6591571, 43.6591571, 43.6591571, 43.6591571], \"legendgroup\": \"Palmerston-Little Italy\", \"lon\": [-79.41840873, -79.41840873, -79.41840873, -79.41840873], \"marker\": {\"color\": \"#FFA15A\", \"size\": [378033, 553011, 691720, 866003], \"sizemode\": \"area\", \"sizeref\": 5311.6325}, \"mode\": \"markers\", \"name\": \"Palmerston-Little Italy\", \"showlegend\": true, \"subplot\": \"mapbox\", \"type\": \"scattermapbox\"}, {\"hovertemplate\": \"neighbourhood=Parkwoods-Donalda<br>average_house_value=%{marker.size}<br>lat=%{lat}<br>lon=%{lon}<extra></extra>\", \"lat\": [43.75503347, 43.75503347, 43.75503347, 43.75503347], \"legendgroup\": \"Parkwoods-Donalda\", \"lon\": [-79.33017952, -79.33017952, -79.33017952, -79.33017952], \"marker\": {\"color\": \"#19d3f3\", \"size\": [276239, 404100, 505459, 632812], \"sizemode\": \"area\", \"sizeref\": 5311.6325}, \"mode\": \"markers\", \"name\": \"Parkwoods-Donalda\", \"showlegend\": true, \"subplot\": \"mapbox\", \"type\": \"scattermapbox\"}, {\"hovertemplate\": \"neighbourhood=Pelmo Park-Humberlea<br>average_house_value=%{marker.size}<br>lat=%{lat}<br>lon=%{lon}<extra></extra>\", \"lat\": [43.7175146, 43.7175146, 43.7175146, 43.7175146], \"legendgroup\": \"Pelmo Park-Humberlea\", \"lon\": [-79.5282822, -79.5282822, -79.5282822, -79.5282822], \"marker\": {\"color\": \"#FF6692\", \"size\": [246333, 360352, 450737, 564303], \"sizemode\": \"area\", \"sizeref\": 5311.6325}, \"mode\": \"markers\", \"name\": \"Pelmo Park-Humberlea\", \"showlegend\": true, \"subplot\": \"mapbox\", \"type\": \"scattermapbox\"}, {\"hovertemplate\": \"neighbourhood=Playter Estates-Danforth<br>average_house_value=%{marker.size}<br>lat=%{lat}<br>lon=%{lon}<extra></extra>\", \"lat\": [43.67970047, 43.67970047, 43.67970047, 43.67970047], \"legendgroup\": \"Playter Estates-Danforth\", \"lon\": [-79.35488729, -79.35488729, -79.35488729, -79.35488729], \"marker\": {\"color\": \"#B6E880\", \"size\": [394235, 576713, 721368, 903121], \"sizemode\": \"area\", \"sizeref\": 5311.6325}, \"mode\": \"markers\", \"name\": \"Playter Estates-Danforth\", \"showlegend\": true, \"subplot\": \"mapbox\", \"type\": \"scattermapbox\"}, {\"hovertemplate\": \"neighbourhood=Pleasant View<br>average_house_value=%{marker.size}<br>lat=%{lat}<br>lon=%{lon}<extra></extra>\", \"lat\": [43.78698176, 43.78698176, 43.78698176, 43.78698176], \"legendgroup\": \"Pleasant View\", \"lon\": [-79.33494843, -79.33494843, -79.33494843, -79.33494843], \"marker\": {\"color\": \"#FF97FF\", \"size\": [226856, 331860, 415099, 519686], \"sizemode\": \"area\", \"sizeref\": 5311.6325}, \"mode\": \"markers\", \"name\": \"Pleasant View\", \"showlegend\": true, \"subplot\": \"mapbox\", \"type\": \"scattermapbox\"}, {\"hovertemplate\": \"neighbourhood=Princess-Rosethorn<br>average_house_value=%{marker.size}<br>lat=%{lat}<br>lon=%{lon}<extra></extra>\", \"lat\": [43.6660506, 43.6660506, 43.6660506, 43.6660506], \"legendgroup\": \"Princess-Rosethorn\", \"lon\": [-79.54455929, -79.54455929, -79.54455929, -79.54455929], \"marker\": {\"color\": \"#FECB52\", \"size\": [465254, 680604, 851317, 1065811], \"sizemode\": \"area\", \"sizeref\": 5311.6325}, \"mode\": \"markers\", \"name\": \"Princess-Rosethorn\", \"showlegend\": true, \"subplot\": \"mapbox\", \"type\": \"scattermapbox\"}, {\"hovertemplate\": \"neighbourhood=Regent Park<br>average_house_value=%{marker.size}<br>lat=%{lat}<br>lon=%{lon}<extra></extra>\", \"lat\": [43.65999214, 43.65999214, 43.65999214, 43.65999214], \"legendgroup\": \"Regent Park\", \"lon\": [-79.36050881, -79.36050881, -79.36050881, -79.36050881], \"marker\": {\"color\": \"#636efa\", \"size\": [238524, 348928, 436448, 546413], \"sizemode\": \"area\", \"sizeref\": 5311.6325}, \"mode\": \"markers\", \"name\": \"Regent Park\", \"showlegend\": true, \"subplot\": \"mapbox\", \"type\": \"scattermapbox\"}, {\"hovertemplate\": \"neighbourhood=Rexdale-Kipling<br>average_house_value=%{marker.size}<br>lat=%{lat}<br>lon=%{lon}<extra></extra>\", \"lat\": [43.72372548, 43.72372548, 43.72372548, 43.72372548], \"legendgroup\": \"Rexdale-Kipling\", \"lon\": [-79.56622841, -79.56622841, -79.56622841, -79.56622841], \"marker\": {\"color\": \"#EF553B\", \"size\": [219337, 320860, 401340, 502460], \"sizemode\": \"area\", \"sizeref\": 5311.6325}, \"mode\": \"markers\", \"name\": \"Rexdale-Kipling\", \"showlegend\": true, \"subplot\": \"mapbox\", \"type\": \"scattermapbox\"}, {\"hovertemplate\": \"neighbourhood=Rockcliffe-Smythe<br>average_house_value=%{marker.size}<br>lat=%{lat}<br>lon=%{lon}<extra></extra>\", \"lat\": [43.67479045, 43.67479045, 43.67479045, 43.67479045], \"legendgroup\": \"Rockcliffe-Smythe\", \"lon\": [-79.49442045, -79.49442045, -79.49442045, -79.49442045], \"marker\": {\"color\": \"#00cc96\", \"size\": [210017, 307227, 384287, 481110], \"sizemode\": \"area\", \"sizeref\": 5311.6325}, \"mode\": \"markers\", \"name\": \"Rockcliffe-Smythe\", \"showlegend\": true, \"subplot\": \"mapbox\", \"type\": \"scattermapbox\"}, {\"hovertemplate\": \"neighbourhood=Roncesvalles<br>average_house_value=%{marker.size}<br>lat=%{lat}<br>lon=%{lon}<extra></extra>\", \"lat\": [43.64612299, 43.64612299, 43.64612299, 43.64612299], \"legendgroup\": \"Roncesvalles\", \"lon\": [-79.44299245, -79.44299245, -79.44299245, -79.44299245], \"marker\": {\"color\": \"#ab63fa\", \"size\": [309221, 452349, 565810, 708369], \"sizemode\": \"area\", \"sizeref\": 5311.6325}, \"mode\": \"markers\", \"name\": \"Roncesvalles\", \"showlegend\": true, \"subplot\": \"mapbox\", \"type\": \"scattermapbox\"}, {\"hovertemplate\": \"neighbourhood=Rosedale-Moore Park<br>average_house_value=%{marker.size}<br>lat=%{lat}<br>lon=%{lon}<extra></extra>\", \"lat\": [43.68282043, 43.68282043, 43.68282043, 43.68282043], \"legendgroup\": \"Rosedale-Moore Park\", \"lon\": [-79.3796694, -79.3796694, -79.3796694, -79.3796694], \"marker\": {\"color\": \"#FFA15A\", \"size\": [664476, 972039, 1215852, 1522193], \"sizemode\": \"area\", \"sizeref\": 5311.6325}, \"mode\": \"markers\", \"name\": \"Rosedale-Moore Park\", \"showlegend\": true, \"subplot\": \"mapbox\", \"type\": \"scattermapbox\"}, {\"hovertemplate\": \"neighbourhood=Rouge<br>average_house_value=%{marker.size}<br>lat=%{lat}<br>lon=%{lon}<extra></extra>\", \"lat\": [43.82120126, 43.82120126, 43.82120126, 43.82120126], \"legendgroup\": \"Rouge\", \"lon\": [-79.18634345, -79.18634345, -79.18634345, -79.18634345], \"marker\": {\"color\": \"#19d3f3\", \"size\": [228625, 334448, 418336, 523738], \"sizemode\": \"area\", \"sizeref\": 5311.6325}, \"mode\": \"markers\", \"name\": \"Rouge\", \"showlegend\": true, \"subplot\": \"mapbox\", \"type\": \"scattermapbox\"}, {\"hovertemplate\": \"neighbourhood=Runnymede-Bloor West Village<br>average_house_value=%{marker.size}<br>lat=%{lat}<br>lon=%{lon}<extra></extra>\", \"lat\": [43.65926882, 43.65926882, 43.65926882, 43.65926882], \"legendgroup\": \"Runnymede-Bloor West Village\", \"lon\": [-79.48570818, -79.48570818, -79.48570818, -79.48570818], \"marker\": {\"color\": \"#FF6692\", \"size\": [335435, 490697, 613776, 768420], \"sizemode\": \"area\", \"sizeref\": 5311.6325}, \"mode\": \"markers\", \"name\": \"Runnymede-Bloor West Village\", \"showlegend\": true, \"subplot\": \"mapbox\", \"type\": \"scattermapbox\"}, {\"hovertemplate\": \"neighbourhood=Rustic<br>average_house_value=%{marker.size}<br>lat=%{lat}<br>lon=%{lon}<extra></extra>\", \"lat\": [43.71160912, 43.71160912, 43.71160912, 43.71160912], \"legendgroup\": \"Rustic\", \"lon\": [-79.49809147, -79.49809147, -79.49809147, -79.49809147], \"marker\": {\"color\": \"#B6E880\", \"size\": [261923, 383158, 479264, 600017], \"sizemode\": \"area\", \"sizeref\": 5311.6325}, \"mode\": \"markers\", \"name\": \"Rustic\", \"showlegend\": true, \"subplot\": \"mapbox\", \"type\": \"scattermapbox\"}, {\"hovertemplate\": \"neighbourhood=Scarborough Village<br>average_house_value=%{marker.size}<br>lat=%{lat}<br>lon=%{lon}<extra></extra>\", \"lat\": [43.73865186, 43.73865186, 43.73865186, 43.73865186], \"legendgroup\": \"Scarborough Village\", \"lon\": [-79.21681262, -79.21681262, -79.21681262, -79.21681262], \"marker\": {\"color\": \"#FF97FF\", \"size\": [200402, 293162, 366694, 459085], \"sizemode\": \"area\", \"sizeref\": 5311.6325}, \"mode\": \"markers\", \"name\": \"Scarborough Village\", \"showlegend\": true, \"subplot\": \"mapbox\", \"type\": \"scattermapbox\"}, {\"hovertemplate\": \"neighbourhood=South Parkdale<br>average_house_value=%{marker.size}<br>lat=%{lat}<br>lon=%{lon}<extra></extra>\", \"lat\": [43.63669952, 43.63669952, 43.63669952, 43.63669952], \"legendgroup\": \"South Parkdale\", \"lon\": [-79.43933783, -79.43933783, -79.43933783, -79.43933783], \"marker\": {\"color\": \"#FECB52\", \"size\": [271880, 397724, 497483, 622827], \"sizemode\": \"area\", \"sizeref\": 5311.6325}, \"mode\": \"markers\", \"name\": \"South Parkdale\", \"showlegend\": true, \"subplot\": \"mapbox\", \"type\": \"scattermapbox\"}, {\"hovertemplate\": \"neighbourhood=South Riverdale<br>average_house_value=%{marker.size}<br>lat=%{lat}<br>lon=%{lon}<extra></extra>\", \"lat\": [43.64929206, 43.64929206, 43.64929206, 43.64929206], \"legendgroup\": \"South Riverdale\", \"lon\": [-79.33565132, -79.33565132, -79.33565132, -79.33565132], \"marker\": {\"color\": \"#636efa\", \"size\": [276462, 404427, 505868, 633325], \"sizemode\": \"area\", \"sizeref\": 5311.6325}, \"mode\": \"markers\", \"name\": \"South Riverdale\", \"showlegend\": true, \"subplot\": \"mapbox\", \"type\": \"scattermapbox\"}, {\"hovertemplate\": \"neighbourhood=St.Andrew-Windfields<br>average_house_value=%{marker.size}<br>lat=%{lat}<br>lon=%{lon}<extra></extra>\", \"lat\": [43.75624583, 43.75624583, 43.75624583, 43.75624583], \"legendgroup\": \"St.Andrew-Windfields\", \"lon\": [-79.37903709, -79.37903709, -79.37903709, -79.37903709], \"marker\": {\"color\": \"#EF553B\", \"size\": [607040, 888017, 1110755, 1390616], \"sizemode\": \"area\", \"sizeref\": 5311.6325}, \"mode\": \"markers\", \"name\": \"St.Andrew-Windfields\", \"showlegend\": true, \"subplot\": \"mapbox\", \"type\": \"scattermapbox\"}, {\"hovertemplate\": \"neighbourhood=Steeles<br>average_house_value=%{marker.size}<br>lat=%{lat}<br>lon=%{lon}<extra></extra>\", \"lat\": [43.81295883, 43.81295883, 43.81295883, 43.81295883], \"legendgroup\": \"Steeles\", \"lon\": [-79.32120701, -79.32120701, -79.32120701, -79.32120701], \"marker\": {\"color\": \"#00cc96\", \"size\": [228460, 334206, 418033, 523359], \"sizemode\": \"area\", \"sizeref\": 5311.6325}, \"mode\": \"markers\", \"name\": \"Steeles\", \"showlegend\": true, \"subplot\": \"mapbox\", \"type\": \"scattermapbox\"}, {\"hovertemplate\": \"neighbourhood=Stonegate-Queensway<br>average_house_value=%{marker.size}<br>lat=%{lat}<br>lon=%{lon}<extra></extra>\", \"lat\": [43.63551813, 43.63551813, 43.63551813, 43.63551813], \"legendgroup\": \"Stonegate-Queensway\", \"lon\": [-79.50112821, -79.50112821, -79.50112821, -79.50112821], \"marker\": {\"color\": \"#ab63fa\", \"size\": [334433, 489230, 611942, 766124], \"sizemode\": \"area\", \"sizeref\": 5311.6325}, \"mode\": \"markers\", \"name\": \"Stonegate-Queensway\", \"showlegend\": true, \"subplot\": \"mapbox\", \"type\": \"scattermapbox\"}, {\"hovertemplate\": \"neighbourhood=Tam O'Shanter-Sullivan<br>average_house_value=%{marker.size}<br>lat=%{lat}<br>lon=%{lon}<extra></extra>\", \"lat\": [43.78012985, 43.78012985, 43.78012985, 43.78012985], \"legendgroup\": \"Tam O'Shanter-Sullivan\", \"lon\": [-79.30291871, -79.30291871, -79.30291871, -79.30291871], \"marker\": {\"color\": \"#FFA15A\", \"size\": [215039, 314574, 393477, 492616], \"sizemode\": \"area\", \"sizeref\": 5311.6325}, \"mode\": \"markers\", \"name\": \"Tam O'Shanter-Sullivan\", \"showlegend\": true, \"subplot\": \"mapbox\", \"type\": \"scattermapbox\"}, {\"hovertemplate\": \"neighbourhood=Taylor-Massey<br>average_house_value=%{marker.size}<br>lat=%{lat}<br>lon=%{lon}<extra></extra>\", \"lat\": [43.69499819, 43.69499819, 43.69499819, 43.69499819], \"legendgroup\": \"Taylor-Massey\", \"lon\": [-79.29590112, -79.29590112, -79.29590112, -79.29590112], \"marker\": {\"color\": \"#19d3f3\", \"size\": [145464, 212794, 266168, 333230], \"sizemode\": \"area\", \"sizeref\": 5311.6325}, \"mode\": \"markers\", \"name\": \"Taylor-Massey\", \"showlegend\": true, \"subplot\": \"mapbox\", \"type\": \"scattermapbox\"}, {\"hovertemplate\": \"neighbourhood=The Beaches<br>average_house_value=%{marker.size}<br>lat=%{lat}<br>lon=%{lon}<extra></extra>\", \"lat\": [43.67104999, 43.67104999, 43.67104999, 43.67104999], \"legendgroup\": \"The Beaches\", \"lon\": [-79.29960129999999, -79.29960129999999, -79.29960129999999, -79.29960129999999], \"marker\": {\"color\": \"#FF6692\", \"size\": [404836, 592220, 740764, 927404], \"sizemode\": \"area\", \"sizeref\": 5311.6325}, \"mode\": \"markers\", \"name\": \"The Beaches\", \"showlegend\": true, \"subplot\": \"mapbox\", \"type\": \"scattermapbox\"}, {\"hovertemplate\": \"neighbourhood=Thistletown-Beaumond Heights<br>average_house_value=%{marker.size}<br>lat=%{lat}<br>lon=%{lon}<extra></extra>\", \"lat\": [43.73798792, 43.73798792, 43.73798792, 43.73798792], \"legendgroup\": \"Thistletown-Beaumond Heights\", \"lon\": [-79.56349102, -79.56349102, -79.56349102, -79.56349102], \"marker\": {\"color\": \"#B6E880\", \"size\": [228368, 334072, 417866, 523150], \"sizemode\": \"area\", \"sizeref\": 5311.6325}, \"mode\": \"markers\", \"name\": \"Thistletown-Beaumond Heights\", \"showlegend\": true, \"subplot\": \"mapbox\", \"type\": \"scattermapbox\"}, {\"hovertemplate\": \"neighbourhood=Thorncliffe Park<br>average_house_value=%{marker.size}<br>lat=%{lat}<br>lon=%{lon}<extra></extra>\", \"lat\": [43.70774921, 43.70774921, 43.70774921, 43.70774921], \"legendgroup\": \"Thorncliffe Park\", \"lon\": [-79.34998361, -79.34998361, -79.34998361, -79.34998361], \"marker\": {\"color\": \"#FF97FF\", \"size\": [155094, 226882, 283790, 355293], \"sizemode\": \"area\", \"sizeref\": 5311.6325}, \"mode\": \"markers\", \"name\": \"Thorncliffe Park\", \"showlegend\": true, \"subplot\": \"mapbox\", \"type\": \"scattermapbox\"}, {\"hovertemplate\": \"neighbourhood=Trinity-Bellwoods<br>average_house_value=%{marker.size}<br>lat=%{lat}<br>lon=%{lon}<extra></extra>\", \"lat\": [43.6501763, 43.6501763, 43.6501763, 43.6501763], \"legendgroup\": \"Trinity-Bellwoods\", \"lon\": [-79.41534216, -79.41534216, -79.41534216, -79.41534216], \"marker\": {\"color\": \"#FECB52\", \"size\": [324732, 475039, 594191, 743901], \"sizemode\": \"area\", \"sizeref\": 5311.6325}, \"mode\": \"markers\", \"name\": \"Trinity-Bellwoods\", \"showlegend\": true, \"subplot\": \"mapbox\", \"type\": \"scattermapbox\"}, {\"hovertemplate\": \"neighbourhood=University<br>average_house_value=%{marker.size}<br>lat=%{lat}<br>lon=%{lon}<extra></extra>\", \"lat\": [43.6625062, 43.6625062, 43.6625062, 43.6625062], \"legendgroup\": \"University\", \"lon\": [-79.40117975, -79.40117975, -79.40117975, -79.40117975], \"marker\": {\"color\": \"#636efa\", \"size\": [375678, 549567, 687412, 860610], \"sizemode\": \"area\", \"sizeref\": 5311.6325}, \"mode\": \"markers\", \"name\": \"University\", \"showlegend\": true, \"subplot\": \"mapbox\", \"type\": \"scattermapbox\"}, {\"hovertemplate\": \"neighbourhood=Victoria Village<br>average_house_value=%{marker.size}<br>lat=%{lat}<br>lon=%{lon}<extra></extra>\", \"lat\": [43.72848902, 43.72848902, 43.72848902, 43.72848902], \"legendgroup\": \"Victoria Village\", \"lon\": [-79.31487383, -79.31487383, -79.31487383, -79.31487383], \"marker\": {\"color\": \"#EF553B\", \"size\": [213950, 312980, 391483, 490119], \"sizemode\": \"area\", \"sizeref\": 5311.6325}, \"mode\": \"markers\", \"name\": \"Victoria Village\", \"showlegend\": true, \"subplot\": \"mapbox\", \"type\": \"scattermapbox\"}, {\"hovertemplate\": \"neighbourhood=Waterfront Communities-The Island<br>average_house_value=%{marker.size}<br>lat=%{lat}<br>lon=%{lon}<extra></extra>\", \"lat\": [43.63388036, 43.63388036, 43.63388036, 43.63388036], \"legendgroup\": \"Waterfront Communities-The Island\", \"lon\": [-79.37720231, -79.37720231, -79.37720231, -79.37720231], \"marker\": {\"color\": \"#00cc96\", \"size\": [228975, 334960, 418977, 524540], \"sizemode\": \"area\", \"sizeref\": 5311.6325}, \"mode\": \"markers\", \"name\": \"Waterfront Communities-The Island\", \"showlegend\": true, \"subplot\": \"mapbox\", \"type\": \"scattermapbox\"}, {\"hovertemplate\": \"neighbourhood=West Hill<br>average_house_value=%{marker.size}<br>lat=%{lat}<br>lon=%{lon}<extra></extra>\", \"lat\": [43.76749026, 43.76749026, 43.76749026, 43.76749026], \"legendgroup\": \"West Hill\", \"lon\": [-79.17667603, -79.17667603, -79.17667603, -79.17667603], \"marker\": {\"color\": \"#ab63fa\", \"size\": [172947, 252998, 316456, 396189], \"sizemode\": \"area\", \"sizeref\": 5311.6325}, \"mode\": \"markers\", \"name\": \"West Hill\", \"showlegend\": true, \"subplot\": \"mapbox\", \"type\": \"scattermapbox\"}, {\"hovertemplate\": \"neighbourhood=West Humber-Clairville<br>average_house_value=%{marker.size}<br>lat=%{lat}<br>lon=%{lon}<extra></extra>\", \"lat\": [43.7161804, 43.7161804, 43.7161804, 43.7161804], \"legendgroup\": \"West Humber-Clairville\", \"lon\": [-79.59635645, -79.59635645, -79.59635645, -79.59635645], \"marker\": {\"color\": \"#FFA15A\", \"size\": [208555, 305088, 381612, 477762], \"sizemode\": \"area\", \"sizeref\": 5311.6325}, \"mode\": \"markers\", \"name\": \"West Humber-Clairville\", \"showlegend\": true, \"subplot\": \"mapbox\", \"type\": \"scattermapbox\"}, {\"hovertemplate\": \"neighbourhood=Westminster-Branson<br>average_house_value=%{marker.size}<br>lat=%{lat}<br>lon=%{lon}<extra></extra>\", \"lat\": [43.77881322, 43.77881322, 43.77881322, 43.77881322], \"legendgroup\": \"Westminster-Branson\", \"lon\": [-79.45241823, -79.45241823, -79.45241823, -79.45241823], \"marker\": {\"color\": \"#19d3f3\", \"size\": [212241, 310480, 388356, 486204], \"sizemode\": \"area\", \"sizeref\": 5311.6325}, \"mode\": \"markers\", \"name\": \"Westminster-Branson\", \"showlegend\": true, \"subplot\": \"mapbox\", \"type\": \"scattermapbox\"}, {\"hovertemplate\": \"neighbourhood=Weston<br>average_house_value=%{marker.size}<br>lat=%{lat}<br>lon=%{lon}<extra></extra>\", \"lat\": [43.70271605, 43.70271605, 43.70271605, 43.70271605], \"legendgroup\": \"Weston\", \"lon\": [-79.51572255, -79.51572255, -79.51572255, -79.51572255], \"marker\": {\"color\": \"#FF6692\", \"size\": [187140, 273761, 342427, 428703], \"sizemode\": \"area\", \"sizeref\": 5311.6325}, \"mode\": \"markers\", \"name\": \"Weston\", \"showlegend\": true, \"subplot\": \"mapbox\", \"type\": \"scattermapbox\"}, {\"hovertemplate\": \"neighbourhood=Weston-Pellam Park<br>average_house_value=%{marker.size}<br>lat=%{lat}<br>lon=%{lon}<extra></extra>\", \"lat\": [43.67396204, 43.67396204, 43.67396204, 43.67396204], \"legendgroup\": \"Weston-Pellam Park\", \"lon\": [-79.46024391, -79.46024391, -79.46024391, -79.46024391], \"marker\": {\"color\": \"#B6E880\", \"size\": [213749, 312685, 391115, 489659], \"sizemode\": \"area\", \"sizeref\": 5311.6325}, \"mode\": \"markers\", \"name\": \"Weston-Pellam Park\", \"showlegend\": true, \"subplot\": \"mapbox\", \"type\": \"scattermapbox\"}, {\"hovertemplate\": \"neighbourhood=Wexford/Maryvale<br>average_house_value=%{marker.size}<br>lat=%{lat}<br>lon=%{lon}<extra></extra>\", \"lat\": [43.74857214, 43.74857214, 43.74857214, 43.74857214], \"legendgroup\": \"Wexford/Maryvale\", \"lon\": [-79.29863657, -79.29863657, -79.29863657, -79.29863657], \"marker\": {\"color\": \"#FF97FF\", \"size\": [211633, 309590, 387243, 484811], \"sizemode\": \"area\", \"sizeref\": 5311.6325}, \"mode\": \"markers\", \"name\": \"Wexford/Maryvale\", \"showlegend\": true, \"subplot\": \"mapbox\", \"type\": \"scattermapbox\"}, {\"hovertemplate\": \"neighbourhood=Willowdale East<br>average_house_value=%{marker.size}<br>lat=%{lat}<br>lon=%{lon}<extra></extra>\", \"lat\": [43.77060226, 43.77060226, 43.77060226, 43.77060226], \"legendgroup\": \"Willowdale East\", \"lon\": [-79.40148379, -79.40148379, -79.40148379, -79.40148379], \"marker\": {\"color\": \"#FECB52\", \"size\": [284984, 416893, 521460, 652845], \"sizemode\": \"area\", \"sizeref\": 5311.6325}, \"mode\": \"markers\", \"name\": \"Willowdale East\", \"showlegend\": true, \"subplot\": \"mapbox\", \"type\": \"scattermapbox\"}, {\"hovertemplate\": \"neighbourhood=Willowdale West<br>average_house_value=%{marker.size}<br>lat=%{lat}<br>lon=%{lon}<extra></extra>\", \"lat\": [43.77121049, 43.77121049, 43.77121049, 43.77121049], \"legendgroup\": \"Willowdale West\", \"lon\": [-79.4275578, -79.4275578, -79.4275578, -79.4275578], \"marker\": {\"color\": \"#636efa\", \"size\": [283215, 414306, 518224, 648794], \"sizemode\": \"area\", \"sizeref\": 5311.6325}, \"mode\": \"markers\", \"name\": \"Willowdale West\", \"showlegend\": true, \"subplot\": \"mapbox\", \"type\": \"scattermapbox\"}, {\"hovertemplate\": \"neighbourhood=Willowridge-Martingrove-Richview<br>average_house_value=%{marker.size}<br>lat=%{lat}<br>lon=%{lon}<extra></extra>\", \"lat\": [43.68364496, 43.68364496, 43.68364496, 43.68364496], \"legendgroup\": \"Willowridge-Martingrove-Richview\", \"lon\": [-79.55422105, -79.55422105, -79.55422105, -79.55422105], \"marker\": {\"color\": \"#EF553B\", \"size\": [282087, 412655, 516160, 646210], \"sizemode\": \"area\", \"sizeref\": 5311.6325}, \"mode\": \"markers\", \"name\": \"Willowridge-Martingrove-Richview\", \"showlegend\": true, \"subplot\": \"mapbox\", \"type\": \"scattermapbox\"}, {\"hovertemplate\": \"neighbourhood=Woburn<br>average_house_value=%{marker.size}<br>lat=%{lat}<br>lon=%{lon}<extra></extra>\", \"lat\": [43.76674024, 43.76674024, 43.76674024, 43.76674024], \"legendgroup\": \"Woburn\", \"lon\": [-79.22858577, -79.22858577, -79.22858577, -79.22858577], \"marker\": {\"color\": \"#00cc96\", \"size\": [181367, 265315, 331863, 415478], \"sizemode\": \"area\", \"sizeref\": 5311.6325}, \"mode\": \"markers\", \"name\": \"Woburn\", \"showlegend\": true, \"subplot\": \"mapbox\", \"type\": \"scattermapbox\"}, {\"hovertemplate\": \"neighbourhood=Woodbine Corridor<br>average_house_value=%{marker.size}<br>lat=%{lat}<br>lon=%{lon}<extra></extra>\", \"lat\": [43.67677292, 43.67677292, 43.67677292, 43.67677292], \"legendgroup\": \"Woodbine Corridor\", \"lon\": [-79.31540738, -79.31540738, -79.31540738, -79.31540738], \"marker\": {\"color\": \"#ab63fa\", \"size\": [270607, 395861, 495153, 619910], \"sizemode\": \"area\", \"sizeref\": 5311.6325}, \"mode\": \"markers\", \"name\": \"Woodbine Corridor\", \"showlegend\": true, \"subplot\": \"mapbox\", \"type\": \"scattermapbox\"}, {\"hovertemplate\": \"neighbourhood=Woodbine-Lumsden<br>average_house_value=%{marker.size}<br>lat=%{lat}<br>lon=%{lon}<extra></extra>\", \"lat\": [43.69410674, 43.69410674, 43.69410674, 43.69410674], \"legendgroup\": \"Woodbine-Lumsden\", \"lon\": [-79.31116353, -79.31116353, -79.31116353, -79.31116353], \"marker\": {\"color\": \"#FFA15A\", \"size\": [224756, 328788, 411256, 514874], \"sizemode\": \"area\", \"sizeref\": 5311.6325}, \"mode\": \"markers\", \"name\": \"Woodbine-Lumsden\", \"showlegend\": true, \"subplot\": \"mapbox\", \"type\": \"scattermapbox\"}, {\"hovertemplate\": \"neighbourhood=Wychwood<br>average_house_value=%{marker.size}<br>lat=%{lat}<br>lon=%{lon}<extra></extra>\", \"lat\": [43.67691927, 43.67691927, 43.67691927, 43.67691927], \"legendgroup\": \"Wychwood\", \"lon\": [-79.42551495, -79.42551495, -79.42551495, -79.42551495], \"marker\": {\"color\": \"#19d3f3\", \"size\": [343877, 503046, 629223, 787760], \"sizemode\": \"area\", \"sizeref\": 5311.6325}, \"mode\": \"markers\", \"name\": \"Wychwood\", \"showlegend\": true, \"subplot\": \"mapbox\", \"type\": \"scattermapbox\"}, {\"hovertemplate\": \"neighbourhood=Yonge-Eglinton<br>average_house_value=%{marker.size}<br>lat=%{lat}<br>lon=%{lon}<extra></extra>\", \"lat\": [43.70468937, 43.70468937, 43.70468937, 43.70468937], \"legendgroup\": \"Yonge-Eglinton\", \"lon\": [-79.40359017, -79.40359017, -79.40359017, -79.40359017], \"marker\": {\"color\": \"#FF6692\", \"size\": [491987, 719711, 900233, 1127052], \"sizemode\": \"area\", \"sizeref\": 5311.6325}, \"mode\": \"markers\", \"name\": \"Yonge-Eglinton\", \"showlegend\": true, \"subplot\": \"mapbox\", \"type\": \"scattermapbox\"}, {\"hovertemplate\": \"neighbourhood=Yonge-St.Clair<br>average_house_value=%{marker.size}<br>lat=%{lat}<br>lon=%{lon}<extra></extra>\", \"lat\": [43.68785887, 43.68785887, 43.68785887, 43.68785887], \"legendgroup\": \"Yonge-St.Clair\", \"lon\": [-79.39787077, -79.39787077, -79.39787077, -79.39787077], \"marker\": {\"color\": \"#B6E880\", \"size\": [494098, 722799, 904096, 1131888], \"sizemode\": \"area\", \"sizeref\": 5311.6325}, \"mode\": \"markers\", \"name\": \"Yonge-St.Clair\", \"showlegend\": true, \"subplot\": \"mapbox\", \"type\": \"scattermapbox\"}, {\"hovertemplate\": \"neighbourhood=York University Heights<br>average_house_value=%{marker.size}<br>lat=%{lat}<br>lon=%{lon}<extra></extra>\", \"lat\": [43.76573649, 43.76573649, 43.76573649, 43.76573649], \"legendgroup\": \"York University Heights\", \"lon\": [-79.48888293, -79.48888293, -79.48888293, -79.48888293], \"marker\": {\"color\": \"#FF97FF\", \"size\": [185859, 271887, 340083, 425769], \"sizemode\": \"area\", \"sizeref\": 5311.6325}, \"mode\": \"markers\", \"name\": \"York University Heights\", \"showlegend\": true, \"subplot\": \"mapbox\", \"type\": \"scattermapbox\"}, {\"hovertemplate\": \"neighbourhood=Yorkdale-Glen Park<br>average_house_value=%{marker.size}<br>lat=%{lat}<br>lon=%{lon}<extra></extra>\", \"lat\": [43.71467153, 43.71467153, 43.71467153, 43.71467153], \"legendgroup\": \"Yorkdale-Glen Park\", \"lon\": [-79.45710807, -79.45710807, -79.45710807, -79.45710807], \"marker\": {\"color\": \"#FECB52\", \"size\": [261784, 382954, 479009, 599698], \"sizemode\": \"area\", \"sizeref\": 5311.6325}, \"mode\": \"markers\", \"name\": \"Yorkdale-Glen Park\", \"showlegend\": true, \"subplot\": \"mapbox\", \"type\": \"scattermapbox\"}],                        {\"legend\": {\"itemsizing\": \"constant\", \"title\": {\"text\": \"neighbourhood\"}, \"tracegroupgap\": 0}, \"mapbox\": {\"center\": {\"lat\": 43.70884057764286, \"lon\": -79.40018550349994}, \"domain\": {\"x\": [0.0, 1.0], \"y\": [0.0, 1.0]}, \"zoom\": 8}, \"margin\": {\"t\": 60}, \"template\": {\"data\": {\"bar\": [{\"error_x\": {\"color\": \"#2a3f5f\"}, \"error_y\": {\"color\": \"#2a3f5f\"}, \"marker\": {\"line\": {\"color\": \"#E5ECF6\", \"width\": 0.5}}, \"type\": \"bar\"}], \"barpolar\": [{\"marker\": {\"line\": {\"color\": \"#E5ECF6\", \"width\": 0.5}}, \"type\": \"barpolar\"}], \"carpet\": [{\"aaxis\": {\"endlinecolor\": \"#2a3f5f\", \"gridcolor\": \"white\", \"linecolor\": \"white\", \"minorgridcolor\": \"white\", \"startlinecolor\": \"#2a3f5f\"}, \"baxis\": {\"endlinecolor\": \"#2a3f5f\", \"gridcolor\": \"white\", \"linecolor\": \"white\", \"minorgridcolor\": \"white\", \"startlinecolor\": \"#2a3f5f\"}, \"type\": \"carpet\"}], \"choropleth\": [{\"colorbar\": {\"outlinewidth\": 0, \"ticks\": \"\"}, \"type\": \"choropleth\"}], \"contour\": [{\"colorbar\": {\"outlinewidth\": 0, \"ticks\": \"\"}, \"colorscale\": [[0.0, \"#0d0887\"], [0.1111111111111111, \"#46039f\"], [0.2222222222222222, \"#7201a8\"], [0.3333333333333333, \"#9c179e\"], [0.4444444444444444, \"#bd3786\"], [0.5555555555555556, \"#d8576b\"], [0.6666666666666666, \"#ed7953\"], [0.7777777777777778, \"#fb9f3a\"], [0.8888888888888888, \"#fdca26\"], [1.0, \"#f0f921\"]], \"type\": \"contour\"}], \"contourcarpet\": [{\"colorbar\": {\"outlinewidth\": 0, \"ticks\": \"\"}, \"type\": \"contourcarpet\"}], \"heatmap\": [{\"colorbar\": {\"outlinewidth\": 0, \"ticks\": \"\"}, \"colorscale\": [[0.0, \"#0d0887\"], [0.1111111111111111, \"#46039f\"], [0.2222222222222222, \"#7201a8\"], [0.3333333333333333, \"#9c179e\"], [0.4444444444444444, \"#bd3786\"], [0.5555555555555556, \"#d8576b\"], [0.6666666666666666, \"#ed7953\"], [0.7777777777777778, \"#fb9f3a\"], [0.8888888888888888, \"#fdca26\"], [1.0, \"#f0f921\"]], \"type\": \"heatmap\"}], \"heatmapgl\": [{\"colorbar\": {\"outlinewidth\": 0, \"ticks\": \"\"}, \"colorscale\": [[0.0, \"#0d0887\"], [0.1111111111111111, \"#46039f\"], [0.2222222222222222, \"#7201a8\"], [0.3333333333333333, \"#9c179e\"], [0.4444444444444444, \"#bd3786\"], [0.5555555555555556, \"#d8576b\"], [0.6666666666666666, \"#ed7953\"], [0.7777777777777778, \"#fb9f3a\"], [0.8888888888888888, \"#fdca26\"], [1.0, \"#f0f921\"]], \"type\": \"heatmapgl\"}], \"histogram\": [{\"marker\": {\"colorbar\": {\"outlinewidth\": 0, \"ticks\": \"\"}}, \"type\": \"histogram\"}], \"histogram2d\": [{\"colorbar\": {\"outlinewidth\": 0, \"ticks\": \"\"}, \"colorscale\": [[0.0, \"#0d0887\"], [0.1111111111111111, \"#46039f\"], [0.2222222222222222, \"#7201a8\"], [0.3333333333333333, \"#9c179e\"], [0.4444444444444444, \"#bd3786\"], [0.5555555555555556, \"#d8576b\"], [0.6666666666666666, \"#ed7953\"], [0.7777777777777778, \"#fb9f3a\"], [0.8888888888888888, \"#fdca26\"], [1.0, \"#f0f921\"]], \"type\": \"histogram2d\"}], \"histogram2dcontour\": [{\"colorbar\": {\"outlinewidth\": 0, \"ticks\": \"\"}, \"colorscale\": [[0.0, \"#0d0887\"], [0.1111111111111111, \"#46039f\"], [0.2222222222222222, \"#7201a8\"], [0.3333333333333333, \"#9c179e\"], [0.4444444444444444, \"#bd3786\"], [0.5555555555555556, \"#d8576b\"], [0.6666666666666666, \"#ed7953\"], [0.7777777777777778, \"#fb9f3a\"], [0.8888888888888888, \"#fdca26\"], [1.0, \"#f0f921\"]], \"type\": \"histogram2dcontour\"}], \"mesh3d\": [{\"colorbar\": {\"outlinewidth\": 0, \"ticks\": \"\"}, \"type\": \"mesh3d\"}], \"parcoords\": [{\"line\": {\"colorbar\": {\"outlinewidth\": 0, \"ticks\": \"\"}}, \"type\": \"parcoords\"}], \"pie\": [{\"automargin\": true, \"type\": \"pie\"}], \"scatter\": [{\"marker\": {\"colorbar\": {\"outlinewidth\": 0, \"ticks\": \"\"}}, \"type\": \"scatter\"}], \"scatter3d\": [{\"line\": {\"colorbar\": {\"outlinewidth\": 0, \"ticks\": \"\"}}, \"marker\": {\"colorbar\": {\"outlinewidth\": 0, \"ticks\": \"\"}}, \"type\": \"scatter3d\"}], \"scattercarpet\": [{\"marker\": {\"colorbar\": {\"outlinewidth\": 0, \"ticks\": \"\"}}, \"type\": \"scattercarpet\"}], \"scattergeo\": [{\"marker\": {\"colorbar\": {\"outlinewidth\": 0, \"ticks\": \"\"}}, \"type\": \"scattergeo\"}], \"scattergl\": [{\"marker\": {\"colorbar\": {\"outlinewidth\": 0, \"ticks\": \"\"}}, \"type\": \"scattergl\"}], \"scattermapbox\": [{\"marker\": {\"colorbar\": {\"outlinewidth\": 0, \"ticks\": \"\"}}, \"type\": \"scattermapbox\"}], \"scatterpolar\": [{\"marker\": {\"colorbar\": {\"outlinewidth\": 0, \"ticks\": \"\"}}, \"type\": \"scatterpolar\"}], \"scatterpolargl\": [{\"marker\": {\"colorbar\": {\"outlinewidth\": 0, \"ticks\": \"\"}}, \"type\": \"scatterpolargl\"}], \"scatterternary\": [{\"marker\": {\"colorbar\": {\"outlinewidth\": 0, \"ticks\": \"\"}}, \"type\": \"scatterternary\"}], \"surface\": [{\"colorbar\": {\"outlinewidth\": 0, \"ticks\": \"\"}, \"colorscale\": [[0.0, \"#0d0887\"], [0.1111111111111111, \"#46039f\"], [0.2222222222222222, \"#7201a8\"], [0.3333333333333333, \"#9c179e\"], [0.4444444444444444, \"#bd3786\"], [0.5555555555555556, \"#d8576b\"], [0.6666666666666666, \"#ed7953\"], [0.7777777777777778, \"#fb9f3a\"], [0.8888888888888888, \"#fdca26\"], [1.0, \"#f0f921\"]], \"type\": \"surface\"}], \"table\": [{\"cells\": {\"fill\": {\"color\": \"#EBF0F8\"}, \"line\": {\"color\": \"white\"}}, \"header\": {\"fill\": {\"color\": \"#C8D4E3\"}, \"line\": {\"color\": \"white\"}}, \"type\": \"table\"}]}, \"layout\": {\"annotationdefaults\": {\"arrowcolor\": \"#2a3f5f\", \"arrowhead\": 0, \"arrowwidth\": 1}, \"autotypenumbers\": \"strict\", \"coloraxis\": {\"colorbar\": {\"outlinewidth\": 0, \"ticks\": \"\"}}, \"colorscale\": {\"diverging\": [[0, \"#8e0152\"], [0.1, \"#c51b7d\"], [0.2, \"#de77ae\"], [0.3, \"#f1b6da\"], [0.4, \"#fde0ef\"], [0.5, \"#f7f7f7\"], [0.6, \"#e6f5d0\"], [0.7, \"#b8e186\"], [0.8, \"#7fbc41\"], [0.9, \"#4d9221\"], [1, \"#276419\"]], \"sequential\": [[0.0, \"#0d0887\"], [0.1111111111111111, \"#46039f\"], [0.2222222222222222, \"#7201a8\"], [0.3333333333333333, \"#9c179e\"], [0.4444444444444444, \"#bd3786\"], [0.5555555555555556, \"#d8576b\"], [0.6666666666666666, \"#ed7953\"], [0.7777777777777778, \"#fb9f3a\"], [0.8888888888888888, \"#fdca26\"], [1.0, \"#f0f921\"]], \"sequentialminus\": [[0.0, \"#0d0887\"], [0.1111111111111111, \"#46039f\"], [0.2222222222222222, \"#7201a8\"], [0.3333333333333333, \"#9c179e\"], [0.4444444444444444, \"#bd3786\"], [0.5555555555555556, \"#d8576b\"], [0.6666666666666666, \"#ed7953\"], [0.7777777777777778, \"#fb9f3a\"], [0.8888888888888888, \"#fdca26\"], [1.0, \"#f0f921\"]]}, \"colorway\": [\"#636efa\", \"#EF553B\", \"#00cc96\", \"#ab63fa\", \"#FFA15A\", \"#19d3f3\", \"#FF6692\", \"#B6E880\", \"#FF97FF\", \"#FECB52\"], \"font\": {\"color\": \"#2a3f5f\"}, \"geo\": {\"bgcolor\": \"white\", \"lakecolor\": \"white\", \"landcolor\": \"#E5ECF6\", \"showlakes\": true, \"showland\": true, \"subunitcolor\": \"white\"}, \"hoverlabel\": {\"align\": \"left\"}, \"hovermode\": \"closest\", \"mapbox\": {\"style\": \"light\"}, \"paper_bgcolor\": \"white\", \"plot_bgcolor\": \"#E5ECF6\", \"polar\": {\"angularaxis\": {\"gridcolor\": \"white\", \"linecolor\": \"white\", \"ticks\": \"\"}, \"bgcolor\": \"#E5ECF6\", \"radialaxis\": {\"gridcolor\": \"white\", \"linecolor\": \"white\", \"ticks\": \"\"}}, \"scene\": {\"xaxis\": {\"backgroundcolor\": \"#E5ECF6\", \"gridcolor\": \"white\", \"gridwidth\": 2, \"linecolor\": \"white\", \"showbackground\": true, \"ticks\": \"\", \"zerolinecolor\": \"white\"}, \"yaxis\": {\"backgroundcolor\": \"#E5ECF6\", \"gridcolor\": \"white\", \"gridwidth\": 2, \"linecolor\": \"white\", \"showbackground\": true, \"ticks\": \"\", \"zerolinecolor\": \"white\"}, \"zaxis\": {\"backgroundcolor\": \"#E5ECF6\", \"gridcolor\": \"white\", \"gridwidth\": 2, \"linecolor\": \"white\", \"showbackground\": true, \"ticks\": \"\", \"zerolinecolor\": \"white\"}}, \"shapedefaults\": {\"line\": {\"color\": \"#2a3f5f\"}}, \"ternary\": {\"aaxis\": {\"gridcolor\": \"white\", \"linecolor\": \"white\", \"ticks\": \"\"}, \"baxis\": {\"gridcolor\": \"white\", \"linecolor\": \"white\", \"ticks\": \"\"}, \"bgcolor\": \"#E5ECF6\", \"caxis\": {\"gridcolor\": \"white\", \"linecolor\": \"white\", \"ticks\": \"\"}}, \"title\": {\"x\": 0.05}, \"xaxis\": {\"automargin\": true, \"gridcolor\": \"white\", \"linecolor\": \"white\", \"ticks\": \"\", \"title\": {\"standoff\": 15}, \"zerolinecolor\": \"white\", \"zerolinewidth\": 2}, \"yaxis\": {\"automargin\": true, \"gridcolor\": \"white\", \"linecolor\": \"white\", \"ticks\": \"\", \"title\": {\"standoff\": 15}, \"zerolinecolor\": \"white\", \"zerolinewidth\": 2}}}},                        {\"responsive\": true}                    ).then(function(){\n",
       "                            \n",
       "var gd = document.getElementById('69cec6b4-3368-442c-b360-2cba3dd09c7d');\n",
       "var x = new MutationObserver(function (mutations, observer) {{\n",
       "        var display = window.getComputedStyle(gd).display;\n",
       "        if (!display || display === 'none') {{\n",
       "            console.log([gd, 'removed!']);\n",
       "            Plotly.purge(gd);\n",
       "            observer.disconnect();\n",
       "        }}\n",
       "}});\n",
       "\n",
       "// Listen for the removal of the full notebook cells\n",
       "var notebookContainer = gd.closest('#notebook-container');\n",
       "if (notebookContainer) {{\n",
       "    x.observe(notebookContainer, {childList: true});\n",
       "}}\n",
       "\n",
       "// Listen for the clearing of the current output cell\n",
       "var outputEl = gd.closest('.output');\n",
       "if (outputEl) {{\n",
       "    x.observe(outputEl, {childList: true});\n",
       "}}\n",
       "\n",
       "                        })                };                });            </script>        </div>"
      ]
     },
     "metadata": {},
     "output_type": "display_data"
    }
   ],
   "source": [
    "# Create a scatter mapbox to analyze neighbourhood info\n",
    "map_plot = px.scatter_mapbox(\n",
    "    combined_df,\n",
    "    lat=\"lat\",\n",
    "    lon=\"lon\",\n",
    "    size=\"average_house_value\",\n",
    "    color=\"neighbourhood\")\n",
    "\n",
    "map_plot.show()"
   ]
  },
  {
   "cell_type": "markdown",
   "metadata": {},
   "source": [
    "- - -"
   ]
  },
  {
   "cell_type": "code",
   "execution_count": null,
   "metadata": {},
   "outputs": [],
   "source": [
    "map_plot = px.scatter_mapbox(\n",
    "    combined_df,\n",
    "    lat=\"lat\",\n",
    "    lon=\"lon\",\n",
    "    size=\"average_house_value\",\n",
    "    color=\"neighbourhood\",\n",
    "    zoom=10,\n",
    "    title=\"Average Sale Price per Square Foot and Gross Rent in San Francisco\"\n",
    ")\n",
    "\n",
    "map_plot.show()"
   ]
  },
  {
   "cell_type": "markdown",
   "metadata": {},
   "source": [
    "## Cost Analysis - Optional Challenge\n",
    "\n",
    "In this section, you will use Plotly express to a couple of plots that investors can interactively filter and explore various factors related to the house value of the Toronto's neighbourhoods. \n",
    "\n",
    "### Create a bar chart row facet to plot the average house values for all Toronto's neighbourhoods per year"
   ]
  },
  {
   "cell_type": "code",
   "execution_count": null,
   "metadata": {},
   "outputs": [],
   "source": [
    "# YOUR CODE HERE!"
   ]
  },
  {
   "cell_type": "markdown",
   "metadata": {},
   "source": [
    "### Create a sunburst chart to conduct a costs analysis of most expensive neighbourhoods in Toronto per year"
   ]
  },
  {
   "cell_type": "code",
   "execution_count": null,
   "metadata": {},
   "outputs": [],
   "source": [
    "# Fetch the data from all expensive neighbourhoods per year.\n",
    "# YOUR CODE HERE!"
   ]
  },
  {
   "cell_type": "code",
   "execution_count": null,
   "metadata": {},
   "outputs": [],
   "source": [
    "# Create the sunburst chart\n",
    "# YOUR CODE HERE!"
   ]
  }
 ],
 "metadata": {
  "file_extension": ".py",
  "kernelspec": {
   "display_name": "Python [conda env:pyviz] *",
   "language": "python",
   "name": "conda-env-pyviz-py"
  },
  "language_info": {
   "codemirror_mode": {
    "name": "ipython",
    "version": 3
   },
   "file_extension": ".py",
   "mimetype": "text/x-python",
   "name": "python",
   "nbconvert_exporter": "python",
   "pygments_lexer": "ipython3",
   "version": "3.7.10"
  },
  "mimetype": "text/x-python",
  "name": "python",
  "npconvert_exporter": "python",
  "pygments_lexer": "ipython3",
  "version": 3
 },
 "nbformat": 4,
 "nbformat_minor": 4
}
